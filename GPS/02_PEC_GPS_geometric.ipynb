{
 "cells": [
  {
   "cell_type": "markdown",
   "id": "90253e47-c9e8-476a-8a92-306d47026cf1",
   "metadata": {},
   "source": [
    "Cloverleaf / Geometric Method"
   ]
  },
  {
   "cell_type": "markdown",
   "id": "f5ae6f4c-742e-4ab2-9e34-deb6d6c41dba",
   "metadata": {},
   "source": [
    "### Preamble"
   ]
  },
  {
   "cell_type": "markdown",
   "id": "b37c438d-a191-450d-8cb0-2b912a0248e7",
   "metadata": {},
   "source": [
    "Version Control\n",
    "\n",
    "v1.0 - initial release"
   ]
  },
  {
   "cell_type": "code",
   "execution_count": null,
   "id": "e48ffafc-a61a-44ec-8529-4e4d04221422",
   "metadata": {},
   "outputs": [],
   "source": [
    "# imports\n",
    "\n",
    "import numpy as np\n",
    "import matplotlib.pyplot as plt\n",
    "plt.style.use('dark_background')"
   ]
  },
  {
   "cell_type": "code",
   "execution_count": null,
   "id": "d8e854af-43e4-4e64-ac79-2a2cbeaa595f",
   "metadata": {},
   "outputs": [],
   "source": [
    "# constants and conversion factors\n",
    "\n",
    "m2ft = 3.28084\n",
    "ft2m = 1 / m2ft\n",
    "kt2ms = 1852 / 60 / 60 # 1 nm in meters; from hours to seconds\n",
    "ms2kt = 1 / kt2ms\n",
    "C2K = 273.15\n",
    "d2r = np.pi / 180\n",
    "r2d = 1 / d2r"
   ]
  },
  {
   "cell_type": "code",
   "execution_count": null,
   "id": "5f37182f-77ab-447c-9943-243fd0598166",
   "metadata": {},
   "outputs": [],
   "source": [
    "# International Standard Atmosphere\n",
    "\n",
    "T0 = 15 + C2K # (K)\n",
    "p0 = 101325 # (Pa)\n",
    "L = -6.5 / 1000 # (K/m)\n",
    "a0 = 340.3 # (m/s)\n",
    "rho0 = 1.225 # (kg/m3)\n",
    "R =  p0 / (rho0 * T0) # air, specific, std ISA in (J/kg)/K\n",
    "g_zero = 9.80665 # (m/s2)\n",
    "gamma = 1.4 # adiabatic index for air\n",
    "Cp = 1006 # (J/kg)/K"
   ]
  },
  {
   "cell_type": "code",
   "execution_count": null,
   "id": "dbf6db7c-84d5-475a-a2f6-799c51b4bd08",
   "metadata": {},
   "outputs": [],
   "source": [
    "# data from airplane / instruments calibration\n",
    "\n",
    "#  speeds\n",
    "Vmo = 350 # (kts)\n",
    "Vsr0 = 105 # (kts)\n",
    "\n",
    "#  instrument errors\n",
    "delta_Vic = 2 # (kts)\n",
    "delta_Hic = -20 # (ft)\n",
    "delta_Tic = -1 # (C)\n",
    "Kt = 1.0 # temperature recovery factor"
   ]
  },
  {
   "cell_type": "code",
   "execution_count": null,
   "id": "07abae92-7229-4dc8-987c-484cd592a6a8",
   "metadata": {},
   "outputs": [],
   "source": [
    "# FT data\n",
    "\n",
    "# from airplane anemometry\n",
    "Vi = np.array([117, 116, 118]) # (KIAS)\n",
    "Hi = np.array([6000, 6000, 6000]) # (ft)\n",
    "Ti = np.array([11, 11, 11]) # (C)\n",
    "\n",
    "# from airplane GPS\n",
    "Vg = np.array([138, 133, 120]) # (Kts)\n",
    "sigma_g = np.array([7, 114, 234]) # (degrees)"
   ]
  },
  {
   "cell_type": "markdown",
   "id": "3666e1ab-0f4a-433e-8fd5-43833f1f1583",
   "metadata": {},
   "source": [
    "## Anemometric Side"
   ]
  },
  {
   "cell_type": "markdown",
   "id": "b9b1806d-218b-48bd-8633-569849e749fe",
   "metadata": {
    "tags": []
   },
   "source": [
    "### Correct for Instrument Errors\n",
    "\n",
    "$V_{ic}=V{i}+\\Delta V_{ic}$\n",
    "\n",
    "$H_{ic}=H_{Pi}+\\Delta H_{ic}$\n",
    "\n",
    "$T_{ic}=T_{i}+\\Delta T_{ic}$"
   ]
  },
  {
   "cell_type": "code",
   "execution_count": null,
   "id": "7e8ab4f8-bb5a-42cd-a1a4-60faaa87842e",
   "metadata": {},
   "outputs": [],
   "source": [
    "Vic = Vi + delta_Vic # (kts)\n",
    "Hic = Hi + delta_Hic # (ft)\n",
    "Tic = Ti + delta_Tic + C2K # (K)\n",
    "print(f'Vic = {Vic} KIAS')\n",
    "print(f'Hic = {Hic} ft')\n",
    "print(f'Tic = {Tic} K')"
   ]
  },
  {
   "cell_type": "markdown",
   "id": "49b0bb1a-77f7-4408-89ed-3b88e6422fb8",
   "metadata": {},
   "source": [
    "Find the $\\frac{q_{cic}}{P_0}$ ratio, which will be used to find the Mach number and static port position error later:\n",
    "\n",
    "$\\frac{q_{cic}}{P_0}=(1+0.2(\\frac{V_{ic}}{a_0})^2)^{\\frac{7}{2}}-1$ "
   ]
  },
  {
   "cell_type": "code",
   "execution_count": null,
   "id": "b56839dc-c48f-44db-a12f-8d7bd6d609e8",
   "metadata": {},
   "outputs": [],
   "source": [
    "qcic_over_p0 = (1 + 0.2 * ((Vic * kt2ms) / a0)**2)**(7 / 2) - 1\n",
    "print(f'qcic_over_p0: {qcic_over_p0}')"
   ]
  },
  {
   "cell_type": "markdown",
   "id": "31451541-f389-4e36-99b3-9e5fd78aadc9",
   "metadata": {},
   "source": [
    "Calculate the pressure ratio $\\delta_{ic}$\n",
    "\n",
    "$\\delta_{ic}=(1 + \\frac{L}{T_0}*H_{ic}^{(\\frac{-g_0}{R * L})})$"
   ]
  },
  {
   "cell_type": "code",
   "execution_count": null,
   "id": "401eb5d3-317b-40c5-addc-1c633f07dfe7",
   "metadata": {},
   "outputs": [],
   "source": [
    "deltaISA_ic = (1 + L / T0 * (Hic * ft2m))**(-g_zero / (R * L))\n",
    "print(f'deltaISA_ic: {deltaISA_ic}')"
   ]
  },
  {
   "cell_type": "markdown",
   "id": "88f3e020-f7e6-4334-b734-aeff40bf96b5",
   "metadata": {
    "tags": []
   },
   "source": [
    "Find:\n",
    "\n",
    "$\\frac{q_{cic}}{p_s}=\\frac{q_{cic}}{p_0}*\\frac{p_0}{p_s}=\\frac{q_{cic}}{p_0}*\\frac{1}{\\delta_{ic}}$ "
   ]
  },
  {
   "cell_type": "code",
   "execution_count": null,
   "id": "fc2f4517-b1f7-4c9d-8b94-5ecfc11158a3",
   "metadata": {},
   "outputs": [],
   "source": [
    "qcic_over_ps = qcic_over_p0 / deltaISA_ic\n",
    "print(f'qcic_over_ps: {qcic_over_ps}')"
   ]
  },
  {
   "cell_type": "markdown",
   "id": "23240a5e-6bc9-4968-bad8-b7c713bdb6d7",
   "metadata": {},
   "source": [
    "and the indicated Mach number from:\n",
    "\n",
    "$M_{ic} = \\sqrt{5*[(\\frac{q_{cic}}{p_s}+1)^{\\frac{2}{7}}-1]}$"
   ]
  },
  {
   "cell_type": "code",
   "execution_count": null,
   "id": "7cf49b99-168b-47ed-9004-9e87b2533bb9",
   "metadata": {},
   "outputs": [],
   "source": [
    "Mic = np.sqrt(5 * ((qcic_over_ps + 1)**(2/7) - 1))\n",
    "print(f'Indicated Mach number: {Mic}')"
   ]
  },
  {
   "cell_type": "markdown",
   "id": "2f3d809b-0ba8-4eec-957b-e1471cda3379",
   "metadata": {},
   "source": [
    "Then, from indicated $M_{ic}$, total over static port pressure ratio ->   $\\frac{p_T}{p_s}=(1+0.2 M_{ic}^2)^\\frac{7}{2}$"
   ]
  },
  {
   "cell_type": "code",
   "execution_count": null,
   "id": "4b8addef-0b36-468d-bb08-3681badff6fd",
   "metadata": {
    "tags": []
   },
   "outputs": [],
   "source": [
    "pt_over_ps = (1 + 0.2 * Mic.mean()**2)**(7 / 2)\n",
    "print(f'pt_over_ps: {pt_over_ps}')"
   ]
  },
  {
   "cell_type": "markdown",
   "id": "5f2c1af3-f043-40b8-81df-0d4c3a12907a",
   "metadata": {},
   "source": [
    "## Cloverleaf / Geometric Method"
   ]
  },
  {
   "cell_type": "markdown",
   "id": "9361cf41-3e1a-4a8d-9a13-da6dfebf0a7a",
   "metadata": {},
   "source": [
    "![038](pictures/wind_triangles.png)"
   ]
  },
  {
   "cell_type": "markdown",
   "id": "705bddc9-f296-49e5-9d47-26fee9cda8ad",
   "metadata": {},
   "source": [
    "## GPS Side"
   ]
  },
  {
   "cell_type": "markdown",
   "id": "dd2dcffc-100b-4a8a-9622-f969ae84809c",
   "metadata": {},
   "source": [
    "First step is to find the East and North components of the ground speed:\n",
    "\n",
    "$V_{g_E}=V{g}*sin( \\sigma_g)$ and\n",
    "\n",
    "$V_{g_N}=V{g}*cos( \\sigma_g)$"
   ]
  },
  {
   "cell_type": "code",
   "execution_count": null,
   "id": "207e8cf8-432e-444c-9438-9d3710ba441a",
   "metadata": {},
   "outputs": [],
   "source": [
    "# ground speed components\n",
    "\n",
    "VgE = Vg * np.sin(sigma_g * d2r)\n",
    "VgN = Vg * np.cos(sigma_g * d2r)"
   ]
  },
  {
   "cell_type": "markdown",
   "id": "d0a92003-b2e3-4f63-9baa-32500c555b78",
   "metadata": {},
   "source": [
    "![042](pictures/GPS_geometric_method_14.png)"
   ]
  },
  {
   "cell_type": "markdown",
   "id": "3488f426-6c40-4da1-8542-834fd126fd99",
   "metadata": {},
   "source": [
    "## Bisectors\n",
    "\n",
    "line between $V_{g_{1}}$ and $V_{g_{2}}$\n",
    "\n",
    "The midpoint is easy:\n",
    "\n",
    "$(X_{mid_{1,2}}, Y_{mid_{1,2}}) = (\\frac{V_{gx_{1}}+V_{gx_{2}}}{2},\\frac{V_{gy_{1}}+V_{gy_{2}}}{2})$"
   ]
  },
  {
   "cell_type": "code",
   "execution_count": null,
   "id": "aec93781-c871-41d5-b7f0-036763e83025",
   "metadata": {},
   "outputs": [],
   "source": [
    "# midpoints\n",
    "\n",
    "# runs 1-2\n",
    "X_mid12 = (VgE[0] + VgE[1]) / 2\n",
    "Y_mid12 = (VgN[0] + VgN[1]) / 2\n",
    "# runs 1-3\n",
    "X_mid13 = (VgE[0] + VgE[2]) / 2\n",
    "Y_mid13 = (VgN[0] + VgN[2]) / 2\n",
    "# runs 2-3\n",
    "X_mid23 = (VgE[1] + VgE[2]) / 2\n",
    "Y_mid23 = (VgN[1] + VgN[2]) / 2"
   ]
  },
  {
   "cell_type": "markdown",
   "id": "13f4635b-d8f5-4526-9e0c-aff0a5469341",
   "metadata": {},
   "source": [
    "The slope is rise over run: \n",
    "\n",
    "$Slope_{1,2}=\\frac{V_{gN_{2}}-V_{gN_{1}}}{V_{gE_{2}}-V_{gE_{1}}}$"
   ]
  },
  {
   "cell_type": "code",
   "execution_count": null,
   "id": "d8da65fc-39c5-438c-b194-7ec035bb37b9",
   "metadata": {},
   "outputs": [],
   "source": [
    "# slopes\n",
    "\n",
    "# runs 1-2\n",
    "m12 = (VgN[1] - VgN[0]) / (VgE[1] - VgE[0])\n",
    "# runs 1-3\n",
    "m13 = (VgN[2] - VgN[0]) / (VgE[2] - VgE[0])\n",
    "# runs 2-3\n",
    "m23 = (VgN[1] - VgN[2]) / (VgE[1] - VgE[2])"
   ]
  },
  {
   "cell_type": "markdown",
   "id": "371b4c91-9d9b-4db0-8f0e-32d6368e0124",
   "metadata": {},
   "source": [
    "To get the slope of the perpendicular, we get its negative inverse:\n",
    "\n",
    "$Slope_{1,2_{\\perp}}=-\\frac{1}{Slope_{1,2}}$"
   ]
  },
  {
   "cell_type": "code",
   "execution_count": null,
   "id": "266de368-43d8-4c1b-bdd8-cb09a1150448",
   "metadata": {},
   "outputs": [],
   "source": [
    "# perpendicular slopes\n",
    "\n",
    "# runs 1-2\n",
    "m12_p = -1 / m12\n",
    "# runs 1-3\n",
    "m13_p = -1 / m13\n",
    "# runs 2-3\n",
    "m23_p = -1 / m23"
   ]
  },
  {
   "cell_type": "markdown",
   "id": "42b3b5c9-28ab-443f-9fb0-14dc24d18033",
   "metadata": {},
   "source": [
    "From the equation for a line: $y=mx+b$, we can isolate the intercept to get $b=y-mx$\n",
    "\n",
    "Let's call $Slope_{1,2_{\\perp}}=m_{1,2p}$;\n",
    "\n",
    "$b_{1,2}=Y_{mid_{1,2}}-m_{1,2p}*(X_{mid_{1,2}})$"
   ]
  },
  {
   "cell_type": "code",
   "execution_count": null,
   "id": "1146fdc6-cf26-46bd-aea2-64b44c5ce42d",
   "metadata": {},
   "outputs": [],
   "source": [
    "# line intercepts\n",
    "\n",
    "# runs 1-2\n",
    "b12 = Y_mid12 - m12_p * X_mid12\n",
    "# runs 1-3\n",
    "b13 = Y_mid13 - m13_p * X_mid13\n",
    "# runs 2-3\n",
    "b23 = Y_mid23 - m23_p * X_mid23"
   ]
  },
  {
   "cell_type": "markdown",
   "id": "e3df6145-a45d-47cb-83e4-bb3b12fe57f8",
   "metadata": {},
   "source": [
    "We can use the equations for the 2 bisectors and get their intersection:\n",
    "\n",
    "\n",
    "$Y_{intcpt}=m_{1,2p} X_{intcpt} + b_{1,2}$ for the bisector line between $V_{g_{1}}$ and $V_{g_{2}}$\n",
    "\n",
    "$Y_{intcpt}=m_{1,3p} X_{intcpt} + b_{1,3}$ for the bisector line between $V_{g_{1}}$ and $V_{g_{3}}$\n",
    "\n",
    "From which we can equate both and write:\n",
    "\n",
    "$Y_{intcpt}=m_{1,2p}X_{intcpt} + b_{1,2}=m_{1,3p}X_{intcpt} + b_{1,3}$ \n",
    "\n",
    "to solve for $X_{intcpt}$\n",
    "\n",
    "$X_{intcpt}=\\frac{b_{1,2}-b_{1,3}}{m_{1,3p}-m_{1,2p}}$"
   ]
  },
  {
   "cell_type": "code",
   "execution_count": null,
   "id": "c1a8c5d4-b4e1-43ab-9ae2-a667f5fa5c20",
   "metadata": {},
   "outputs": [],
   "source": [
    "# X direction (East) wind component\n",
    "\n",
    "# runs 1-3\n",
    "VwE13 = (b12 - b13) / (m13_p - m12_p)\n",
    "print(f'Calculated East Wind Component runs 1-3: {VwE13} kts')\n",
    "# runs 2-3\n",
    "VwE23 = (b23 - b13) / (m13_p - m23_p)\n",
    "print(f'Calculated East Wind Component runs 2-3: {VwE23} kts')\n",
    "# runs 1-2\n",
    "VwE12 = (b23 - b12) / (m12_p - m23_p)\n",
    "print(f'Calculated East Wind Component runs 1-2: {VwE12} kts')"
   ]
  },
  {
   "cell_type": "markdown",
   "id": "0e7f2c3a-fb4f-49dc-866a-9093fda498ce",
   "metadata": {},
   "source": [
    "Once we have the value for $X_{intcpt}$, which is $V_{wE}$, we plug it back into $Y_{intcpt}=m_{1,2p} X_{intcpt} + b_{1,2}$ to get $V_{wN}$"
   ]
  },
  {
   "cell_type": "code",
   "execution_count": null,
   "id": "97009933-5e24-46b7-93e8-bc4cbc7526ec",
   "metadata": {},
   "outputs": [],
   "source": [
    "# Y direction wind component\n",
    "\n",
    "# runs 1-3\n",
    "VwN13 = m12_p * VwE13 + b12\n",
    "print(f'Calculated North Wind Component runs 1-3: {VwN13} kts')\n",
    "# runs 2-3\n",
    "VwN23 = m23_p * VwE23 + b23\n",
    "print(f'Calculated North Wind Component runs 2-3: {VwN23} kts')\n",
    "# runs 1-2\n",
    "VwN12 = m12_p * VwE12 + b12\n",
    "print(f'Calculated North Wind Component runs 1-2: {VwN12} kts')"
   ]
  },
  {
   "cell_type": "markdown",
   "id": "1b150d41-1fdd-477e-9bf7-a8f3cfddc6f8",
   "metadata": {},
   "source": [
    "Now we can average out the components:"
   ]
  },
  {
   "cell_type": "code",
   "execution_count": null,
   "id": "23a0a39e-935f-46da-9822-68d8b64a21e9",
   "metadata": {},
   "outputs": [],
   "source": [
    "VwE = (VwE13 + VwE23 + VwE12) / 3\n",
    "VwN = (VwN13 + VwN23 + VwN12) / 3"
   ]
  },
  {
   "cell_type": "markdown",
   "id": "1149e826-d589-49ee-a03b-ce20a72eb79a",
   "metadata": {},
   "source": [
    "The wind speed is then $V_w=\\sqrt{V_{wE}^2 + V_{wN}^2}$..."
   ]
  },
  {
   "cell_type": "code",
   "execution_count": null,
   "id": "b0bebaec-8d7b-496c-981c-343d43bc571a",
   "metadata": {},
   "outputs": [],
   "source": [
    "# wind speed (Pythagoras)\n",
    "\n",
    "Vw = np.sqrt(VwE**2 + VwN**2)\n",
    "print(f'Calculated Wind Speed  : {Vw} kts')"
   ]
  },
  {
   "cell_type": "markdown",
   "id": "b5296254-67eb-400e-b0f8-c529b04acbab",
   "metadata": {},
   "source": [
    "Wind direction:\n",
    "\n",
    "Note that if we apply the arctangent directly, it will result in the wrong quadrant. So we need to correct for this by:\n",
    "\n",
    "$\\psi_w = (arctan(V_{wE},V_{wN})) + 2\\pi) \\bmod (2 \\pi)$"
   ]
  },
  {
   "cell_type": "code",
   "execution_count": null,
   "id": "b816bdf3-3d69-4747-a328-494accb32345",
   "metadata": {},
   "outputs": [],
   "source": [
    "# wind direction\n",
    "\n",
    "psi_w = (np.arctan2(VwE, VwN) + 2 * np.pi) % (2 * np.pi) # (rad)\n",
    "print(f'Calculated Wind Direction  : {psi_w*r2d} degrees')"
   ]
  },
  {
   "cell_type": "markdown",
   "id": "7a66f0b3-6f73-43ee-a6f0-6d53d2a4767e",
   "metadata": {},
   "source": [
    "The true airspeed magnitude is obtained from, (remember, assuming $V_{ti}$ it was constant for the 3 runs, we can use any of the runs $V_{g}$):\n",
    "\n",
    "$V_t=\\sqrt{(V_{gE_{1}}-V_{wE})^2+(V_{gN_{1}}-V_{wN})^2}$"
   ]
  },
  {
   "cell_type": "code",
   "execution_count": null,
   "id": "28e0f767-3c6f-42ab-9628-e347e7bcb812",
   "metadata": {},
   "outputs": [],
   "source": [
    "# true airspeed\n",
    "\n",
    "Vt = np.sqrt((VgE[0] - VwE)**2 + (VgN[0] - VwN)**2)\n",
    "print(f'Truth True Airspeed  : {Vt} kts')"
   ]
  },
  {
   "cell_type": "markdown",
   "id": "2a77c37a-21c4-4c34-9514-9c03e7019008",
   "metadata": {},
   "source": [
    "### True Mach\n",
    "\n",
    "Start with temperature...\n",
    "\n",
    "$T_a = \\bar{T_{ic}} - \\frac{K_t V_{t}^2}{2C_p}$"
   ]
  },
  {
   "cell_type": "code",
   "execution_count": null,
   "id": "e58e8a67-cfcf-4abd-b8a4-13c628c3eadb",
   "metadata": {},
   "outputs": [],
   "source": [
    "Ta = Tic.mean() - (Kt * (Vt * kt2ms)**2) / (2 * Cp)\n",
    "print(f'Ambient temperature: {Ta} K')"
   ]
  },
  {
   "cell_type": "markdown",
   "id": "43b66d5b-9479-4033-b6d2-737ae342bd8e",
   "metadata": {},
   "source": [
    "Recall that $\\theta_{test}=\\frac{T_{a}}{T_0}$"
   ]
  },
  {
   "cell_type": "code",
   "execution_count": null,
   "id": "91eeecb1-9354-4c1e-b439-0ba8e06d3220",
   "metadata": {},
   "outputs": [],
   "source": [
    "theta_test = Ta / T0"
   ]
  },
  {
   "cell_type": "markdown",
   "id": "e066c42c-de9b-46bb-b850-33e21e02dd78",
   "metadata": {},
   "source": [
    "Truth Mach number is then\n",
    "\n",
    "$M=\\frac{V_t}{a_0*\\sqrt{\\theta_{test}}}$"
   ]
  },
  {
   "cell_type": "code",
   "execution_count": null,
   "id": "f8fb4268-9a38-42ac-adf1-1a8800982d20",
   "metadata": {},
   "outputs": [],
   "source": [
    "M = (Vt * kt2ms) / (a0 * np.sqrt(theta_test))\n",
    "print(f'truth Mach: {M}')"
   ]
  },
  {
   "cell_type": "markdown",
   "id": "b4cfe343-745d-4d00-bc9f-6b5c3731c9bc",
   "metadata": {},
   "source": [
    "Calculate total over ambient pressure ratio->   $\\frac{p_T}{p_a}=(1+0.2M^2)^\\frac{7}{2}$"
   ]
  },
  {
   "cell_type": "code",
   "execution_count": null,
   "id": "ed17d851-545a-44fd-8dc6-63b9d9a056ac",
   "metadata": {},
   "outputs": [],
   "source": [
    "pt_over_pa = (1 + 0.2 * M**2)**(7 / 2)\n",
    "print(f'pt_over_pa: {pt_over_pa}')"
   ]
  },
  {
   "cell_type": "markdown",
   "id": "a384e9ac-74b7-4819-8d9d-4da4069f3d9f",
   "metadata": {},
   "source": [
    "Finally, the position error ratio is:\n",
    "\n",
    "$\\frac{\\Delta p_s}{p_s}=(\\frac{1}{\\frac{p_T}{p_s}}-\\frac{1}{\\frac{p_T}{p_a}})\\frac{p_T}{p_s}$"
   ]
  },
  {
   "cell_type": "code",
   "execution_count": null,
   "id": "0a831871-cd89-46f9-af4f-54b9ce93b52c",
   "metadata": {},
   "outputs": [],
   "source": [
    "delta_ps_over_ps = ((1 / pt_over_ps) - (1 / pt_over_pa)) * pt_over_ps\n",
    "print(f'delta_ps_over_ps: {delta_ps_over_ps}')"
   ]
  },
  {
   "cell_type": "markdown",
   "id": "c3e87ff0-8b32-4385-af32-2be926dc4ba1",
   "metadata": {},
   "source": [
    "_____ common part _____"
   ]
  },
  {
   "cell_type": "code",
   "execution_count": null,
   "id": "80dcf7fa-7d86-475e-a26d-6d5cf6594a8f",
   "metadata": {},
   "outputs": [],
   "source": [
    "delta_ps_over_ps_runs = np.array([-0.0004657, 0.0012954, 0.0024276, -0.0006998, 0.0019471, 0.0026558])\n",
    "Vic_runs = np.array([130, 220, 290, 145, 190, 270]) # (kts)\n",
    "Hic_runs = np.array([6000, 6000, 6000, 15000, 15000, 15000]) # (ft)"
   ]
  },
  {
   "cell_type": "markdown",
   "id": "8884b521-b447-49e3-898a-b6fe7345a2c8",
   "metadata": {},
   "source": [
    "_____\n",
    "# *Common Part*\n",
    "from $\\frac{\\Delta p_s}{p_s}$ from multiple runs -> $\\Delta H_{pc}$ and $\\Delta V_{pc}$\n",
    "_____"
   ]
  },
  {
   "cell_type": "markdown",
   "id": "2eae889d-9ced-48de-86a1-01a49445b7ec",
   "metadata": {},
   "source": [
    "## Verification against FAR 25 limits\n",
    "\n",
    "The civil regs define acceptable errors in terms of $\\Delta H_{pc}$ and $\\Delta V_{pc}$.\n",
    "\n",
    "The sequence to obtain $\\Delta H_{pc}$ from $\\frac{\\Delta p_s}{p_s}$ is:\n",
    "\n",
    "<span style=\"color: green;\">truth source:</span>\n",
    "\n",
    "<span style=\"color: green;\"> * set reference conditions (ISA/sea level in our case - $H_{c_{ref-alt}}=0$ ft)</span>\n",
    "\n",
    "<span style=\"color: green;\"> * calculate ambient pressure at ref cond. $p_{a_{ref-alt}}$</span>\n",
    "\n",
    "<span style=\"color: red;\">ship side:</span>\n",
    "\n",
    "<span style=\"color: red;\">* with $\\frac{\\Delta p_s}{p_s}$ and $p_{a_{ref-alt}}$ find static pressure at reference conditions $p_{s_{ref-alt}}$</span>\n",
    "\n",
    "<span style=\"color: red;\">* find the indicated altitude at ref conditions $H_{ic_{ref-alt}}$</span>\n",
    "\n",
    "Altitude position correction will be $\\Delta H_{pc_{ref-lat}}=H_{c_{ref-alt}}-H_{ic_{ref-alt}}$\n",
    "___"
   ]
  },
  {
   "cell_type": "markdown",
   "id": "066cddb3-8487-48d5-ba9c-0d73b1f7be29",
   "metadata": {},
   "source": [
    "Define first a **reference altitude** to reduce flight test data to.\n",
    "\n",
    "In the FAR 25 case, we will use **sea level** at **ISA** conditions.\n",
    "\n",
    "* $H_{c_{ref-alt}}=0ft$; \n",
    "* $T_{ref-alt}=T_0=288.15K$"
   ]
  },
  {
   "cell_type": "code",
   "execution_count": null,
   "id": "24464876-82dc-4f82-b140-2bff74046986",
   "metadata": {},
   "outputs": [],
   "source": [
    "# reference altitude = 0ft = sea level\n",
    "Hc_ref_alt = 0 # (ft)\n",
    "T_ref_alt = T0 # (K)"
   ]
  },
  {
   "cell_type": "markdown",
   "id": "52733394-8657-4af6-9290-f50d1781856c",
   "metadata": {},
   "source": [
    "ambient pressure at reference altitude:\n",
    "\n",
    "$p_{a_{ref-alt}}=p_0*(1+\\frac{L}{T_0}*H_{c_{ref-alt}}^{(\\frac{-g_0}{RL})})$\n",
    "\n",
    "Note that we know this is $p_0$ for zero altitde and ISA, but if the reference altitude was different..."
   ]
  },
  {
   "cell_type": "code",
   "execution_count": null,
   "id": "8a34b8a1-9c5a-46bb-bcb6-d8a922ead8ef",
   "metadata": {},
   "outputs": [],
   "source": [
    "pa_ref_alt = p0 * (1 + L / T0 * (Hc_ref_alt*ft2m))**(-g_zero / ( R * L)) # (Pa)\n",
    "print(f'ambient pressure at reference altitude: {pa_ref_alt} Pa')"
   ]
  },
  {
   "cell_type": "markdown",
   "id": "ad97375b-f697-4052-8c6e-989e562857a4",
   "metadata": {
    "tags": []
   },
   "source": [
    "static pressure at reference altitude:\n",
    "\n",
    "$p_{s_{ref-alt}} = \\frac{p_{a_{ref-alt}}}{1-\\frac{\\Delta p_s}{p_s}}$"
   ]
  },
  {
   "cell_type": "code",
   "execution_count": null,
   "id": "8f2f1d4d-a250-4fa9-8345-6b6641a6d6e8",
   "metadata": {},
   "outputs": [],
   "source": [
    "ps_ref_alt = pa_ref_alt /  (1 - delta_ps_over_ps_runs) # (Pa)\n",
    "print(f'static pressure at reference altitude: {ps_ref_alt} Pa')"
   ]
  },
  {
   "cell_type": "markdown",
   "id": "4c4e40cd-b576-423f-a3fe-0e9cb1196081",
   "metadata": {},
   "source": [
    "$\\delta_{ic}$ at reference altitude; note subscript *ic* because it includes position error:\n",
    "\n",
    "$\\delta_{ic_{ref-alt}}=\\frac{p_{s_{ref-alt}}}{p_0}$"
   ]
  },
  {
   "cell_type": "code",
   "execution_count": null,
   "id": "8c4d7b2f-4c82-4099-a842-8a62903c626d",
   "metadata": {},
   "outputs": [],
   "source": [
    "deltaISA_ic_ref_alt = ps_ref_alt / p0\n",
    "print(f'deltaISA at reference altitude: {deltaISA_ic_ref_alt}')"
   ]
  },
  {
   "cell_type": "markdown",
   "id": "94ee62de-1408-4fbe-a1bc-7464b8b3f0d9",
   "metadata": {},
   "source": [
    "Indicated, instrument corrected altitude at reference altitude:\n",
    "\n",
    "$H_{ic_{ref-alt}}=\\frac{T_0}{L}(\\delta_{ic_{ref-alt}}^{-(\\frac{RL}{g_0})}-1)$"
   ]
  },
  {
   "cell_type": "code",
   "execution_count": null,
   "id": "c09e3e63-b39b-406a-a0e0-12ddb8457179",
   "metadata": {},
   "outputs": [],
   "source": [
    "Hic_ref_alt = T0 / L * ((deltaISA_ic_ref_alt)**(-(R * L / g_zero)) -1) * m2ft # (ft)\n",
    "print(f'indicated altitude at reference altitude: {Hic_ref_alt} ft')"
   ]
  },
  {
   "cell_type": "markdown",
   "id": "3ec9e632-4ed3-48b5-9dff-63fe298fc6da",
   "metadata": {},
   "source": [
    "Altitude position correction:\n",
    "\n",
    "$\\Delta H_{pc_{ref-alt}}=H_{c_{ref-alt}}-H_{ic_{ref-alt}}$"
   ]
  },
  {
   "cell_type": "code",
   "execution_count": null,
   "id": "ca9ad8cb-6733-47f2-9c3f-3d6624c2db54",
   "metadata": {},
   "outputs": [],
   "source": [
    "delta_Hpc_ref_alt = Hc_ref_alt - Hic_ref_alt # (ft)\n",
    "print(f'delta Hc = {delta_Hpc_ref_alt} ft, with reference altitude={Hc_ref_alt} ft')"
   ]
  },
  {
   "cell_type": "markdown",
   "id": "a4e46ba2-2622-410b-ab29-ab5366a4b9dd",
   "metadata": {},
   "source": [
    "## Airpeed (*and Mach*) position corrections\n",
    "\n",
    "Because we will need $\\frac{q_{c}}{p_a}$ to calculate the airspeed correction, we find first the Mach position correction:\n",
    "\n",
    "To obtain $\\Delta M_{pc}$ from $V_{ic_{test}}$ and $\\frac{\\Delta p_s}{p_s}$:\n",
    "\n",
    "<span style=\"color: red;\">ship side:</span>\n",
    "\n",
    "<span style=\"color: red;\">* from our test condition $V_{ic_{test}}$, calculate the differential pressure ratio $(\\frac{q_{cic}}{p_0})_{test}$</span>\n",
    "\n",
    "<span style=\"color: red;\">* from our test condition $H_{ic_{test}}$, calculate $\\delta_{ic_{test}}$</span>\n",
    "\n",
    "<span style=\"color: red;\">* from $(\\frac{q_{cic}}{p_0})_{test}$ and $\\delta_{ic_{test}}$ get $\\frac{q_{cic}}{p_s}$ at test condition</span>\n",
    "\n",
    "<span style=\"color: red;\">* calculate instrument corrected indicated Mach for test conditions $M_{ic_{test}}$</span>\n",
    "\n",
    "<span style=\"color: green;\">truth source:</span>\n",
    "\n",
    "<span style=\"color: green;\">* from $\\frac{q_{cic}}{p_s}$ and $\\frac{\\Delta p_s}{p_s}$, get $\\frac{q_{c}}{p_a}$</span>\n",
    "\n",
    "<span style=\"color: green;\">* from $\\frac{q_{c}}{p_a}$ calculate truth Mach</span>\n",
    "\n",
    "Mach position correction will be $\\Delta M_{pc}=M-M_{ic}$\n",
    "____"
   ]
  },
  {
   "cell_type": "markdown",
   "id": "27b0e378-ed9c-4796-a263-a3b8972a9408",
   "metadata": {},
   "source": [
    "To find $\\Delta V_{pc}$:\n",
    "\n",
    "<span style=\"color: green;\">truth source:</span>\n",
    "\n",
    "<span style=\"color: green;\">* from $\\delta_{ref-alt}$ and $\\frac{q_c}{p_a}$ find $(\\frac{q_c}{p_0})_{ref-alt}$</span>\n",
    "\n",
    "<span style=\"color: green;\">* calculate the instrument corrected (truth) airspeed at reference conditions $V_{c_{ref-alt}}$</span>\n",
    "\n",
    "<span style=\"color: red;\">ship side:</span>\n",
    "\n",
    "<span style=\"color: red;\">* from $(\\frac{q_c}{p_0})_{ref-alt}$ and $\\frac{\\Delta p_s}{p_s}$, get $(\\frac{q_{cic}}{p_0})_{ref-alt}$</span>\n",
    "\n",
    "<span style=\"color: red;\">* calculate the instrument corrected indicated airspeed at reference conditions $V_{ic_{ref-alt}}$</span>\n",
    "\n",
    "Airspeed position correction will be $\\Delta V_{pc_{ref-lat}}=V_{c_{ref-alt}}-V_{ic_{ref-alt}}$\n",
    "___"
   ]
  },
  {
   "cell_type": "markdown",
   "id": "3f704b6c-8313-49b1-b530-283f5047b307",
   "metadata": {},
   "source": [
    "Starting from first step:\n",
    "\n",
    "$(\\frac{q_{cic}}{p_0})_{test}=(1+0.2 (\\frac{V_{ic_{test}}}{a_0})^2)^\\frac{7}{2}-1$"
   ]
  },
  {
   "cell_type": "code",
   "execution_count": null,
   "id": "35905f8c-a6c0-4c57-b17d-c076f7ad080c",
   "metadata": {},
   "outputs": [],
   "source": [
    "qcic_over_p0_runs = (1 + 0.2 * ((Vic_runs * kt2ms) / a0)**2)**(7 / 2) -1\n",
    "print(f'qcic_over_p0 for test runs: {qcic_over_p0_runs}')"
   ]
  },
  {
   "cell_type": "markdown",
   "id": "2ede352c-b6de-4d37-b1bf-2687a4d4afc8",
   "metadata": {},
   "source": [
    "$\\delta_{ic_{test}}=(1+\\frac{L}{T_0}(H_{ic_{test}})^{(\\frac{-g_0}{RL})})$"
   ]
  },
  {
   "cell_type": "code",
   "execution_count": null,
   "id": "26ad1483-ea6a-4b5e-a068-221e63a54515",
   "metadata": {},
   "outputs": [],
   "source": [
    "deltaISA_ic_runs = (1 + L / T0 * (Hic_runs * ft2m))**(-g_zero / (R * L))\n",
    "print(f'deltaISA_ic for test runs: {deltaISA_ic_runs}')"
   ]
  },
  {
   "cell_type": "markdown",
   "id": "da8211b6-8b31-47a0-a5c5-a48590fe7d7f",
   "metadata": {},
   "source": [
    "$\\frac{q_{cic}}{p_s}=\\frac{q_{cic}}{p_0}*\\frac{p_0}{p_s}=(\\frac{q_{cic}}{p_0})_{test} * \\frac{1}{\\delta_{ic_{test}}}$"
   ]
  },
  {
   "cell_type": "code",
   "execution_count": null,
   "id": "b04e687d-8a9c-4d4a-ad20-ad493cdc5366",
   "metadata": {},
   "outputs": [],
   "source": [
    "qcic_over_ps = qcic_over_p0_runs / deltaISA_ic_runs\n",
    "print(f'qcic_over_ps for test runs: {qcic_over_ps}')"
   ]
  },
  {
   "cell_type": "markdown",
   "id": "9c0ca74f-7992-41e4-965e-731749f6d6fa",
   "metadata": {},
   "source": [
    "$M_{ic_{test}}=\\sqrt{5*((\\frac{q_{cic}}{p_s}+1)^{\\frac{2}{7}}-1)}$\n",
    "\n",
    "And because we will use this expression 2 times, let´s create a function!"
   ]
  },
  {
   "cell_type": "code",
   "execution_count": null,
   "id": "abf2025a-840f-458d-b5ae-3849e26e7366",
   "metadata": {},
   "outputs": [],
   "source": [
    "def M_from_q_over_p(q_over_p: float) -> float:\n",
    "    '''\n",
    "    Calcucate Mach from q over ps\n",
    "    '''\n",
    "    return np.sqrt(5 * ((q_over_p + 1)**(2 / 7) -1))\n",
    "\n",
    "Mic_runs = M_from_q_over_p(qcic_over_ps)\n",
    "print(f'indicated Mach for test run: {Mic_runs} ')"
   ]
  },
  {
   "cell_type": "markdown",
   "id": "6c5c6d2b-9e90-4f21-902d-d5ec49b24390",
   "metadata": {},
   "source": [
    "$\\frac{q_{c}}{p_a}=\\frac{\\frac{q_cic}{p_s}+1}{1-\\frac{\\Delta p_s}{p_s}}-1$"
   ]
  },
  {
   "cell_type": "code",
   "execution_count": null,
   "id": "8d694b9d-7f89-43a3-be18-7e9567679903",
   "metadata": {},
   "outputs": [],
   "source": [
    "qc_over_pa = (qcic_over_ps + 1) / (1 - delta_ps_over_ps_runs) - 1\n",
    "print(f'qc_over_pa for test runs: {qc_over_pa}')"
   ]
  },
  {
   "cell_type": "markdown",
   "id": "efd981e4-0dc1-4bd8-ba02-f7057b74b55f",
   "metadata": {},
   "source": [
    "$M=\\sqrt{5*((\\frac{q_{c}}{p_a}+1)^{\\frac{2}{7}}-1)}$"
   ]
  },
  {
   "cell_type": "code",
   "execution_count": null,
   "id": "e26a0a41-c6b4-4bdf-9886-ccbb44fd88b3",
   "metadata": {},
   "outputs": [],
   "source": [
    "M = M_from_q_over_p(qc_over_pa)\n",
    "print(f'Truth Mach for test runs: {M}')"
   ]
  },
  {
   "cell_type": "markdown",
   "id": "0fbb67be-7e6e-4b0b-a9a4-17bfb1236c3e",
   "metadata": {},
   "source": [
    "Find the delta M\n",
    "\n",
    "$\\Delta M_{pc}=M-M_{ic}$"
   ]
  },
  {
   "cell_type": "code",
   "execution_count": null,
   "id": "fec2d19e-49af-422b-838a-ba9d425c17da",
   "metadata": {},
   "outputs": [],
   "source": [
    "delta_Mpc = M - Mic_runs\n",
    "print(f'Mach position correctins for test runs: {delta_Mpc}')"
   ]
  },
  {
   "cell_type": "markdown",
   "id": "627bb7b7-8aec-4da0-90e9-0cd70e9f232a",
   "metadata": {},
   "source": [
    "$\\delta_{ref-alt}=(1+\\frac{L}{T_0}(H_{c_{ref-alt}})^{(\\frac{-g_0}{RL})})$\n",
    "\n",
    "*note: since we already calculated ambient pressure at reference altitude, we could just do $\\frac{p_{a_{ref-alt}}}{p_0}$ ...*"
   ]
  },
  {
   "cell_type": "code",
   "execution_count": null,
   "id": "145b6861-fca5-47c5-9abd-e503fbc33c59",
   "metadata": {},
   "outputs": [],
   "source": [
    "deltaISA_ref_alt = (1 + L / T0 * (Hc_ref_alt * ft2m))**(-g_zero / (R * L))\n",
    "print(f'deltaISA for reference altitude: {deltaISA_ref_alt}')"
   ]
  },
  {
   "cell_type": "markdown",
   "id": "126ec8e6-4583-45c0-b585-69c34181cfd2",
   "metadata": {},
   "source": [
    "$(\\frac{q_c}{p_0})_{ref-alt}=\\frac{q_c}{p_a}\\delta_{ref-alt}$"
   ]
  },
  {
   "cell_type": "code",
   "execution_count": null,
   "id": "822b4f17-ffa7-4920-8900-6f12e3b60268",
   "metadata": {},
   "outputs": [],
   "source": [
    "qc_over_p0_ref_alt = qc_over_pa * deltaISA_ref_alt\n",
    "print(f'qc_over_p0 for test runs at reference altitude: {qc_over_p0_ref_alt}')"
   ]
  },
  {
   "cell_type": "markdown",
   "id": "e80ee24a-91e0-4554-b48b-23461f4f454d",
   "metadata": {},
   "source": [
    "$V_{c_{ref-alt}}=a_0*\\sqrt{5[((\\frac{q_c}{p_0})_{ref-alt}+1)^{\\frac{2}{7}}-1]}$\n",
    "\n",
    "Same idea, let´s create a function."
   ]
  },
  {
   "cell_type": "code",
   "execution_count": null,
   "id": "73d9e1c3-3f29-4259-bc99-89fbc2975991",
   "metadata": {},
   "outputs": [],
   "source": [
    "def V_from_q_over_p(q_over_p:float) -> float:\n",
    "    '''\n",
    "    Calculate airspeed from q_over_ps\n",
    "    returns airspeed in kts\n",
    "    '''\n",
    "    return a0 * np.sqrt(5 * ((q_over_p + 1)**(2 / 7) -1)) * ms2kt # (kts)\n",
    "Vc_ref_alt = V_from_q_over_p(qc_over_p0_ref_alt) # (kts)\n",
    "print(f'Instrument corrected, calibrated airspeed for test runs at reference altitude: {Vc_ref_alt} kts')"
   ]
  },
  {
   "cell_type": "markdown",
   "id": "47cb6c4c-41ba-4541-880b-3be7da78e02c",
   "metadata": {},
   "source": [
    "$(\\frac{q_{cic}}{p_0})_{ref-alt}=(\\frac{q_c}{p_0})_{ref-alt}-\\frac{\\Delta p_s}{p_s} \\delta_{ic_{ref-alt}}$"
   ]
  },
  {
   "cell_type": "code",
   "execution_count": null,
   "id": "3c4d36de-ccd0-4475-be16-b237ac22e682",
   "metadata": {},
   "outputs": [],
   "source": [
    "qcic_over_p0_ref_alt = qc_over_p0_ref_alt - delta_ps_over_ps_runs * deltaISA_ic_ref_alt\n",
    "print(f'qcic_over_p0 for test runs at reference altitude: {qcic_over_p0_ref_alt}')"
   ]
  },
  {
   "cell_type": "markdown",
   "id": "bc3be069-aaf7-46b1-a296-e88694b42a4f",
   "metadata": {},
   "source": [
    "$V_{ic_{ref-alt}}=a_0*\\sqrt{5[((\\frac{q_{cic}}{p_0})_{ref-alt}+1)^{\\frac{2}{7}}-1]}$"
   ]
  },
  {
   "cell_type": "code",
   "execution_count": null,
   "id": "6a03dfe3-0332-442e-b104-0177431315f6",
   "metadata": {},
   "outputs": [],
   "source": [
    "Vic_ref_alt = V_from_q_over_p(qcic_over_p0_ref_alt) # (kts)\n",
    "print(f'Instrument correcte, indicated airspeed for test runs at reference altitud: {Vic_ref_alt} kts')"
   ]
  },
  {
   "cell_type": "markdown",
   "id": "9a176041-2c79-41b3-964e-2a263aade1af",
   "metadata": {},
   "source": [
    "$\\Delta V_{pc_{ref-alt}}=V_{c_{ref-alt}}-V_{ic_{ref-alt}}$"
   ]
  },
  {
   "cell_type": "code",
   "execution_count": null,
   "id": "a44ee6c3-026b-4b6d-9c14-30f2bd948855",
   "metadata": {},
   "outputs": [],
   "source": [
    "delta_Vpc_ref_alt =Vc_ref_alt - Vic_ref_alt # (kts)\n",
    "print(f'Airspeed posititon corrections for test runs at reference altitude: {delta_Vpc_ref_alt} kts')"
   ]
  },
  {
   "cell_type": "markdown",
   "id": "82671a4e-41f2-4c12-a940-f62662aaa2df",
   "metadata": {},
   "source": [
    "# FAR 25.1323 Compliance Check\n",
    "\n",
    "## Altitude - 25.1325\n",
    "(e) Each system must be designed and installed so that the error in indicated pressure altitude, at sea level, with a standard atmosphere, excluding instrument calibration error, does not result in an error of more than ±30 feet per 100 knots speed for the appropriate configuration in the speed range between 1.23 VSR0 with flaps extended and 1.7 VSR1 with flaps retracted. However, the error need not be less than ±30 feet. "
   ]
  },
  {
   "cell_type": "code",
   "execution_count": null,
   "id": "dda149ca-f522-4585-ba4a-e1d1eec7a39c",
   "metadata": {},
   "outputs": [],
   "source": [
    "# FAR 25 limits definitions\n",
    "\n",
    "k_point = 100 # (kts)\n",
    "x_limit1 = np.linspace(0, k_point, 10) # (kts)\n",
    "top_limity1 = np.ones(x_limit1.shape[0]) * 30 # (ft)\n",
    "bot_limity1 = - top_limity1 # (ft)\n",
    "\n",
    "x_limit2 = np.linspace(k_point, Vmo, 10) # (kts)\n",
    "top_limity2 = x_limit2 * 0.3 # (ft)\n",
    "bot_limity2 = - top_limity2 # (ft)"
   ]
  },
  {
   "cell_type": "code",
   "execution_count": null,
   "id": "260f65d7-c853-465b-80ba-06fad6e19d49",
   "metadata": {},
   "outputs": [],
   "source": [
    "# set graph size\n",
    "plt.rcParams['figure.figsize'] = [12, 7]\n",
    "\n",
    "# plot limits\n",
    "plt.plot(x_limit1, top_limity1, 'r', label='FAR 25 limit')\n",
    "plt.plot(x_limit1, bot_limity1, 'r')\n",
    "plt.plot(x_limit2, top_limity2, 'r')\n",
    "plt.plot(x_limit2, bot_limity2, 'r')\n",
    "\n",
    "# plot data\n",
    "plt.plot(Vic_runs, delta_Hpc_ref_alt, '+b', label='Flight Test', markersize=10)\n",
    "\n",
    "# label, grid, etc\n",
    "plt.xlabel( 'Vic (kts)')\n",
    "plt.ylabel('delta Hpc (ft)')\n",
    "plt.title('Altitude Error Plot')\n",
    "plt.grid(True)\n",
    "plt.legend()\n",
    "plt.show()"
   ]
  },
  {
   "cell_type": "markdown",
   "id": "35b2054a-8b74-4cc6-a00c-c39e0f006f92",
   "metadata": {},
   "source": [
    "## Airspeed - 25.1323\n",
    "\n",
    "25.1323 (c) states:\n",
    "The airspeed error of the installation, excluding the airspeed indicator instrument calibration error, may not exceed three percent or five knots, whichever is greater, throughout the speed range, from - \n",
    "\n",
    "(1) VMO  to 1.23 VSR1, with flaps retracted; and \n",
    "\n",
    "(2) 1.23 VSR0 to VFE with flaps in the landing position. "
   ]
  },
  {
   "cell_type": "code",
   "execution_count": null,
   "id": "3805c2bc-d182-4e9d-9b79-b3d7cf936f85",
   "metadata": {},
   "outputs": [],
   "source": [
    "# FAR 25 limits definitions\n",
    "k_point = 5 / 0.03 # (kts)\n",
    "x_limit1 = np.linspace(Vsr0, k_point, 10) # (kts)\n",
    "top_limity1 = np.ones(x_limit1.shape[0]) * 5 # (kts)\n",
    "bot_limity1 = - top_limity1 # (kts)\n",
    "\n",
    "x_limit2 = np.linspace(k_point, Vmo, 10) # (kts)\n",
    "top_limity2 = x_limit2 * 0.03 # (kts)\n",
    "bot_limity2 = - top_limity2 # (kts)"
   ]
  },
  {
   "cell_type": "code",
   "execution_count": null,
   "id": "07aedd8b-b6f2-45b6-8ccd-e029313727c1",
   "metadata": {},
   "outputs": [],
   "source": [
    "# plot limits\n",
    "\n",
    "# plot limits\n",
    "plt.plot(x_limit1, top_limity1, 'r', label='FAR 25 limit')\n",
    "plt.plot(x_limit1, bot_limity1, 'r')\n",
    "plt.plot(x_limit2, top_limity2, 'r')\n",
    "plt.plot(x_limit2, bot_limity2, 'r')\n",
    "\n",
    "# plot data\n",
    "plt.plot(Vic_runs, delta_Vpc_ref_alt, '+b', label='Flight Test', markersize=10)\n",
    "\n",
    "# label, grid, etc\n",
    "plt.xlabel( 'Vic (kts)')\n",
    "plt.ylabel('delta Vpc (kts)')\n",
    "plt.title('Speed Error Plot')\n",
    "plt.grid(True)\n",
    "plt.legend()\n",
    "plt.show()"
   ]
  },
  {
   "cell_type": "code",
   "execution_count": null,
   "id": "575465ba-0174-4cc0-83c8-d67183782ebe",
   "metadata": {},
   "outputs": [],
   "source": []
  }
 ],
 "metadata": {
  "kernelspec": {
   "display_name": "Python 3 (ipykernel)",
   "language": "python",
   "name": "python3"
  },
  "language_info": {
   "codemirror_mode": {
    "name": "ipython",
    "version": 3
   },
   "file_extension": ".py",
   "mimetype": "text/x-python",
   "name": "python",
   "nbconvert_exporter": "python",
   "pygments_lexer": "ipython3",
   "version": "3.10.6"
  }
 },
 "nbformat": 4,
 "nbformat_minor": 5
}
