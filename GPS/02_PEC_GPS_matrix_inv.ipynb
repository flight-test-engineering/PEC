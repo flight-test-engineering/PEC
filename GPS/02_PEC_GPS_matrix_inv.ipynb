{
 "cells": [
  {
   "cell_type": "markdown",
   "id": "90253e47-c9e8-476a-8a92-306d47026cf1",
   "metadata": {},
   "source": [
    "Cloverleaf / Matrix Inversion Method"
   ]
  },
  {
   "cell_type": "markdown",
   "id": "f5ae6f4c-742e-4ab2-9e34-deb6d6c41dba",
   "metadata": {
    "tags": []
   },
   "source": [
    "### Preamble"
   ]
  },
  {
   "cell_type": "markdown",
   "id": "709c092f-6204-49e8-87b8-d1ca366b8e6d",
   "metadata": {
    "tags": []
   },
   "source": [
    "Version Control\n",
    "\n",
    "v1.0 - initial release\n",
    "\n",
    "v1.1 - updated notation $V_{wX}$ to $V_{wE}$; $V_{wY}$ to $V_{wN}$; other typos"
   ]
  },
  {
   "cell_type": "code",
   "execution_count": null,
   "id": "e48ffafc-a61a-44ec-8529-4e4d04221422",
   "metadata": {
    "tags": []
   },
   "outputs": [],
   "source": [
    "# https://github.com/flight-test-engineering/PEC\n",
    "# imports\n",
    "\n",
    "import numpy as np\n",
    "import matplotlib.pyplot as plt\n",
    "plt.style.use('dark_background')"
   ]
  },
  {
   "cell_type": "code",
   "execution_count": null,
   "id": "d8e854af-43e4-4e64-ac79-2a2cbeaa595f",
   "metadata": {
    "tags": []
   },
   "outputs": [],
   "source": [
    "# constants and conversion factors\n",
    "\n",
    "m2ft = 3.28084\n",
    "ft2m = 1 / m2ft\n",
    "kt2ms = 1852 / 60 / 60 # 1 nm in meters; from hours to seconds\n",
    "ms2kt = 1 / kt2ms\n",
    "C2K = 273.15\n",
    "d2r = np.pi / 180\n",
    "r2d = 1 / d2r"
   ]
  },
  {
   "cell_type": "code",
   "execution_count": null,
   "id": "5f37182f-77ab-447c-9943-243fd0598166",
   "metadata": {
    "tags": []
   },
   "outputs": [],
   "source": [
    "# International Standard Atmosphere\n",
    "\n",
    "T0 = 15 + C2K # (K)\n",
    "p0 = 101325 # (Pa)\n",
    "L = -6.5 / 1000 # (K/m)\n",
    "a0 = 340.3 # (m/s)\n",
    "rho0 = 1.225 # (kg/m3)\n",
    "R =  p0 / (rho0 * T0) # air, specific, std ISA in (J/kg)/K\n",
    "g_zero = 9.80665 # (m/s2)\n",
    "gamma = 1.4 # adiabatic index for air\n",
    "Cp = 1006 # (J/kg)/K"
   ]
  },
  {
   "cell_type": "code",
   "execution_count": null,
   "id": "dbf6db7c-84d5-475a-a2f6-799c51b4bd08",
   "metadata": {
    "tags": []
   },
   "outputs": [],
   "source": [
    "# data from airplane / instruments calibration\n",
    "\n",
    "#  speeds\n",
    "Vmo = 350 # (kts)\n",
    "Vsr0 = 105 # (kts)\n",
    "\n",
    "#  instrument errors\n",
    "delta_Vic = 2 # (kts)\n",
    "delta_Hic = -20 # (ft)\n",
    "delta_Tic = -1 # (C)\n",
    "Kt = 1.0 # temperature recovery factor"
   ]
  },
  {
   "cell_type": "code",
   "execution_count": null,
   "id": "07abae92-7229-4dc8-987c-484cd592a6a8",
   "metadata": {
    "tags": []
   },
   "outputs": [],
   "source": [
    "# FT data\n",
    "\n",
    "# from airplane anemometry\n",
    "Vi = np.array([117, 116, 118]) # (KIAS)\n",
    "Hi = np.array([6000, 6000, 6000]) # (ft)\n",
    "Ti = np.array([11, 11, 11]) # (C)\n",
    "\n",
    "# from airplane GPS\n",
    "Vg = np.array([138, 133, 120]) # (Kts)\n",
    "sigma_g = np.array([7, 114, 234]) # (degrees)"
   ]
  },
  {
   "cell_type": "markdown",
   "id": "9a81a8db-ff8e-42e1-8de7-48e741f61b47",
   "metadata": {},
   "source": [
    "## Anemometric Side"
   ]
  },
  {
   "cell_type": "markdown",
   "id": "2a1af058-34f0-4b86-8049-9658f55404a1",
   "metadata": {
    "tags": []
   },
   "source": [
    "## Correct for Instrument Errors\n",
    "\n",
    "$V_{ic}=V{i}+\\Delta V_{ic}$\n",
    "\n",
    "$H_{ic}=H_{Pi}+\\Delta H_{ic}$\n",
    "\n",
    "$T_{ic}=T_{i}+\\Delta T_{ic}$"
   ]
  },
  {
   "cell_type": "code",
   "execution_count": null,
   "id": "7e8ab4f8-bb5a-42cd-a1a4-60faaa87842e",
   "metadata": {
    "tags": []
   },
   "outputs": [],
   "source": [
    "Vic = Vi + delta_Vic # (kts)\n",
    "Hic = Hi + delta_Hic # (ft)\n",
    "Tic = Ti + delta_Tic + C2K # (K)\n",
    "print(f'Vic = {Vic} KIAS')\n",
    "print(f'Hic = {Hic} ft')\n",
    "print(f'Tic = {Tic} K')"
   ]
  },
  {
   "cell_type": "markdown",
   "id": "5f3b8d80-3141-4efb-b17c-751359d1f297",
   "metadata": {},
   "source": [
    "Find the $\\frac{q_{cic}}{P_0}$ ratio, which will be used to find the Mach number and static port position error:\n",
    "\n",
    "$\\frac{q_{cic}}{P_0}=(1+0.2(\\frac{V_{ic}}{a_0})^2)^{\\frac{7}{2}}-1$"
   ]
  },
  {
   "cell_type": "code",
   "execution_count": null,
   "id": "b56839dc-c48f-44db-a12f-8d7bd6d609e8",
   "metadata": {
    "tags": []
   },
   "outputs": [],
   "source": [
    "qcic_over_p0 = (1 + 0.2 * ((Vic * kt2ms) / a0)**2)**(7 / 2) - 1\n",
    "print(f'qcic_over_p0: {qcic_over_p0}')"
   ]
  },
  {
   "cell_type": "markdown",
   "id": "2663fc11-52ae-459b-8149-f123bed5b5c3",
   "metadata": {},
   "source": [
    "Calculate pressure ratio $\\delta_{ic}$\n",
    "\n",
    "$\\delta_{ic}=(1 + \\frac{L}{T_0}*H_{ic}^{(\\frac{-g_0}{R * L})})$"
   ]
  },
  {
   "cell_type": "code",
   "execution_count": null,
   "id": "8152e96e-a283-4e6f-aafd-e61bd98b9b63",
   "metadata": {
    "tags": []
   },
   "outputs": [],
   "source": [
    "deltaISA_ic = (1 + L / T0 * (Hic * ft2m))**(-g_zero / (R * L))\n",
    "print(f'deltaISA_ic: {deltaISA_ic}')"
   ]
  },
  {
   "cell_type": "markdown",
   "id": "adbed7a0-62d1-495d-a76b-9e7986166670",
   "metadata": {
    "tags": []
   },
   "source": [
    "Find $\\frac{q_{cic}}{p_s}$\n",
    "\n",
    "$\\frac{q_{cic}}{p_s}=\\frac{q_{cic}}{p_0}*\\frac{p_0}{p_s}=\\frac{q_{cic}}{p_0}*\\frac{1}{\\delta_{ic}}$"
   ]
  },
  {
   "cell_type": "code",
   "execution_count": null,
   "id": "fc2f4517-b1f7-4c9d-8b94-5ecfc11158a3",
   "metadata": {
    "tags": []
   },
   "outputs": [],
   "source": [
    "qcic_over_ps = qcic_over_p0 / deltaISA_ic\n",
    "print(f'qcic_over_ps: {qcic_over_ps}')"
   ]
  },
  {
   "cell_type": "markdown",
   "id": "a3a19998-3193-4bb6-9d17-e62ff706e67f",
   "metadata": {
    "tags": []
   },
   "source": [
    "Find the indicated Mach number\n",
    "\n",
    "$M_{ic} = \\sqrt{5*[(\\frac{q_{cic}}{p_s}+1)^{\\frac{2}{7}}-1]}$"
   ]
  },
  {
   "cell_type": "code",
   "execution_count": null,
   "id": "7cf49b99-168b-47ed-9004-9e87b2533bb9",
   "metadata": {
    "tags": []
   },
   "outputs": [],
   "source": [
    "Mic = np.sqrt(5 * ((qcic_over_ps + 1)**(2 / 7) - 1))\n",
    "print(f'Indicated Mach number: {Mic}, mean={Mic.mean()}')"
   ]
  },
  {
   "cell_type": "markdown",
   "id": "9ff62097-3335-499f-9947-10452a531425",
   "metadata": {},
   "source": [
    "From the mean indicated $\\bar{M_{ic}}$, total over static port pressure ratio ->   $\\frac{p_T}{p_s}=(1+0.2 \\bar{M_{ic}}^2)^\\frac{7}{2}$"
   ]
  },
  {
   "cell_type": "code",
   "execution_count": null,
   "id": "1f2f387d-fcbc-4b2c-8bdb-db0ce3ae9792",
   "metadata": {
    "tags": []
   },
   "outputs": [],
   "source": [
    "pt_over_ps = (1 + 0.2 * Mic.mean()**2)**(7 / 2)\n",
    "print(f'pt_over_ps: {pt_over_ps}')"
   ]
  },
  {
   "cell_type": "markdown",
   "id": "35a017c5-d4e1-4c0c-8dbc-8bb800b40fff",
   "metadata": {},
   "source": [
    "Find indicated true airspeed, but we need the temperature first\n",
    "\n",
    "$T_{ai} = \\frac{T_{ic}}{1+0.2K_t M_{ic}²}$"
   ]
  },
  {
   "cell_type": "code",
   "execution_count": null,
   "id": "99b10d58-5a0b-434d-98d6-c47a576e7074",
   "metadata": {
    "tags": []
   },
   "outputs": [],
   "source": [
    "Tai = Tic / (1 + 0.2 * Kt * Mic**2) # (K)\n",
    "print(f'Tamperature: {Tai} K')"
   ]
  },
  {
   "cell_type": "markdown",
   "id": "6cab1f14-0b9f-4ea7-9d25-7e2fe615d26f",
   "metadata": {},
   "source": [
    "and now we can get:\n",
    "\n",
    "$\\theta_{test} = \\frac{T_{ai}}{T_0}$"
   ]
  },
  {
   "cell_type": "code",
   "execution_count": null,
   "id": "5405d96e-cc2e-48eb-9959-477e9a4c5f65",
   "metadata": {
    "tags": []
   },
   "outputs": [],
   "source": [
    "theta_test = Tai / T0\n",
    "print(f'theta test {theta_test}')"
   ]
  },
  {
   "cell_type": "markdown",
   "id": "6505a066-2b07-4f99-8f73-e0aca7d10a9d",
   "metadata": {},
   "source": [
    "$V_{ti}=M_{ic} * a_0 * \\sqrt{\\theta_{test}}$"
   ]
  },
  {
   "cell_type": "code",
   "execution_count": null,
   "id": "d9785ff0-d50c-47d8-a3b5-d29a1f42280d",
   "metadata": {
    "tags": []
   },
   "outputs": [],
   "source": [
    "Vti = Mic * a0 * np.sqrt(theta_test) * ms2kt # (KTAS)\n",
    "print(f'Indicated true airspeed: {Vti} KTAS')"
   ]
  },
  {
   "cell_type": "markdown",
   "id": "67cefc4b-d2e9-4b58-9e54-801a66a3ae80",
   "metadata": {},
   "source": [
    "## Cloverleaf / Matrix Inversion Method"
   ]
  },
  {
   "cell_type": "markdown",
   "id": "e0b5a51c-0c90-4711-b3af-51651d3bef28",
   "metadata": {
    "tags": []
   },
   "source": [
    "![038](pictures/wind_triangles.png)"
   ]
  },
  {
   "cell_type": "markdown",
   "id": "705bddc9-f296-49e5-9d47-26fee9cda8ad",
   "metadata": {},
   "source": [
    "## GPS Side"
   ]
  },
  {
   "cell_type": "markdown",
   "id": "9ed97884-8edb-45aa-ac22-43c8f9dc6d83",
   "metadata": {
    "tags": []
   },
   "source": [
    "For one wind triangle we have:\n",
    "\n",
    "$\\vec{V_g}=\\vec{V_{t}} + \\vec{V_w}$\n",
    "\n",
    "$\\vec{V_g}=\\vec{V_{ti}} + \\Delta \\vec{V_t} + \\vec{V_w}$\n",
    "\n",
    "from which we can write:\n",
    "\n",
    "$\\vec{V_{ti}} + \\Delta \\vec{V_t} = \\vec{V_g} - \\vec{V_w}$"
   ]
  },
  {
   "cell_type": "markdown",
   "id": "b839f07e-3706-4b8d-999e-222085fe84ec",
   "metadata": {
    "tags": []
   },
   "source": [
    "Assumptions for each pass:\n",
    "* True airspeed error $\\Delta \\vec{V_t}$ is constant;\n",
    "* Wind $\\vec{V_w}$ is constant;\n",
    "* No up/down draft (horizontal wind);\n",
    "* True airspeed vector is parallel to true airspeed error (aligned)"
   ]
  },
  {
   "cell_type": "markdown",
   "id": "0bd28e21-bd1e-400d-bab3-4e56e9bd2f75",
   "metadata": {},
   "source": [
    "![039](pictures/wind_triangles2_parallel_dv.png)"
   ]
  },
  {
   "cell_type": "markdown",
   "id": "901aee01-01d7-4c8e-af02-f90b694ae15d",
   "metadata": {},
   "source": [
    "With these assumptions, we can write:\n",
    "\n",
    "constant error: $\\Delta \\vec{V_{t1}} = \\Delta \\vec{V_{t2}} = \\Delta \\vec{V_{t3}}$ and\n",
    "\n",
    "since $\\Delta \\vec{V_t} \\parallel \\vec{V_t}$:\n",
    "\n",
    "$\\theta_{ti1} = \\phi_{\\Delta V_{t1}}$;\n",
    "\n",
    "$\\theta_{ti2} = \\phi_{\\Delta V_{t2}}$;\n",
    "\n",
    "$\\theta_{ti3} = \\phi_{\\Delta V_{t3}}$"
   ]
  },
  {
   "cell_type": "markdown",
   "id": "c6318b5b-e631-4ee6-9f55-6cba200dadc6",
   "metadata": {},
   "source": [
    "Which allows for to the magnitude of the true airspeed to be written:\n",
    "\n",
    "$V_t = V_{ti} + \\Delta V_t$\n",
    "\n",
    "We can rearrange the original vector equation and get:\n",
    "\n",
    "$\\vec{V_t} = \\vec{V_g} - \\vec{V_w}$"
   ]
  },
  {
   "cell_type": "markdown",
   "id": "b9c8deff-7364-417e-9ce8-e70461176782",
   "metadata": {
    "tags": []
   },
   "source": [
    "...and decompose the vector equation into each vector component for E and N directions:\n",
    "\n",
    "$V_{tE}=V_{gE} - V_{wE}$\n",
    "\n",
    "$V_{tN}=V_{gN} - V_{wN}$, with\n",
    "\n",
    "$V_{gE}=V{g}*sin( \\sigma_g)$ and\n",
    "\n",
    "$V_{gN}=V{g}*cos( \\sigma_g)$"
   ]
  },
  {
   "cell_type": "code",
   "execution_count": null,
   "id": "207e8cf8-432e-444c-9438-9d3710ba441a",
   "metadata": {
    "tags": []
   },
   "outputs": [],
   "source": [
    "# ground speed components\n",
    "VgE = Vg * np.sin(sigma_g * d2r)\n",
    "VgN = Vg * np.cos(sigma_g * d2r)"
   ]
  },
  {
   "cell_type": "markdown",
   "id": "cde4f38f-d338-4d16-9e2c-cc7658fd73de",
   "metadata": {
    "tags": []
   },
   "source": [
    "We can use Pythagoras on the true airspeed:\n",
    "\n",
    "$V_{t}^2 = V_{tE}^2 + V_{tN}^2$, or after subsituting:\n",
    "* $V_t = V_{ti} + \\Delta V_t$;\n",
    "* $V_{tE}=V_{gE} - V_{wE}$ and\n",
    "* $V_{tN}=V_{gN} - V_{wN}$\n",
    "\n",
    "we get:\n",
    "\n",
    "$(V_{ti} + \\Delta V_{t})^2 = (V_{gE} - V_{wE})^2 + (V_{gN} - V_{wN})^2$"
   ]
  },
  {
   "cell_type": "markdown",
   "id": "00b54e1c-b687-405b-bbca-f187010ccaad",
   "metadata": {
    "tags": []
   },
   "source": [
    "Expanding:\n",
    "\n",
    "$V_{ti}^2 + 2V_{ti} \\Delta V_{t} + \\Delta V_{t}^2 = V_{gE}^2 -2V_{gE}V_{wE}+V_{wE}^2+V_{gN}^2-2V_{gN}V_{wN}+V_{wN}^2$\n",
    "\n",
    "Grouping:\n",
    "\n",
    "$(2V_{ti} + \\Delta V_{t}) \\Delta V_{t}+(2 V_{gE} - V_{wE})V_{wE} + (2 V_{gN} - V_{wN})V_{wN} = V_{gE}^2 + V_{gN}^2 - V_{ti}^2$\n",
    "\n",
    "But $V_{g}^2 = V_{gE}^2 + V_{gN}^2$, then\n",
    "\n",
    "$(2V_{ti} + \\Delta V_{t}) \\Delta V_{t}+(2 V_{gE} - V_{wE})V_{wE} + (2 V_{gN} - V_{wN})V_{wN} = V_{g}^2 - V_{ti}^2$"
   ]
  },
  {
   "cell_type": "markdown",
   "id": "828647fc-179d-4c9c-85df-346243f84a5d",
   "metadata": {},
   "source": [
    "Writing this equation for all three runs:\n",
    "\n",
    "$(2V_{ti_{1}} + \\Delta V_{t}) \\Delta V_{t}+(2 V_{gE_{1}} - V_{wE})V_{wE} + (2 V_{gN_{1}} - V_{wN})V_{wN} = V_{g_{1}}^2 - V_{ti_{1}}^2$\n",
    "\n",
    "$(2V_{ti_{2}} + \\Delta V_{t}) \\Delta V_{t}+(2 V_{gE_{2}} - V_{wE})V_{wE} + (2 V_{gN_{2}} - V_{wN})V_{wN} = V_{g_{2}}^2 - V_{ti_{2}}^2$\n",
    "\n",
    "$(2V_{ti_{3}} + \\Delta V_{t}) \\Delta V_{t}+(2 V_{gE_{3}} - V_{wE})V_{wE} + (2 V_{gN_{3}} - V_{wN})V_{wN} = V_{g_{3}}^2 - V_{ti_{3}}^2$"
   ]
  },
  {
   "cell_type": "markdown",
   "id": "dd7a3b78-c2b6-46d1-8b47-6c951718300c",
   "metadata": {
    "tags": []
   },
   "source": [
    "Or, as a matrix:\n",
    "\n",
    "$\\begin{bmatrix} 2V_{ti_{1}}+\\Delta V_t & 2V_{gE_{1}}-V_{wE} & 2V_{gN_{1}}-V_{wN} \\\\\n",
    "                 2V_{ti_{2}}+\\Delta V_t & 2V_{gE_{2}}-V_{wE} & 2V_{gN_{2}}-V_{wN} \\\\\n",
    "                 2V_{ti_{3}}+\\Delta V_t & 2V_{gE_{3}}-V_{wE} & 2V_{gN_{3}}-V_{wN}\n",
    "\\end{bmatrix} *\n",
    "\\begin{bmatrix} \\Delta V_t \\\\\n",
    "                V_{wE} \\\\\n",
    "                V_{wN}\n",
    "\\end{bmatrix}=\n",
    "\\begin{bmatrix} V_{g_{1}}^2 - V_{ti_{1}}^2 \\\\\n",
    "                V_{g_{2}}^2 - V_{ti_{2}}^2 \\\\\n",
    "                V_{g_{3}}^2 - V_{ti_{3}}^2\n",
    "\\end{bmatrix}$"
   ]
  },
  {
   "cell_type": "markdown",
   "id": "81a86696-974e-46c2-ab76-b0c1ba68b796",
   "metadata": {
    "tags": []
   },
   "source": [
    "The matrix equation is in the form:\n",
    "\n",
    "$\\begin{bmatrix} A\n",
    "\\end{bmatrix} *\n",
    "\\begin{bmatrix} x\n",
    "\\end{bmatrix}=\n",
    "\\begin{bmatrix} C\n",
    "\\end{bmatrix}$\n",
    "\n",
    "or\n",
    "\n",
    "$\\begin{bmatrix} x\n",
    "\\end{bmatrix} =\n",
    "\\begin{bmatrix} A^{-1}\n",
    "\\end{bmatrix}*\n",
    "\\begin{bmatrix} C\n",
    "\\end{bmatrix}$\n",
    "\n",
    "But the elements of [A] depend on the variables we are trying to solve for: $ \\Delta V_t$, $   V_{wE}$ and $V_{wN}$... how to solve this?"
   ]
  },
  {
   "cell_type": "markdown",
   "id": "08d54d48-3737-4af7-95d3-ac145f48e2d2",
   "metadata": {
    "tags": []
   },
   "source": [
    "Solution - iterative\n",
    "\n",
    "Start with:\n",
    "\n",
    "$\\begin{bmatrix} \\Delta V_t \\\\\n",
    "                V_{wE} \\\\\n",
    "                V_{wN}\n",
    "\\end{bmatrix}=\n",
    "\\begin{bmatrix} 0 \\\\\n",
    "                0 \\\\\n",
    "                0\n",
    "\\end{bmatrix}$\n",
    "\n",
    "..."
   ]
  },
  {
   "cell_type": "code",
   "execution_count": null,
   "id": "fd2ceb9e-53e5-4481-becb-bb89c6bfef01",
   "metadata": {
    "tags": []
   },
   "outputs": [],
   "source": [
    "# create solution matrix\n",
    "# Initial guess\n",
    "delta_Vt = 0\n",
    "VwE = 0\n",
    "VwN = 0"
   ]
  },
  {
   "cell_type": "markdown",
   "id": "968e364c-d6c2-48df-bef1-6cc876c8b34f",
   "metadata": {
    "tags": []
   },
   "source": [
    "\n",
    "...calculate the complete matrices $[A]$ and $[C]$, invert $[A]$, calculate $[A^{-1}]*[C]$ and make this the new values for $\\begin{bmatrix} \\Delta V_t \\\\\n",
    "                V_{wE} \\\\\n",
    "                V_{wN}\n",
    "\\end{bmatrix}$\n",
    "\n",
    "Repeat until convergence is reached."
   ]
  },
  {
   "cell_type": "code",
   "execution_count": null,
   "id": "4524cb4b-18c6-4261-8564-16dfddba8812",
   "metadata": {
    "tags": []
   },
   "outputs": [],
   "source": [
    "# max iterations\n",
    "max_iter = 100 # maximum numbe of iterations, in case there is no convergence\n",
    "converged = False # flag for convergence check\n",
    "epsilon = 1E-9 # expected maximum error in solution\n",
    "i = 0 # iteration counter\n",
    "\n",
    "C = np.array([Vg**2 - Vti**2]).transpose()\n",
    "\n",
    "while i < max_iter and not converged:\n",
    "    # assemble matrices\n",
    "    x = np.array([[delta_Vt], [VwE], [VwN]])\n",
    "    A = np.array([2 * Vti + delta_Vt, 2 * VgE - VwE, 2 * VgN - VwN]).transpose()\n",
    "    \n",
    "    # calculate solution\n",
    "    # hint: shift-tab to access function help\n",
    "    # np.linalg.inv\n",
    "    x_prime = np.matmul(np.linalg.inv(A), C)\n",
    "    \n",
    "    # calculate accumulated error\n",
    "    delta_x = ((x - x_prime)**2).sum()\n",
    "    print(f'iteration {i+1}, error squared: {delta_x}')\n",
    "    \n",
    "    if delta_x <= epsilon:\n",
    "        print()\n",
    "        print(f'solution converged with {i+1} iterations.')\n",
    "        print()\n",
    "        print(f'Delta Vt         : {x_prime[0][0]} kts')\n",
    "        print(f'Wind Speed East  : {x_prime[1][0]} kts')\n",
    "        print(f'Wind Speed North : {x_prime[2][0]} kts')\n",
    "        converged = True\n",
    "    \n",
    "    # feedback for next iteration\n",
    "    delta_Vt = x_prime[0][0]\n",
    "    VwE = x_prime[1][0]\n",
    "    VwN = x_prime[2][0]\n",
    "    i += 1\n",
    "\n",
    "if not converged:\n",
    "    print()\n",
    "    print(f'solution did not converge after {i} iterations.')\n"
   ]
  },
  {
   "cell_type": "markdown",
   "id": "8102edbc-dc8b-4a55-b5d2-a9eef29948c0",
   "metadata": {},
   "source": [
    "The wind speed, from Pythagoras:\n",
    "\n",
    "$V_w = \\sqrt{V_{wE}^2 + V_{wN}^2}$"
   ]
  },
  {
   "cell_type": "code",
   "execution_count": null,
   "id": "9844b784-ac99-4e3c-9118-b94082339b3f",
   "metadata": {
    "tags": []
   },
   "outputs": [],
   "source": [
    "Vw = np.sqrt(VwE**2 + VwN**2)\n",
    "print(f'Calculated Wind Speed  : {Vw} kts')"
   ]
  },
  {
   "cell_type": "markdown",
   "id": "46476cbb-aee3-4f97-a05d-5ec321f26e9f",
   "metadata": {},
   "source": [
    "Wind direction:\n",
    "\n",
    "Note that if we apply the arctangent directly, it will result in the wrong quadrant. So we need to correct for this by:\n",
    "\n",
    "$\\psi_w = (arctan(V_{wE},V_{wN})) + 2\\pi) \\bmod (2 \\pi)$ "
   ]
  },
  {
   "cell_type": "code",
   "execution_count": null,
   "id": "03b7f82e-28c3-483c-a584-d90a7a4ba59e",
   "metadata": {
    "tags": []
   },
   "outputs": [],
   "source": [
    "psi_w_c = (np.arctan2(VwE, VwN) + 2 * np.pi) % (2 * np.pi) # (rad)\n",
    "print(f'Calculated Wind Direction  : {psi_w_c*r2d} degrees')"
   ]
  },
  {
   "cell_type": "markdown",
   "id": "6966a596-7932-4fc7-9d93-40738f427459",
   "metadata": {},
   "source": [
    "Calculate the truth true airspeed:\n",
    "\n",
    "$V_t=V_{ti}+\\Delta V_{t}$\n",
    "\n",
    "We would have 3 values, but one of the assumptions of the method is that the airspeed is maintained constant. Therefore, we can take the average of the 3  indicated true airspeeds and write instead:\n",
    "\n",
    "$V_t=\\bar{V_{ti}}+\\Delta V_{t}$"
   ]
  },
  {
   "cell_type": "code",
   "execution_count": null,
   "id": "c950b882-26e7-4fcb-bc85-96a2c44aee33",
   "metadata": {
    "tags": []
   },
   "outputs": [],
   "source": [
    "Vt = Vti.mean() + delta_Vt\n",
    "print(f'Truth True Airspeed  : {Vt} kts')"
   ]
  },
  {
   "cell_type": "markdown",
   "id": "affbacac-baee-4b3a-861a-49f5743f1944",
   "metadata": {},
   "source": [
    "Ambient temperature:\n",
    "\n",
    "$T_a = T_{ic} - \\frac{K_t V_{t}^2}{2C_p}$\n",
    "\n",
    "with the same assumption, that we can take the average, we write instead:\n",
    "\n",
    "$T_a = \\bar{T_{ic}} - \\frac{K_t V_{t}^2}{2C_p}$"
   ]
  },
  {
   "cell_type": "code",
   "execution_count": null,
   "id": "e58e8a67-cfcf-4abd-b8a4-13c628c3eadb",
   "metadata": {
    "tags": []
   },
   "outputs": [],
   "source": [
    "Ta = Tic.mean() - (Kt * (Vt*kt2ms)**2) / (2 * Cp)\n",
    "print(f'Ambient temperature: {Ta} K')"
   ]
  },
  {
   "cell_type": "markdown",
   "id": "dcde1742-3d40-49ad-8a4e-61e8b614632d",
   "metadata": {},
   "source": [
    "Recall that $\\theta_{test}=\\frac{T_{a}}{T_0}$"
   ]
  },
  {
   "cell_type": "code",
   "execution_count": null,
   "id": "91eeecb1-9354-4c1e-b439-0ba8e06d3220",
   "metadata": {
    "tags": []
   },
   "outputs": [],
   "source": [
    "theta_test = Ta / T0"
   ]
  },
  {
   "cell_type": "markdown",
   "id": "2dd3f983-20b6-49e8-8a43-8fff3b23c3d4",
   "metadata": {},
   "source": [
    "Directly find the Mach position error $\\Delta M_{pc}$\n",
    "\n",
    "$\\Delta M_{pc}=\\frac{\\Delta V_t}{a_0*\\sqrt{\\theta_{test}}}$"
   ]
  },
  {
   "cell_type": "code",
   "execution_count": null,
   "id": "f8fb4268-9a38-42ac-adf1-1a8800982d20",
   "metadata": {
    "tags": []
   },
   "outputs": [],
   "source": [
    "delta_Mpc = (delta_Vt*kt2ms) / (a0 * np.sqrt(theta_test))\n",
    "print(f'Mach position error: {delta_Mpc}')"
   ]
  },
  {
   "cell_type": "markdown",
   "id": "1794f06a-2521-48b3-b77c-6f4c0114ff2c",
   "metadata": {},
   "source": [
    "The truth Mach number can be obtained from:\n",
    "\n",
    "$M = \\bar{M_{ic}} + \\Delta M_{pc}$"
   ]
  },
  {
   "cell_type": "code",
   "execution_count": null,
   "id": "43f735ee-dc4e-472e-9e63-e98c6adcf06b",
   "metadata": {
    "tags": []
   },
   "outputs": [],
   "source": [
    "M = Mic.mean() + delta_Mpc\n",
    "print(f'Truth Mach number: {M}')"
   ]
  },
  {
   "cell_type": "markdown",
   "id": "4de2ab53-2047-4563-8c45-5c6037aa7e52",
   "metadata": {},
   "source": [
    "From the truth M, calculate total over ambient pressure ratio ->   $\\frac{p_T}{p_a}=(1+0.2M^2)^\\frac{7}{2}$"
   ]
  },
  {
   "cell_type": "code",
   "execution_count": null,
   "id": "84e8b649-e9e7-4f8d-86e4-d1a2fabbdffd",
   "metadata": {
    "tags": []
   },
   "outputs": [],
   "source": [
    "pt_over_pa = (1 + 0.2 * M**2)**(7 / 2)\n",
    "print(f'pt_over_pa: {pt_over_pa}')"
   ]
  },
  {
   "cell_type": "markdown",
   "id": "114d477a-1438-462a-bfc4-0152eda0a92d",
   "metadata": {},
   "source": [
    "Finally, the position error ratio is:\n",
    "\n",
    "$\\frac{\\Delta p_s}{p_s}=(\\frac{1}{\\frac{p_T}{p_s}}-\\frac{1}{\\frac{p_T}{p_a}})\\frac{p_T}{p_s}$"
   ]
  },
  {
   "cell_type": "code",
   "execution_count": null,
   "id": "2e1c8acc-e61b-4a82-8300-c67786df0e35",
   "metadata": {
    "tags": []
   },
   "outputs": [],
   "source": [
    "delta_ps_over_ps = ((1 / pt_over_ps) - (1 / pt_over_pa)) * pt_over_ps\n",
    "print(f'delta_ps_over_ps: {delta_ps_over_ps}')"
   ]
  },
  {
   "cell_type": "markdown",
   "id": "ad98623d-47bf-43ba-a6bf-0465b34a9420",
   "metadata": {},
   "source": [
    "_____ common part _____"
   ]
  },
  {
   "cell_type": "code",
   "execution_count": null,
   "id": "fcd4d559-716b-4432-9261-e34889ba7736",
   "metadata": {
    "tags": []
   },
   "outputs": [],
   "source": [
    "delta_ps_over_ps_runs = np.array([-0.000489, 0.001343, 0.002498, -0.000712, 0.001986, 0.002724])\n",
    "Vic_runs = np.array([130, 220, 290, 145, 190, 270]) # (kts)\n",
    "Hic_runs = np.array([6000, 6000, 6000, 15000, 15000, 15000]) # (ft)"
   ]
  },
  {
   "cell_type": "markdown",
   "id": "7aa27a23-44b2-43af-bc7b-7d4e176d211e",
   "metadata": {},
   "source": [
    "_____\n",
    "# *Common Part*\n",
    "from $\\frac{\\Delta p_s}{p_s}$ from multiple runs -> $\\Delta H_{pc}$ and $\\Delta V_{pc}$\n",
    "_____"
   ]
  },
  {
   "cell_type": "markdown",
   "id": "07b7d049-1075-43fd-a970-083df7e10395",
   "metadata": {},
   "source": [
    "## Verification against FAR 25 limits\n",
    "\n",
    "The civil regs define acceptable errors in terms of $\\Delta H_{pc}$ and $\\Delta V_{pc}$.\n",
    "\n",
    "The sequence to obtain $\\Delta H_{pc}$ from $\\frac{\\Delta p_s}{p_s}$ is:\n",
    "\n",
    "<span style=\"color: green;\">truth source:</span>\n",
    "\n",
    "<span style=\"color: green;\"> * set reference conditions (ISA/sea level in our case - $H_{c_{ref-alt}}=0$ ft)</span>\n",
    "\n",
    "<span style=\"color: green;\"> * calculate ambient pressure at ref cond. $p_{a_{ref-alt}}$</span>\n",
    "\n",
    "<span style=\"color: red;\">ship side:</span>\n",
    "\n",
    "<span style=\"color: red;\">* with $\\frac{\\Delta p_s}{p_s}$ and $p_{a_{ref-alt}}$ find static pressure at reference conditions $p_{s_{ref-alt}}$</span>\n",
    "\n",
    "<span style=\"color: red;\">* find the indicated altitude at ref conditions $H_{ic_{ref-alt}}$</span>\n",
    "\n",
    "Altitude position correction will be $\\Delta H_{pc_{ref-lat}}=H_{c_{ref-alt}}-H_{ic_{ref-alt}}$\n",
    "___"
   ]
  },
  {
   "cell_type": "markdown",
   "id": "badfa4a7-5f1b-40e6-8115-50d61a68861d",
   "metadata": {},
   "source": [
    "Define first a **reference altitude** to reduce flight test data to.\n",
    "\n",
    "In the FAR 25 case, we will use **sea level** at **ISA** conditions.\n",
    "\n",
    "* $H_{c_{ref-alt}}=0ft$; \n",
    "* $T_{ref-alt}=T_0=288.15K$"
   ]
  },
  {
   "cell_type": "code",
   "execution_count": null,
   "id": "6524adb0-e188-4b0c-b1cf-02b1dd44e17a",
   "metadata": {},
   "outputs": [],
   "source": [
    "# reference altitude = 0ft = sea level\n",
    "Hc_ref_alt = 0 # (ft)\n",
    "T_ref_alt = T0 # (K)"
   ]
  },
  {
   "cell_type": "markdown",
   "id": "a29ec27e-d3d4-4c67-997b-181dfdf45fb5",
   "metadata": {},
   "source": [
    "ambient pressure at reference altitude:\n",
    "\n",
    "$p_{a_{ref-alt}}=p_0*(1+\\frac{L}{T_0}*H_{c_{ref-alt}}^{(\\frac{-g_0}{RL})})$\n",
    "\n",
    "Note that we know this is $p_0$ for zero altitde and ISA, but if the reference altitude was different..."
   ]
  },
  {
   "cell_type": "code",
   "execution_count": null,
   "id": "1e07be24-1866-4a77-942b-dd347c279a1f",
   "metadata": {},
   "outputs": [],
   "source": [
    "pa_ref_alt = p0 * (1 + L / T0 * (Hc_ref_alt*ft2m))**(-g_zero / ( R * L)) # (Pa)\n",
    "print(f'ambient pressure at reference altitude: {pa_ref_alt} Pa')"
   ]
  },
  {
   "cell_type": "markdown",
   "id": "4f844947-8b37-4461-a645-0e88ec915c42",
   "metadata": {
    "tags": []
   },
   "source": [
    "static pressure at reference altitude:\n",
    "\n",
    "$p_{s_{ref-alt}} = \\frac{p_{a_{ref-alt}}}{1-\\frac{\\Delta p_s}{p_s}}$"
   ]
  },
  {
   "cell_type": "code",
   "execution_count": null,
   "id": "236a38b8-8b3f-4b6d-8681-51eb4c6f814d",
   "metadata": {},
   "outputs": [],
   "source": [
    "ps_ref_alt = pa_ref_alt /  (1 - delta_ps_over_ps_runs) # (Pa)\n",
    "print(f'static pressure at reference altitude: {ps_ref_alt} Pa')"
   ]
  },
  {
   "cell_type": "markdown",
   "id": "edc8e1c7-b6c5-47fd-bd9a-ca9d6038f8ca",
   "metadata": {},
   "source": [
    "$\\delta_{ic}$ at reference altitude; note subscript *ic* because it includes position error:\n",
    "\n",
    "$\\delta_{ic_{ref-alt}}=\\frac{p_{s_{ref-alt}}}{p_0}$"
   ]
  },
  {
   "cell_type": "code",
   "execution_count": null,
   "id": "d3ec08db-5e08-46de-9515-b7fa6fc2dca1",
   "metadata": {},
   "outputs": [],
   "source": [
    "deltaISA_ic_ref_alt = ps_ref_alt / p0\n",
    "print(f'deltaISA at reference altitude: {deltaISA_ic_ref_alt}')"
   ]
  },
  {
   "cell_type": "markdown",
   "id": "15b9d0bf-d700-4846-8b57-4c4a025adeee",
   "metadata": {},
   "source": [
    "Indicated, instrument corrected altitude at reference altitude:\n",
    "\n",
    "$H_{ic_{ref-alt}}=\\frac{T_0}{L}(\\delta_{ic_{ref-alt}}^{-(\\frac{RL}{g_0})}-1)$"
   ]
  },
  {
   "cell_type": "code",
   "execution_count": null,
   "id": "c7d532d7-a661-47c3-8036-05a12c090598",
   "metadata": {},
   "outputs": [],
   "source": [
    "Hic_ref_alt = T0 / L * ((deltaISA_ic_ref_alt)**(-(R * L / g_zero)) -1) * m2ft # (ft)\n",
    "print(f'indicated altitude at reference altitude: {Hic_ref_alt} ft')"
   ]
  },
  {
   "cell_type": "markdown",
   "id": "8db05509-3a7e-4481-97c0-1b402e7a2577",
   "metadata": {},
   "source": [
    "Altitude position correction:\n",
    "\n",
    "$\\Delta H_{pc_{ref-alt}}=H_{c_{ref-alt}}-H_{ic_{ref-alt}}$"
   ]
  },
  {
   "cell_type": "code",
   "execution_count": null,
   "id": "2f18743e-3dd8-4c1f-a341-27808640422e",
   "metadata": {},
   "outputs": [],
   "source": [
    "delta_Hpc_ref_alt = Hc_ref_alt - Hic_ref_alt # (ft)\n",
    "print(f'delta Hc = {delta_Hpc_ref_alt} ft, with reference altitude={Hc_ref_alt} ft')"
   ]
  },
  {
   "cell_type": "markdown",
   "id": "b7bfbfbc-10c6-42b4-8597-c5e17748392b",
   "metadata": {},
   "source": [
    "## Airpeed (*and Mach*) position corrections\n",
    "\n",
    "Because we will need $\\frac{q_{c}}{p_a}$ to calculate the airspeed correction, we find first the Mach position correction:\n",
    "\n",
    "To obtain $\\Delta M_{pc}$ from $V_{ic_{test}}$ and $\\frac{\\Delta p_s}{p_s}$:\n",
    "\n",
    "<span style=\"color: red;\">ship side:</span>\n",
    "\n",
    "<span style=\"color: red;\">* from our test condition $V_{ic_{test}}$, calculate the differential pressure ratio $(\\frac{q_{cic}}{p_0})_{test}$</span>\n",
    "\n",
    "<span style=\"color: red;\">* from our test condition $H_{ic_{test}}$, calculate $\\delta_{ic_{test}}$</span>\n",
    "\n",
    "<span style=\"color: red;\">* from $(\\frac{q_{cic}}{p_0})_{test}$ and $\\delta_{ic_{test}}$ get $\\frac{q_{cic}}{p_s}$ at test condition</span>\n",
    "\n",
    "<span style=\"color: red;\">* calculate instrument corrected indicated Mach for test conditions $M_{ic_{test}}$</span>\n",
    "\n",
    "<span style=\"color: green;\">truth source:</span>\n",
    "\n",
    "<span style=\"color: green;\">* from $\\frac{q_{cic}}{p_s}$ and $\\frac{\\Delta p_s}{p_s}$, get $\\frac{q_{c}}{p_a}$</span>\n",
    "\n",
    "<span style=\"color: green;\">* from $\\frac{q_{c}}{p_a}$ calculate truth Mach</span>\n",
    "\n",
    "Mach position correction will be $\\Delta M_{pc}=M-M_{ic}$\n",
    "____"
   ]
  },
  {
   "cell_type": "markdown",
   "id": "3f760b30-b46f-47fe-b4ad-eff6e5c1f317",
   "metadata": {},
   "source": [
    "To find $\\Delta V_{pc}$:\n",
    "\n",
    "<span style=\"color: green;\">truth source:</span>\n",
    "\n",
    "<span style=\"color: green;\">* from $\\delta_{ref-alt}$ and $\\frac{q_c}{p_a}$ find $(\\frac{q_c}{p_0})_{ref-alt}$</span>\n",
    "\n",
    "<span style=\"color: green;\">* calculate the instrument corrected (truth) airspeed at reference conditions $V_{c_{ref-alt}}$</span>\n",
    "\n",
    "<span style=\"color: red;\">ship side:</span>\n",
    "\n",
    "<span style=\"color: red;\">* from $(\\frac{q_c}{p_0})_{ref-alt}$ and $\\frac{\\Delta p_s}{p_s}$, get $(\\frac{q_{cic}}{p_0})_{ref-alt}$</span>\n",
    "\n",
    "<span style=\"color: red;\">* calculate the instrument corrected indicated airspeed at reference conditions $V_{ic_{ref-alt}}$</span>\n",
    "\n",
    "Airspeed position correction will be $\\Delta V_{pc_{ref-lat}}=V_{c_{ref-alt}}-V_{ic_{ref-alt}}$\n",
    "___"
   ]
  },
  {
   "cell_type": "markdown",
   "id": "d3d5aa81-91fd-4553-9b54-379da18565b0",
   "metadata": {},
   "source": [
    "Starting from first step:\n",
    "\n",
    "$(\\frac{q_{cic}}{p_0})_{test}=(1+0.2 (\\frac{V_{ic_{test}}}{a_0})^2)^\\frac{7}{2}-1$"
   ]
  },
  {
   "cell_type": "code",
   "execution_count": null,
   "id": "3886a1cc-c7ed-4f8f-8a75-ee9b2af04cf6",
   "metadata": {},
   "outputs": [],
   "source": [
    "qcic_over_p0_runs = (1 + 0.2 * ((Vic_runs * kt2ms) / a0)**2)**(7 / 2) -1\n",
    "print(f'qcic_over_p0 for test runs: {qcic_over_p0_runs}')"
   ]
  },
  {
   "cell_type": "markdown",
   "id": "11c6ac88-d052-4079-8313-f59a9b9036ad",
   "metadata": {},
   "source": [
    "$\\delta_{ic_{test}}=(1+\\frac{L}{T_0}(H_{ic_{test}})^{(\\frac{-g_0}{RL})})$"
   ]
  },
  {
   "cell_type": "code",
   "execution_count": null,
   "id": "86b4578f-743b-4e05-babb-785d8ee624c8",
   "metadata": {},
   "outputs": [],
   "source": [
    "deltaISA_ic_runs = (1 + L / T0 * (Hic_runs * ft2m))**(-g_zero / (R * L))\n",
    "print(f'deltaISA_ic for test runs: {deltaISA_ic_runs}')"
   ]
  },
  {
   "cell_type": "markdown",
   "id": "56223373-9e60-47e5-80b2-d637a42b05c6",
   "metadata": {},
   "source": [
    "$\\frac{q_{cic}}{p_s}=\\frac{q_{cic}}{p_0}*\\frac{p_0}{p_s}=(\\frac{q_{cic}}{p_0})_{test} * \\frac{1}{\\delta_{ic_{test}}}$"
   ]
  },
  {
   "cell_type": "code",
   "execution_count": null,
   "id": "a51f932d-9796-468e-b788-22bb4b662441",
   "metadata": {},
   "outputs": [],
   "source": [
    "qcic_over_ps = qcic_over_p0_runs / deltaISA_ic_runs\n",
    "print(f'qcic_over_ps for test runs: {qcic_over_ps}')"
   ]
  },
  {
   "cell_type": "markdown",
   "id": "50e8e291-2f5f-4569-b5f5-35ed7ccea4f1",
   "metadata": {},
   "source": [
    "$M_{ic_{test}}=\\sqrt{5*((\\frac{q_{cic}}{p_s}+1)^{\\frac{2}{7}}-1)}$\n",
    "\n",
    "And because we will use this expression 2 times, let´s create a function!"
   ]
  },
  {
   "cell_type": "code",
   "execution_count": null,
   "id": "5c2480d0-825f-4795-9b7a-067f17966444",
   "metadata": {},
   "outputs": [],
   "source": [
    "def M_from_q_over_p(q_over_p: float) -> float:\n",
    "    '''\n",
    "    Calcucate Mach from q over ps\n",
    "    '''\n",
    "    return np.sqrt(5 * ((q_over_p + 1)**(2 / 7) -1))\n",
    "\n",
    "Mic_runs = M_from_q_over_p(qcic_over_ps)\n",
    "print(f'indicated Mach for test run: {Mic_runs} ')"
   ]
  },
  {
   "cell_type": "markdown",
   "id": "bfec1a65-71e4-4fb5-9fce-022f3cf29161",
   "metadata": {},
   "source": [
    "$\\frac{q_{c}}{p_a}=\\frac{\\frac{q_cic}{p_s}+1}{1-\\frac{\\Delta p_s}{p_s}}-1$"
   ]
  },
  {
   "cell_type": "code",
   "execution_count": null,
   "id": "c1ab7333-6f7c-4930-948e-3e827adc575d",
   "metadata": {},
   "outputs": [],
   "source": [
    "qc_over_pa = (qcic_over_ps + 1) / (1 - delta_ps_over_ps_runs) - 1\n",
    "print(f'qc_over_pa for test runs: {qc_over_pa}')"
   ]
  },
  {
   "cell_type": "markdown",
   "id": "58065672-8902-4cb5-8719-a81fc61d5a6d",
   "metadata": {},
   "source": [
    "$M=\\sqrt{5*((\\frac{q_{c}}{p_a}+1)^{\\frac{2}{7}}-1)}$"
   ]
  },
  {
   "cell_type": "code",
   "execution_count": null,
   "id": "34719c68-ad05-48c3-b279-2344f5cb1372",
   "metadata": {},
   "outputs": [],
   "source": [
    "M = M_from_q_over_p(qc_over_pa)\n",
    "print(f'Truth Mach for test runs: {M}')"
   ]
  },
  {
   "cell_type": "markdown",
   "id": "6d6eac23-7c45-4afc-9286-c1ee1b9a2c37",
   "metadata": {},
   "source": [
    "Find the delta M\n",
    "\n",
    "$\\Delta M_{pc}=M-M_{ic}$"
   ]
  },
  {
   "cell_type": "code",
   "execution_count": null,
   "id": "a883d4fc-73ea-478b-9b99-e792c1b77ca6",
   "metadata": {},
   "outputs": [],
   "source": [
    "delta_Mpc = M - Mic_runs\n",
    "print(f'Mach position correctins for test runs: {delta_Mpc}')"
   ]
  },
  {
   "cell_type": "markdown",
   "id": "e998cb02-0037-46cb-a3d6-a36f2809fda6",
   "metadata": {},
   "source": [
    "$\\delta_{ref-alt}=(1+\\frac{L}{T_0}(H_{c_{ref-alt}})^{(\\frac{-g_0}{RL})})$\n",
    "\n",
    "*note: since we already calculated ambient pressure at reference altitude, we could just do $\\frac{p_{a_{ref-alt}}}{p_0}$ ...*"
   ]
  },
  {
   "cell_type": "code",
   "execution_count": null,
   "id": "945b2e31-b414-4940-a197-7677900b669f",
   "metadata": {},
   "outputs": [],
   "source": [
    "deltaISA_ref_alt = (1 + L / T0 * (Hc_ref_alt * ft2m))**(-g_zero / (R * L))\n",
    "print(f'deltaISA for reference altitude: {deltaISA_ref_alt}')"
   ]
  },
  {
   "cell_type": "markdown",
   "id": "2d6a7c48-7271-40af-80ba-05873df2b728",
   "metadata": {},
   "source": [
    "$(\\frac{q_c}{p_0})_{ref-alt}=\\frac{q_c}{p_a}\\delta_{ref-alt}$"
   ]
  },
  {
   "cell_type": "code",
   "execution_count": null,
   "id": "18eeb408-7e55-4c20-8622-0589c6c603d6",
   "metadata": {},
   "outputs": [],
   "source": [
    "qc_over_p0_ref_alt = qc_over_pa * deltaISA_ref_alt\n",
    "print(f'qc_over_p0 for test runs at reference altitude: {qc_over_p0_ref_alt}')"
   ]
  },
  {
   "cell_type": "markdown",
   "id": "208ee00d-e527-474d-a5f8-3bda5ec6297d",
   "metadata": {},
   "source": [
    "$V_{c_{ref-alt}}=a_0*\\sqrt{5[((\\frac{q_c}{p_0})_{ref-alt}+1)^{\\frac{2}{7}}-1]}$\n",
    "\n",
    "Same idea, let´s create a function."
   ]
  },
  {
   "cell_type": "code",
   "execution_count": null,
   "id": "16a10dd7-8dfd-4f1f-9bfc-9721d1a164fb",
   "metadata": {},
   "outputs": [],
   "source": [
    "def V_from_q_over_p(q_over_p:float) -> float:\n",
    "    '''\n",
    "    Calculate airspeed from q_over_ps\n",
    "    returns airspeed in kts\n",
    "    '''\n",
    "    return a0 * np.sqrt(5 * ((q_over_p + 1)**(2 / 7) -1)) * ms2kt # (kts)\n",
    "Vc_ref_alt = V_from_q_over_p(qc_over_p0_ref_alt) # (kts)\n",
    "print(f'Instrument corrected, calibrated airspeed for test runs at reference altitude: {Vc_ref_alt} kts')"
   ]
  },
  {
   "cell_type": "markdown",
   "id": "13dffaf9-b136-42f6-94f2-5bd080d82e45",
   "metadata": {},
   "source": [
    "$(\\frac{q_{cic}}{p_0})_{ref-alt}=(\\frac{q_c}{p_0})_{ref-alt}-\\frac{\\Delta p_s}{p_s} \\delta_{ic_{ref-alt}}$"
   ]
  },
  {
   "cell_type": "code",
   "execution_count": null,
   "id": "2dc21fef-01dd-4920-a62d-282bf105c911",
   "metadata": {},
   "outputs": [],
   "source": [
    "qcic_over_p0_ref_alt = qc_over_p0_ref_alt - delta_ps_over_ps_runs * deltaISA_ic_ref_alt\n",
    "print(f'qcic_over_p0 for test runs at reference altitude: {qcic_over_p0_ref_alt}')"
   ]
  },
  {
   "cell_type": "markdown",
   "id": "f1b48007-c335-4b68-b0b7-8498af12f714",
   "metadata": {},
   "source": [
    "$V_{ic_{ref-alt}}=a_0*\\sqrt{5[((\\frac{q_{cic}}{p_0})_{ref-alt}+1)^{\\frac{2}{7}}-1]}$"
   ]
  },
  {
   "cell_type": "code",
   "execution_count": null,
   "id": "4ffda9b5-5b8b-465e-8675-63d5b80f9849",
   "metadata": {},
   "outputs": [],
   "source": [
    "Vic_ref_alt = V_from_q_over_p(qcic_over_p0_ref_alt) # (kts)\n",
    "print(f'Instrument correcte, indicated airspeed for test runs at reference altitud: {Vic_ref_alt} kts')"
   ]
  },
  {
   "cell_type": "markdown",
   "id": "45ff718d-0a54-4e0f-a233-139e6ab55052",
   "metadata": {},
   "source": [
    "$\\Delta V_{pc_{ref-alt}}=V_{c_{ref-alt}}-V_{ic_{ref-alt}}$"
   ]
  },
  {
   "cell_type": "code",
   "execution_count": null,
   "id": "04dd84a3-02b0-425b-b341-dd8677fb1b4a",
   "metadata": {},
   "outputs": [],
   "source": [
    "delta_Vpc_ref_alt =Vc_ref_alt - Vic_ref_alt # (kts)\n",
    "print(f'Airspeed posititon corrections for test runs at reference altitude: {delta_Vpc_ref_alt} kts')"
   ]
  },
  {
   "cell_type": "markdown",
   "id": "a5a65077-e789-4192-9bdb-97e4c2a7fa38",
   "metadata": {},
   "source": [
    "# FAR 25.1323 Compliance Check\n",
    "\n",
    "## Altitude - 25.1325\n",
    "(e) Each system must be designed and installed so that the error in indicated pressure altitude, at sea level, with a standard atmosphere, excluding instrument calibration error, does not result in an error of more than ±30 feet per 100 knots speed for the appropriate configuration in the speed range between 1.23 VSR0 with flaps extended and 1.7 VSR1 with flaps retracted. However, the error need not be less than ±30 feet. "
   ]
  },
  {
   "cell_type": "code",
   "execution_count": null,
   "id": "1f2b135a-306e-405d-836d-3a8a09f5858f",
   "metadata": {},
   "outputs": [],
   "source": [
    "# FAR 25 limits definitions\n",
    "\n",
    "k_point = 100 # (kts)\n",
    "x_limit1 = np.linspace(0, k_point, 10) # (kts)\n",
    "top_limity1 = np.ones(x_limit1.shape[0]) * 30 # (ft)\n",
    "bot_limity1 = - top_limity1 # (ft)\n",
    "\n",
    "x_limit2 = np.linspace(k_point, Vmo, 10) # (kts)\n",
    "top_limity2 = x_limit2 * 0.3 # (ft)\n",
    "bot_limity2 = - top_limity2 # (ft)"
   ]
  },
  {
   "cell_type": "code",
   "execution_count": null,
   "id": "3129899a-b7db-43e2-bd26-00398f44b3b6",
   "metadata": {},
   "outputs": [],
   "source": [
    "# set graph size\n",
    "plt.rcParams['figure.figsize'] = [12, 7]\n",
    "\n",
    "# plot limits\n",
    "plt.plot(x_limit1, top_limity1, 'r', label='FAR 25 limit')\n",
    "plt.plot(x_limit1, bot_limity1, 'r')\n",
    "plt.plot(x_limit2, top_limity2, 'r')\n",
    "plt.plot(x_limit2, bot_limity2, 'r')\n",
    "\n",
    "# plot data\n",
    "plt.plot(Vic_runs, delta_Hpc_ref_alt, '+b', label='Flight Test', markersize=10)\n",
    "\n",
    "# label, grid, etc\n",
    "plt.xlabel( 'Vic (kts)')\n",
    "plt.ylabel('delta Hpc (ft)')\n",
    "plt.title('Altitude Error Plot')\n",
    "plt.grid(True)\n",
    "plt.legend()\n",
    "plt.show()"
   ]
  },
  {
   "cell_type": "markdown",
   "id": "14673d9e-91e7-41d6-b6f1-8974144a8245",
   "metadata": {},
   "source": [
    "## Airspeed - 25.1323\n",
    "\n",
    "25.1323 (c) states:\n",
    "The airspeed error of the installation, excluding the airspeed indicator instrument calibration error, may not exceed three percent or five knots, whichever is greater, throughout the speed range, from - \n",
    "\n",
    "(1) VMO  to 1.23 VSR1, with flaps retracted; and \n",
    "\n",
    "(2) 1.23 VSR0 to VFE with flaps in the landing position. "
   ]
  },
  {
   "cell_type": "code",
   "execution_count": null,
   "id": "93db4fdf-7137-4c11-9e39-2a8a12cab6b2",
   "metadata": {},
   "outputs": [],
   "source": [
    "# FAR 25 limits definitions\n",
    "k_point = 5 / 0.03 # (kts)\n",
    "x_limit1 = np.linspace(Vsr0, k_point, 10) # (kts)\n",
    "top_limity1 = np.ones(x_limit1.shape[0]) * 5 # (kts)\n",
    "bot_limity1 = - top_limity1 # (kts)\n",
    "\n",
    "x_limit2 = np.linspace(k_point, Vmo, 10) # (kts)\n",
    "top_limity2 = x_limit2 * 0.03 # (kts)\n",
    "bot_limity2 = - top_limity2 # (kts)"
   ]
  },
  {
   "cell_type": "code",
   "execution_count": null,
   "id": "344dbdf0-7e46-4b58-b8c8-0e95eff09b5e",
   "metadata": {},
   "outputs": [],
   "source": [
    "# plot limits\n",
    "\n",
    "# plot limits\n",
    "plt.plot(x_limit1, top_limity1, 'r', label='FAR 25 limit')\n",
    "plt.plot(x_limit1, bot_limity1, 'r')\n",
    "plt.plot(x_limit2, top_limity2, 'r')\n",
    "plt.plot(x_limit2, bot_limity2, 'r')\n",
    "\n",
    "# plot data\n",
    "plt.plot(Vic_runs, delta_Vpc_ref_alt, '+b', label='Flight Test', markersize=10)\n",
    "\n",
    "# label, grid, etc\n",
    "plt.xlabel( 'Vic (kts)')\n",
    "plt.ylabel('delta Vpc (kts)')\n",
    "plt.title('Speed Error Plot')\n",
    "plt.grid(True)\n",
    "plt.legend()\n",
    "plt.show()"
   ]
  },
  {
   "cell_type": "code",
   "execution_count": null,
   "id": "d261834f-e090-44c4-8a8f-1d47ee4c2f8b",
   "metadata": {},
   "outputs": [],
   "source": []
  },
  {
   "cell_type": "code",
   "execution_count": null,
   "id": "e755943b-049e-43b8-adfe-ffee0e3634de",
   "metadata": {},
   "outputs": [],
   "source": []
  }
 ],
 "metadata": {
  "kernelspec": {
   "display_name": "Python 3 (ipykernel)",
   "language": "python",
   "name": "python3"
  },
  "language_info": {
   "codemirror_mode": {
    "name": "ipython",
    "version": 3
   },
   "file_extension": ".py",
   "mimetype": "text/x-python",
   "name": "python",
   "nbconvert_exporter": "python",
   "pygments_lexer": "ipython3",
   "version": "3.10.6"
  }
 },
 "nbformat": 4,
 "nbformat_minor": 5
}
