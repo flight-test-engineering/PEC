{
 "cells": [
  {
   "cell_type": "markdown",
   "id": "41bfc9ea-6062-4c11-8a84-45d7795768fa",
   "metadata": {},
   "source": [
    "## Turn Regression"
   ]
  },
  {
   "cell_type": "markdown",
   "id": "923da1e1-2d9d-4ba0-8633-c34503d2bce5",
   "metadata": {
    "tags": []
   },
   "source": [
    "## Preamble, Imports, Constants"
   ]
  },
  {
   "cell_type": "markdown",
   "id": "b52c8095-b8dd-47a8-aef4-345965c13c50",
   "metadata": {
    "tags": []
   },
   "source": [
    "version control\n",
    " version 1.0 - initial release"
   ]
  },
  {
   "cell_type": "code",
   "execution_count": null,
   "id": "707c1c59-a9f9-4512-baa2-a297373f461d",
   "metadata": {
    "tags": []
   },
   "outputs": [],
   "source": [
    "# imports\n",
    "\n",
    "import numpy as np\n",
    "import matplotlib.pyplot as plt\n",
    "import pandas as pd\n",
    "plt.style.use('dark_background')"
   ]
  },
  {
   "cell_type": "code",
   "execution_count": null,
   "id": "1fde2204-b237-4c7e-b24d-236872e0e4a9",
   "metadata": {
    "tags": []
   },
   "outputs": [],
   "source": [
    "# constants and conversion factors\n",
    "\n",
    "m2ft = 3.28084\n",
    "ft2m = 1 / m2ft\n",
    "kt2ms = 1852 / 60 / 60 # 1 nm in meters; from hours to seconds\n",
    "ms2kt = 1 / kt2ms\n",
    "C2K = 273.15\n",
    "d2r = np.pi / 180\n",
    "r2d = 1 / d2r"
   ]
  },
  {
   "cell_type": "code",
   "execution_count": null,
   "id": "303bfff0-eaa7-41e8-9867-73d2cde99152",
   "metadata": {
    "tags": []
   },
   "outputs": [],
   "source": [
    "# International Standard Atmosphere\n",
    "\n",
    "T0 = 15 + C2K # (K)\n",
    "p0 = 101325 # (Pa)\n",
    "L = -6.5 / 1000 # (K/m)\n",
    "a0 = 340.3 # (m/s)\n",
    "rho0 = 1.225 # (kg/m3)\n",
    "R =  p0 / (rho0 * T0) # air, specific, std ISA in (J/kg)/K\n",
    "g_zero = 9.80665 # (m/s2)\n",
    "gamma = 1.4 # adiabatic index for air\n",
    "Cp = 1006 # (J/kg)/K"
   ]
  },
  {
   "cell_type": "code",
   "execution_count": null,
   "id": "dbf6db7c-84d5-475a-a2f6-799c51b4bd08",
   "metadata": {
    "tags": []
   },
   "outputs": [],
   "source": [
    "# data from airplane / instruments calibration\n",
    "\n",
    "#  speeds\n",
    "Vmo = 350 # (kts)\n",
    "Vsr0 = 105 # (kts)\n",
    "\n",
    "#  instrument errors\n",
    "delta_Vic = -1 # (kts)\n",
    "delta_Hic = 25 # (ft)\n",
    "delta_Tic = -1 # (C)\n",
    "Kt = 1.0 # temperature recovery factor"
   ]
  },
  {
   "cell_type": "markdown",
   "id": "c1d873b5-9c6e-4774-85de-28154cff02db",
   "metadata": {
    "tags": []
   },
   "source": [
    "## Let's load some data\n",
    "\n",
    "choice on Pandas for loading/saving data..."
   ]
  },
  {
   "cell_type": "code",
   "execution_count": null,
   "id": "87c405cb-511d-4492-b4be-0808daabad53",
   "metadata": {
    "tags": []
   },
   "outputs": [],
   "source": [
    "TPlist = ['./data/TP_1.0_175-10000.csv',\n",
    "         './data/TP_2.0_250-10000.csv',\n",
    "         './data/TP_3.0_350-10000.csv',\n",
    "         './data/TP_4.0_M0.82-31000.csv',\n",
    "         './data/TP_5.0_M0.6-31000.csv',\n",
    "         './data/TP_6.0_172-31000.csv']\n",
    "\n",
    "TP = 5\n",
    "orbis_data = pd.read_csv(TPlist[TP - 1])\n",
    "print(f'data for: {TPlist[TP - 1]}')\n",
    "orbis_data.head()"
   ]
  },
  {
   "cell_type": "code",
   "execution_count": null,
   "id": "e3a4e511-948d-4d4d-8024-ca213b9ba490",
   "metadata": {
    "tags": []
   },
   "outputs": [],
   "source": [
    "# create vectors / translate labels\n",
    "\n",
    "Vg = orbis_data['Vg-kt'] # ground speed in kts\n",
    "sigma_g = orbis_data['sigma-rad'] # ground track in radians\n",
    "psi_test = orbis_data['psi-deg'] * d2r # hdg in radians\n",
    "Ti = orbis_data['OAT-C'] # indicated temperature in C\n",
    "Vi = orbis_data['KIAS'] # indicated airspeed in kts\n",
    "Hi  = orbis_data['Alt-ft'] # indicated altitude in ft"
   ]
  },
  {
   "cell_type": "code",
   "execution_count": null,
   "id": "561ca391-03f2-42de-bb64-225ba3b9adb3",
   "metadata": {
    "tags": []
   },
   "outputs": [],
   "source": [
    "# quick plot: indicated airspeed\n",
    "\n",
    "plt.plot(Vi, '+b', label='Vi')\n",
    "\n",
    "plt.xlabel('Sample#')\n",
    "plt.ylabel('KIAS')\n",
    "plt.title('FT data')\n",
    "plt.grid(True)\n",
    "plt.legend()\n",
    "plt.show()"
   ]
  },
  {
   "cell_type": "code",
   "execution_count": null,
   "id": "42ce45df-eb70-4fa0-9da1-8cbd8242cc95",
   "metadata": {
    "tags": []
   },
   "outputs": [],
   "source": [
    "# let's check some statistics for our data\n",
    "\n",
    "def get_stats(data_array: np.array) -> dict:\n",
    "    stats = {}\n",
    "    stats['mean'] = data_array.mean()\n",
    "    stats['std'] = data_array.std()\n",
    "    stats['min'] = data_array.min()\n",
    "    stats['max'] = data_array.max()\n",
    "    stats['2sigma'] = stats['std'] * 2 # 68%\n",
    "    stats['4sigma'] = stats['std'] * 4 # 95%\n",
    "    stats['6sigma'] = stats['std'] * 6 # 99.7%\n",
    "    return stats\n",
    "\n",
    "print(get_stats(Vi))"
   ]
  },
  {
   "cell_type": "code",
   "execution_count": null,
   "id": "84f10d00-f978-4684-8883-13ef8bf32e4e",
   "metadata": {
    "tags": []
   },
   "outputs": [],
   "source": [
    "# a better way to print a dictionary\n",
    "\n",
    "print('Airspeed Statitsics:')\n",
    "for key, value in  get_stats(Vi).items():\n",
    "    print(f'{key}: {value}')"
   ]
  },
  {
   "cell_type": "code",
   "execution_count": null,
   "id": "fdfceec3-57f5-4be1-b7a5-3c6635236a47",
   "metadata": {
    "tags": []
   },
   "outputs": [],
   "source": [
    "# running this for all data\n",
    "\n",
    "data_set = {'Airspeed': Vi, 'Altitude':Hi, 'Temperature': Ti}\n",
    "for measurement, meas_data in data_set.items():\n",
    "    print(f'{measurement} Statistics:')\n",
    "    for stat_name, stat_value in get_stats(meas_data).items():\n",
    "        print(f'{stat_name}: {stat_value}')\n",
    "    print()"
   ]
  },
  {
   "cell_type": "markdown",
   "id": "cab17af1-ddca-4987-b097-b6c35c0cd442",
   "metadata": {
    "tags": []
   },
   "source": [
    "# Anemometric Side"
   ]
  },
  {
   "cell_type": "markdown",
   "id": "77b94e0c-ed6e-4bb1-b48b-c10f80955fb6",
   "metadata": {
    "tags": []
   },
   "source": [
    "## Correct for Instrument Errors\n",
    "\n",
    "$V_{ic}=V{i}+\\Delta V_{ic}$\n",
    "\n",
    "$H_{ic}=H_{i}+\\Delta H_{ic}$\n",
    "\n",
    "$T_{ic}=T_{i}+\\Delta T_{ic}$"
   ]
  },
  {
   "cell_type": "code",
   "execution_count": null,
   "id": "f7fe456a-1b4a-4eef-b497-b29a6c3044be",
   "metadata": {
    "tags": []
   },
   "outputs": [],
   "source": [
    "Vic = Vi + delta_Vic # (kts)\n",
    "Hic = Hi + delta_Hic # (ft)\n",
    "Tic = Ti + delta_Tic + C2K # (K)\n",
    "print(f'Average for: Vic = {Vic.mean():0.1f} KIAS')\n",
    "print(f'Averagefor: Hic = {Hic.mean():0.1f} ft')\n",
    "print(f'Average for: Tic = {Tic.mean():0.2f} K')"
   ]
  },
  {
   "cell_type": "markdown",
   "id": "4a438b2a-5785-4db1-9130-61d16cb0fe88",
   "metadata": {
    "tags": []
   },
   "source": [
    "Find the $\\frac{q_{cic}}{P_0}$ ratio, which will be used to find the Mach number and static port position error later:\n",
    "\n",
    "$\\frac{q_{cic}}{p_0} = [1+0.2*(\\frac{V_{ic}}{a_0})^2]^{\\frac{7}{2}}-1$"
   ]
  },
  {
   "cell_type": "code",
   "execution_count": null,
   "id": "9310f2b3-133e-4cc6-99fd-c7d9dab9b55f",
   "metadata": {
    "tags": []
   },
   "outputs": [],
   "source": [
    "qcic_over_p0 = (1 + 0.2 * ((Vic * kt2ms) / a0)**2)**(7/2) - 1"
   ]
  },
  {
   "cell_type": "markdown",
   "id": "1491e69d-fa69-4eb9-9d4d-92e7a49c9707",
   "metadata": {
    "tags": []
   },
   "source": [
    "Calculate the pressure ratio $\\delta_{ic}$\n",
    "\n",
    "$\\delta_{ic}=(1 + \\frac{L}{T_0}*H_{ic}^{(\\frac{-g_0}{R * L})})$"
   ]
  },
  {
   "cell_type": "code",
   "execution_count": null,
   "id": "b2c94bd1-2345-471a-adfb-71a03cd5e247",
   "metadata": {
    "tags": []
   },
   "outputs": [],
   "source": [
    "deltaISA_ic = (1 + L / T0 * (Hic * ft2m))**(-g_zero / (R * L))\n",
    "print(f'Average deltaISA_ic: {deltaISA_ic.mean()}')"
   ]
  },
  {
   "cell_type": "markdown",
   "id": "cf96047e-1dd4-4765-9605-0382b754ae80",
   "metadata": {
    "tags": []
   },
   "source": [
    "Find:\n",
    "\n",
    "$\\frac{q_{cic}}{p_s}=\\frac{q_{cic}}{p_0}*\\frac{p_0}{p_s}=\\frac{q_{cic}}{p_0}*\\frac{1}{\\delta_{ic}}$"
   ]
  },
  {
   "cell_type": "code",
   "execution_count": null,
   "id": "bd78810f-f2c9-4cb3-93d0-e5e773d98727",
   "metadata": {
    "tags": []
   },
   "outputs": [],
   "source": [
    "qcic_over_ps = qcic_over_p0 / deltaISA_ic\n",
    "print(f'Average qcic_over_ps: {qcic_over_ps.mean()}')"
   ]
  },
  {
   "cell_type": "markdown",
   "id": "249a9c41-8c9e-4f55-8c70-8499aefe16bc",
   "metadata": {
    "tags": []
   },
   "source": [
    "and the indicated Mach number from:\n",
    "\n",
    "$M_{ic} = \\sqrt{5*[(\\frac{q_{cic}}{p_s}+1)^{\\frac{2}{7}}-1]}$"
   ]
  },
  {
   "cell_type": "code",
   "execution_count": null,
   "id": "cc23b5ef-2026-4b93-bcd1-ed0b4d2f9f34",
   "metadata": {
    "tags": []
   },
   "outputs": [],
   "source": [
    "Mic = np.sqrt(5 * ((qcic_over_ps + 1)**(2/7) - 1))\n",
    "print(f'Average Indicated Mach number: {Mic.mean()}')"
   ]
  },
  {
   "cell_type": "markdown",
   "id": "da1fd3a2-f7f1-4b75-b889-37d6e432a83d",
   "metadata": {
    "tags": []
   },
   "source": [
    "Then, from the averaged indicated $\\bar{M_{ic}}$->   $\\frac{p_T}{p_s}=(1+0.2 \\bar{M_{ic}}^2)^\\frac{7}{2}$"
   ]
  },
  {
   "cell_type": "code",
   "execution_count": null,
   "id": "f18dc24a-1c88-4729-b416-74a98a990bdb",
   "metadata": {
    "tags": []
   },
   "outputs": [],
   "source": [
    "pt_over_ps = (1 + 0.2 * Mic.mean()**2)**(7 / 2)\n",
    "print(f'pt_over_ps: {pt_over_ps}')"
   ]
  },
  {
   "cell_type": "markdown",
   "id": "43c4fafc-8603-4749-842f-1189da0fd964",
   "metadata": {
    "tags": []
   },
   "source": [
    "Find indicated true airspeed, but we need the temperature first\n",
    "\n",
    "$T_{ai} = \\frac{T_{ic}}{1+0.2K_t M_{ic}²}$"
   ]
  },
  {
   "cell_type": "code",
   "execution_count": null,
   "id": "48bd5356-af39-488c-b491-e712d5cabf20",
   "metadata": {
    "tags": []
   },
   "outputs": [],
   "source": [
    "Tai = Tic / (1 + 0.2 * Kt * Mic**2) # (K)\n",
    "print(f'Average Temperatur: {Tai.mean()} K')"
   ]
  },
  {
   "cell_type": "markdown",
   "id": "c7fc16b1-2478-4b4e-8aa7-fd1c865790ee",
   "metadata": {
    "tags": []
   },
   "source": [
    "and now we can get:\n",
    "\n",
    "$\\theta_{test} = \\frac{T_{ai}}{T_0}$"
   ]
  },
  {
   "cell_type": "code",
   "execution_count": null,
   "id": "d056babb-6d27-4973-9e7b-056f0d619c65",
   "metadata": {
    "tags": []
   },
   "outputs": [],
   "source": [
    "theta_test = Tai / T0\n",
    "print(f'Average theta test {theta_test.mean()}')"
   ]
  },
  {
   "cell_type": "markdown",
   "id": "3b501e30-7ae2-4e61-96f4-a84a69fc70e9",
   "metadata": {
    "tags": []
   },
   "source": [
    "$V_{ti}=M_{ic} * a_0 * \\sqrt{\\theta_{test}}$"
   ]
  },
  {
   "cell_type": "code",
   "execution_count": null,
   "id": "9960b908-d6a6-4c77-82ed-0178283c3762",
   "metadata": {
    "tags": []
   },
   "outputs": [],
   "source": [
    "Vti = Mic * a0 * np.sqrt(theta_test) * ms2kt # (KTAS)\n",
    "print(f'Average indicated true airspeed: {Vti.mean()} KTAS')"
   ]
  },
  {
   "cell_type": "markdown",
   "id": "218c30b8-4347-4934-bab5-711625ae3fc4",
   "metadata": {},
   "source": [
    "### GPS Side"
   ]
  },
  {
   "cell_type": "markdown",
   "id": "c8666481-c54c-4e93-860e-f14d9d0c94d5",
   "metadata": {},
   "source": [
    "\n",
    "![007](pictures/wind_triangle_single.png)"
   ]
  },
  {
   "cell_type": "markdown",
   "id": "46d9758e-eca5-45dd-96ae-3035f6f40d42",
   "metadata": {
    "tags": []
   },
   "source": [
    "We can decompose the vectors into each vector component for E and N directions:\n",
    "\n",
    "$V_{gE}=V{g}*sin( \\sigma_g)$ and\n",
    "\n",
    "$V_{gN}=V{g}*cos( \\sigma_g)$"
   ]
  },
  {
   "cell_type": "code",
   "execution_count": null,
   "id": "67b9482a-ebf8-4847-9b18-1c2ce57d5f4a",
   "metadata": {
    "tags": []
   },
   "outputs": [],
   "source": [
    "# ground speed components\n",
    "\n",
    "VgE = Vg * np.sin(sigma_g) # (kts)\n",
    "VgN = Vg * np.cos(sigma_g) # (kts)"
   ]
  },
  {
   "cell_type": "code",
   "execution_count": null,
   "id": "c631b973-1f2d-40c1-b56e-517ba677f6db",
   "metadata": {
    "tags": []
   },
   "outputs": [],
   "source": [
    "# quick plot: ground speed orbis\n",
    "\n",
    "plt.plot(VgE, VgN, '+b', label='Vg')\n",
    "\n",
    "plt.xlabel('East Vel (kts)')\n",
    "plt.ylabel('North Vel (kts)')\n",
    "plt.title('Orbis Plot')\n",
    "plt.grid(True)\n",
    "plt.legend()\n",
    "plt.show()"
   ]
  },
  {
   "cell_type": "markdown",
   "id": "1abfc484-559d-4c11-ac41-c17b4006c24a",
   "metadata": {
    "tags": []
   },
   "source": [
    "The truth <u>true</u> airspeed is its indicated value plus the error:\n",
    "\n",
    "$\\vec{V_{t_{c}}} = \\vec{V_{t_{i}}} + \\vec{\\Delta V_{t}}$, which can be expanded in the N-E components:\n",
    "\n",
    "$V_{t_{cN}} = V_{t_{i}}*cos(\\psi_{test}) + \\Delta V_{t}*cos(\\psi_{test})$\n",
    "\n",
    "$V_{t_{cE}} = V_{t_{i}}*sin(\\psi_{test}) + \\Delta V_{t}*sin(\\psi_{test})$\n",
    "\n",
    "From the wind triangle, we have:\n",
    "\n",
    "$\\vec{V_g}=\\vec{V_{ti}} + \\Delta \\vec{V_t} + \\vec{V_w}$\n",
    "\n"
   ]
  },
  {
   "cell_type": "markdown",
   "id": "f733e214-9eb1-47df-a33e-73b24d0760bb",
   "metadata": {
    "tags": []
   },
   "source": [
    "and thus we can write:\n",
    "\n",
    "$\\vec{V_{ti}} + \\Delta \\vec{V_t} = \\vec{V_g} - \\vec{V_w}$\n",
    "\n",
    "Expanding in the N-E components:\n",
    "\n",
    "$V_{t_{i}}*cos(\\psi_{test}) + \\Delta V_{t}*cos(\\psi_{test})= V{g}*cos( \\sigma_g) - V_{wN}$\n",
    "\n",
    "$V_{t_{i}}*sin(\\psi_{test}) + \\Delta V_{t}*sin(\\psi_{test}) =V{g}*sin( \\sigma_g) - V_{wE}$\n",
    "\n",
    "We can then rearrange and write:\n",
    "\n",
    "$V_{wN} + \\Delta V_{t}*cos(\\psi_{test})=V{g}*cos( \\sigma_g)-V_{t_{i}}*cos(\\psi_{test})$\n",
    "\n",
    "$V_{wE} + \\Delta V_{t}*sin(\\psi_{test})=V{g}*sin( \\sigma_g)-V_{t_{i}}*sin(\\psi_{test})$\n",
    "\n",
    "which, in matrix form:\n",
    "\n",
    "\n",
    "$\\begin{bmatrix} 1 & 0 & cos(\\psi_{test}) \\\\\n",
    "                 0 & 1 & sin(\\psi_{test}) \n",
    "\\end{bmatrix}$\n",
    "$\\begin{bmatrix}  V_{wN} \\\\\n",
    "                  V_{wE} \\\\\n",
    "                  \\Delta V_t\n",
    "\\end{bmatrix} =\n",
    "\\begin{bmatrix} V{g}*cos( \\sigma_g)-V_{t_{i}}*cos(\\psi_{test}) \\\\\n",
    "                V{g}*sin( \\sigma_g)-V_{t_{i}}*sin(\\psi_{test})\n",
    "\\end{bmatrix}$"
   ]
  },
  {
   "cell_type": "markdown",
   "id": "9f95976f-5a41-485e-bc0a-2d8e38a89381",
   "metadata": {
    "tags": []
   },
   "source": [
    "For *n* measurements, with constant wind ($V_{wN}, V_{wE}$) and constant error $\\Delta V_t$ , the full regression matrix becomes:\n",
    "\n",
    "$\\begin{bmatrix} 1 & 0 & cos(\\psi_{test_{1}}) \\\\\n",
    "                 0 & 1 & sin(\\psi_{test{1}}) \\\\\n",
    "                 1 & 0 & cos(\\psi_{test_{2}}) \\\\\n",
    "                 0 & 1 & sin(\\psi_{test{2}}) \\\\\n",
    "                 \\vdots & \\vdots & \\vdots \\\\\n",
    "                 1 & 0 & cos(\\psi_{test_{n}}) \\\\\n",
    "                 0 & 1 & sin(\\psi_{test_{n}}) \\\\\n",
    "\\end{bmatrix}$\n",
    "$\\begin{bmatrix}  V_{wN} \\\\\n",
    "                  V_{wE} \\\\\n",
    "                  \\Delta V_t\n",
    "\\end{bmatrix} =\n",
    "\\begin{bmatrix} V{g_{1}}*cos( \\sigma_{g_{1}})-V_{t_{1}}*cos(\\psi_{test_{1}}) \\\\\n",
    "                V{g_{1}}*sin( \\sigma_{g_{1}})-V_{t_{1}}*sin(\\psi_{test_{1}}) \\\\\n",
    "                V{g_{2}}*cos( \\sigma_{g_{2}})-V_{t_{2}}*cos(\\psi_{test_{2}}) \\\\\n",
    "                V{g_{2}}*sin( \\sigma_{g_{2}})-V_{t_{2}}*sin(\\psi_{test_{2}}) \\\\\n",
    "                \\vdots  \\\\\n",
    "                V{g_{n}}*cos( \\sigma_{g_{n}})-V_{t_{n}}*cos(\\psi_{test_{n}}) \\\\\n",
    "                V{g_{n}}*sin( \\sigma_{g_{n}})-V_{t_{n}}*sin(\\psi_{test_{n}}) \\\\\n",
    "\\end{bmatrix}$\n",
    "\n",
    "and finally, we can just change the order to facilitate the programming side:\n",
    "\n",
    "___"
   ]
  },
  {
   "cell_type": "markdown",
   "id": "9edb1a5f-feb2-4a75-8ad3-2d400e856b06",
   "metadata": {},
   "source": [
    "$\\begin{bmatrix} 1 & 0 & cos(\\psi_{test_{1}}) \\\\\n",
    "                 1 & 0 & cos(\\psi_{test_{2}}) \\\\\n",
    "                 \\vdots & \\vdots & \\vdots \\\\\n",
    "                 1 & 0 & cos(\\psi_{test_{n}}) \\\\\n",
    "                 0 & 1 & sin(\\psi_{test{1}}) \\\\\n",
    "                 0 & 1 & sin(\\psi_{test{2}}) \\\\\n",
    "                 \\vdots & \\vdots & \\vdots \\\\\n",
    "                 0 & 1 & sin(\\psi_{test_{n}})\n",
    "\\end{bmatrix}$\n",
    "$\\begin{bmatrix}  V_{wN} \\\\\n",
    "                  V_{wE} \\\\\n",
    "                  \\Delta V_t\n",
    "\\end{bmatrix} =\n",
    "\\begin{bmatrix} V{g_{1}}*cos( \\sigma_{g_{1}})-V_{t_{1}}*cos(\\psi_{test_{1}}) \\\\\n",
    "                V{g_{2}}*cos( \\sigma_{g_{2}})-V_{t_{2}}*cos(\\psi_{test_{2}}) \\\\\n",
    "                \\vdots  \\\\\n",
    "                V{g_{n}}*cos( \\sigma_{g_{n}})-V_{t_{n}}*cos(\\psi_{test_{n}}) \\\\\n",
    "                V{g_{1}}*sin( \\sigma_{g_{1}})-V_{t_{1}}*sin(\\psi_{test_{1}}) \\\\\n",
    "                V{g_{2}}*sin( \\sigma_{g_{2}})-V_{t_{2}}*sin(\\psi_{test_{2}}) \\\\\n",
    "                \\vdots  \\\\\n",
    "                V{g_{n}}*sin( \\sigma_{g_{n}})-V_{t_{n}}*sin(\\psi_{test_{n}})\n",
    "\\end{bmatrix}$\n",
    "___\n",
    "\n",
    "This matrix equation is in the form:\n",
    "\n",
    "$\\begin{bmatrix} A\n",
    "\\end{bmatrix} *\n",
    "\\begin{bmatrix} x\n",
    "\\end{bmatrix}=\n",
    "\\begin{bmatrix} C\n",
    "\\end{bmatrix}$"
   ]
  },
  {
   "cell_type": "code",
   "execution_count": null,
   "id": "09a554ca-ebeb-4ba6-b462-fa2f5b89ac27",
   "metadata": {
    "tags": []
   },
   "outputs": [],
   "source": [
    "# A matrix\n",
    "\n",
    "A = np.array([np.concatenate((np.ones(Vti.shape[0]), np.zeros(Vti.shape[0]))),\n",
    "              np.concatenate((np.zeros(Vti.shape[0]), np.ones(Vti.shape[0]))),\n",
    "              np.concatenate((np.cos(psi_test), np.sin(psi_test)))])\n",
    "A = A.T"
   ]
  },
  {
   "cell_type": "code",
   "execution_count": null,
   "id": "6da66395-ae35-4f37-9be9-514d94726377",
   "metadata": {
    "tags": []
   },
   "outputs": [],
   "source": [
    "# c matrix\n",
    "\n",
    "c = np.array(np.concatenate((Vg * np.cos(sigma_g) - Vti * np.cos(psi_test),\n",
    "                             Vg * np.sin(sigma_g) - Vti * np.sin(psi_test))))"
   ]
  },
  {
   "cell_type": "markdown",
   "id": "ac79bcdd-7ef8-473e-a265-45cbe347b83d",
   "metadata": {
    "tags": []
   },
   "source": [
    "The concept for solving this system is:\n",
    "\n",
    "$[A][x]=[c]$ , or\n",
    "\n",
    "$[c]-[A][x] = 0$\n",
    "\n",
    "... but the solution for [x] is <u>not</u> unique, given we have many measurements.\n",
    "\n",
    "So, we need to pick a good solution: perhaps one that minimizes the error (meaning $[c]-[A][x]$ as close as possible to zero)...\n",
    "\n",
    "Why not create a functional [J] that we can minimize? \n",
    "\n",
    "We can define this functional as the square of the error:\n",
    "\n",
    "$[J]=([c]-[A][x])^2$ \n",
    "\n",
    "$[J]=([c]-[A][x])^T([c]-[A][x])$ \n",
    "\n",
    "$[J]=([c]^T-[x]^T[A]^T)([c]-[A][x])$\n",
    "\n",
    "$[J]=[c]^T[c]-[x]^T[A]^T[c]-[c]^T[A][x]+[x]^T[A]^T[A][x]$\n",
    "\n",
    "To minimize [J] with respect to [x], take the partial derivative and set equal to zero:\n",
    "\n",
    "$\\frac{\\partial{[J]}}{\\partial{[x]}}=0$\n",
    "\n",
    "$\\frac{\\partial{[J]}}{\\partial{[x]}}=0-[c]^T[A]-[c]^T[A]+2[x]^T[A]^T[A]$\n",
    "\n",
    "$\\frac{\\partial{[J]}}{\\partial{[x]}}=0=-2[c]^T[A]+2[x]^T[A]^T[A]$\n",
    "\n",
    "$[x]^T[A]^T[A]=[c]^T[A]$ \n",
    "\n",
    "taking the transpose:\n",
    "\n",
    "$[A]^T[A][x]=[A]^T[c]$ and pre-multiplying both sides by $([A]^T[A])^{-1}$:\n",
    "\n",
    "$([A]^T[A])^{-1}[A]^T[A][x]=([A]^T[A])^{-1}[A]^T[c]$"
   ]
  },
  {
   "cell_type": "markdown",
   "id": "b264f8a1-5c0f-41ed-81a1-efd6300c9820",
   "metadata": {},
   "source": [
    "$[x]=([A]^T[A])^{-1}[A]^T[c]$\n",
    "\n",
    "Now, the term $([A]^T[A])^{-1}[A]^T$ is called the <u>pseudo-inverse</u>...\n",
    "\n",
    "This will give us $[x]=\\begin{bmatrix}  V_{wN} \\\\\n",
    "                  V_{wE} \\\\\n",
    "                  \\Delta V_t\n",
    "\\end{bmatrix}$, which minimizes the functional [J] that we formulated, following the <u>least squares</u> concept."
   ]
  },
  {
   "cell_type": "code",
   "execution_count": null,
   "id": "42ea1f0d-5267-4efb-8293-500e00a5b9a3",
   "metadata": {
    "tags": []
   },
   "outputs": [],
   "source": [
    "# solution - pseudo-inverse\n",
    "\n",
    "# see https://numpy.org/doc/stable/reference/routines.linalg.html\n",
    "x = np.matmul(np.linalg.pinv(A), c) \n",
    "VwN = x[0] # (kts)\n",
    "VwE = x[1] # (kts)\n",
    "delta_Vt = x[2] # (kts)\n",
    "print(f'Calculated wind velocity NORTH: {VwN} kts')\n",
    "print(f'Calculated wind velocity EAST: {VwE} kts')\n",
    "print(f'Calculated delta Vt: {delta_Vt} kts')"
   ]
  },
  {
   "cell_type": "code",
   "execution_count": null,
   "id": "6caf1f52-d284-44c9-b133-397b491c52ea",
   "metadata": {
    "tags": []
   },
   "outputs": [],
   "source": [
    "# https://www.statsmodels.org/dev/generated/statsmodels.regression.linear_model.OLS.html\n",
    "\n",
    "import statsmodels.api as sm\n",
    "model = sm.OLS(c, A, hasconst=False).fit() # Ordinary Least Squares\n",
    "print(model.summary())"
   ]
  },
  {
   "cell_type": "markdown",
   "id": "1ccee1ba-0a5a-4129-b351-46c994ded0ba",
   "metadata": {},
   "source": [
    "Find the wind speed:\n",
    "\n",
    "$V_w = \\sqrt{V_{wE}^2 + V_{wN}^2}$"
   ]
  },
  {
   "cell_type": "code",
   "execution_count": null,
   "id": "5a75b63a-0d58-4a77-b3af-602b97bb5c82",
   "metadata": {
    "tags": []
   },
   "outputs": [],
   "source": [
    "Vw_c = np.sqrt(VwN**2 + VwE**2) # (kts)\n",
    "print(f'Calculated Wind Speed: {Vw_c} kts')"
   ]
  },
  {
   "cell_type": "markdown",
   "id": "15c7c172-1a37-46e8-b4e5-495ea6c8e6a6",
   "metadata": {},
   "source": [
    "Find wind direction:\n",
    "\n",
    "Note that if we apply the arctangent directly, it will result in the wrong quadrant. So we need to correct for this by:\n",
    "\n",
    "$\\psi_w = (arctan(V_{wE},V_{wN})) + 2\\pi) \\mathbin{\\%} (2 \\pi)$\n",
    "\n",
    "Obs: the $\\mathbin{\\%}$ is the modulus operator"
   ]
  },
  {
   "cell_type": "code",
   "execution_count": null,
   "id": "c2721487-2125-4ebe-90ca-89692f0e0518",
   "metadata": {
    "tags": []
   },
   "outputs": [],
   "source": [
    "psi_w_c = (np.arctan2(VwE, VwN) + 2 * np.pi) % (2 * np.pi) # radians\n",
    "print(f'Calculated Wind Direction: {psi_w_c * r2d} degrees')"
   ]
  },
  {
   "cell_type": "markdown",
   "id": "d5671fd9-5b67-4a19-bde2-c7b5b32500e8",
   "metadata": {},
   "source": [
    "## Calculate Correction"
   ]
  },
  {
   "cell_type": "markdown",
   "id": "0c75415d-6d81-47b3-b6bf-fedb6ea42ee6",
   "metadata": {},
   "source": [
    "Calculate the truth true airspeed:\n",
    "\n",
    "$V_t=V_{ti}+\\Delta V_{t}$\n",
    "\n",
    "We would have many values, one for each measurement. But one of the assumptions of the method is that the airspeed is maintained constant. Therefore, we can take the average of the indicated true airspeeds and write instead:\n",
    "\n",
    "$V_t=\\bar{V_{ti}}+\\Delta V_{t}$"
   ]
  },
  {
   "cell_type": "code",
   "execution_count": null,
   "id": "d6f77fa2-a4ee-43fd-88e4-ebe57feaaeed",
   "metadata": {},
   "outputs": [],
   "source": [
    "Vt = Vti.mean() + delta_Vt # (kts)\n",
    "print(f'Truth True Airspeed: {Vt} kts')"
   ]
  },
  {
   "cell_type": "markdown",
   "id": "d32606f2-48b1-4dc1-b6f7-383906f45627",
   "metadata": {
    "tags": []
   },
   "source": [
    "Ambient temperature:\n",
    "\n",
    "$T_a = T_{ic} - \\frac{K_t V_{t}^2}{2C_p}$\n",
    "\n",
    "with the same assumption, that we can take the average, we write instead:\n",
    "\n",
    "$T_a = \\bar{T_{ic}} - \\frac{K_t V_{t}^2}{2C_p}$"
   ]
  },
  {
   "cell_type": "code",
   "execution_count": null,
   "id": "86e26775-8fa6-438d-b399-11617746c34d",
   "metadata": {},
   "outputs": [],
   "source": [
    "Ta = Tic.mean() - (Kt * (Vt*kt2ms)**2) / (2 * Cp) # (K)\n",
    "print(f'Ambient Temperature: {Ta} K ')"
   ]
  },
  {
   "cell_type": "markdown",
   "id": "a921399e-139c-4123-818d-3b6e0108e998",
   "metadata": {},
   "source": [
    "Recall that $\\theta_{test}=\\frac{T_{a}}{T_0}$"
   ]
  },
  {
   "cell_type": "code",
   "execution_count": null,
   "id": "68d04119-7521-420e-bca8-94dbc4969cad",
   "metadata": {},
   "outputs": [],
   "source": [
    "theta_test = Ta / T0"
   ]
  },
  {
   "cell_type": "markdown",
   "id": "64cf8836-63ca-4f17-8c34-d3d0d7b4a09b",
   "metadata": {},
   "source": [
    "Directly find the Mach position error $\\Delta M_{pc}$\n",
    "\n",
    "$\\Delta M_{pc}=\\frac{\\Delta V_t}{a_0*\\sqrt{\\theta_{test}}}$"
   ]
  },
  {
   "cell_type": "code",
   "execution_count": null,
   "id": "6ce741d7-127f-4f2e-ab4d-6badd25bc83f",
   "metadata": {},
   "outputs": [],
   "source": [
    "delta_Mpc = (delta_Vt*kt2ms) / (a0 * np.sqrt(theta_test))\n",
    "print(f'Mach Position Error: {delta_Mpc}')"
   ]
  },
  {
   "cell_type": "markdown",
   "id": "c8a1f108-2e42-47c9-8b55-7baff35a5ba7",
   "metadata": {},
   "source": [
    "The truth Mach number can be obtained from:\n",
    "\n",
    "$M = \\bar{M_{ic}} + \\Delta M_{pc}$"
   ]
  },
  {
   "cell_type": "code",
   "execution_count": null,
   "id": "f00771ff-40bd-4310-920f-a28b5d1a35d7",
   "metadata": {},
   "outputs": [],
   "source": [
    "M = Mic.mean() + delta_Mpc\n",
    "print(f'Truth Mach Number: {M}')"
   ]
  },
  {
   "cell_type": "markdown",
   "id": "84db476a-692d-4bb3-aea2-7feb4fd33d21",
   "metadata": {},
   "source": [
    "Static port position error $(\\frac{\\Delta p_s}{p_s})$...\n",
    "\n",
    "First, from the truth M->   $\\frac{p_T}{p_a}=(1+0.2M^2)^\\frac{7}{2}$"
   ]
  },
  {
   "cell_type": "code",
   "execution_count": null,
   "id": "007ee55e-759e-4655-b456-f8a89f817b27",
   "metadata": {},
   "outputs": [],
   "source": [
    "pt_over_pa = (1 + 0.2 * M**2)**(7 / 2)\n",
    "print(f'pt_over_pa: {pt_over_pa}')"
   ]
  },
  {
   "cell_type": "markdown",
   "id": "fe2ee997-2241-4e55-9d0f-8dabc18d564f",
   "metadata": {},
   "source": [
    "$\\frac{\\Delta p_s}{p_s}=(\\frac{1}{\\frac{p_T}{p_s}}-\\frac{1}{\\frac{p_T}{p_a}})\\frac{p_T}{p_s}$"
   ]
  },
  {
   "cell_type": "code",
   "execution_count": null,
   "id": "ac50fe24-3cbc-49f1-8989-7ef6a3063d3b",
   "metadata": {},
   "outputs": [],
   "source": [
    "delta_ps_over_ps = ((1 / pt_over_ps) - (1 / pt_over_pa)) * pt_over_ps\n",
    "print(f'delta_ps_over_ps: {delta_ps_over_ps}')"
   ]
  },
  {
   "cell_type": "markdown",
   "id": "a8addb88-f9e9-494a-807c-3fee34985684",
   "metadata": {},
   "source": [
    "_____\n",
    "# *Common Part*\n",
    "for $\\frac{\\Delta p_s}{p_s}$ from multiple runs\n",
    "_____"
   ]
  },
  {
   "cell_type": "markdown",
   "id": "ca146542-e144-497c-8845-8f107e1a762c",
   "metadata": {},
   "source": [
    "Data ($\\frac{\\Delta p_s}{p_s}$) for multiple runs with a reasonable speed range is needed because the position error changes, especially with angle-of-attack. Think about the flowfield around the aircraft and how that is affected by AOA...\n",
    "Therefore, to verify the position error against FAR 25 for example, we would need a few runs to construct the curves.\n",
    "\n",
    "For brevity, here is a data set, with the average airspeeds and altitudes for the data from FlightGear:"
   ]
  },
  {
   "cell_type": "code",
   "execution_count": null,
   "id": "0c5e56fc-6086-4d09-8f2f-702e53eb4daa",
   "metadata": {},
   "outputs": [],
   "source": [
    "delta_ps_over_ps_runs = np.array([0.0014792, 00.004305, 0.0042285, 0.00330045, 0.00281466, 0.0033719])\n",
    "Vic_runs = np.array([175.8, 249.5, 359.0, 324.6, 224.2, 173.2]) # (kts)\n",
    "Hic_runs = np.array([10355.3, 10655.5, 10655.6, 31750.0, 31500.1, 31750.3]) # (ft)"
   ]
  },
  {
   "cell_type": "markdown",
   "id": "82462330-520c-41dd-a63a-abbb633afc62",
   "metadata": {},
   "source": [
    "## Verification against FAR 25 limits\n",
    "\n",
    "The civil regs define acceptable errors in terms of $\\Delta H_{pc}$ and $\\Delta V_{pc}$.\n",
    "\n",
    "The sequence to obtain $\\Delta H_{pc}$ from $\\frac{\\Delta p_s}{p_s}$ is:\n",
    "\n",
    "<span style=\"color: green;\">truth source:</span>\n",
    "\n",
    "<span style=\"color: green;\"> * set reference conditions (ISA/sea level in our case - $H_{c_{ref-alt}}=0$ ft)</span>\n",
    "\n",
    "<span style=\"color: green;\"> * calculate ambient pressure at ref cond. $p_{a_{ref-alt}}$</span>\n",
    "\n",
    "<span style=\"color: red;\">ship side:</span>\n",
    "\n",
    "<span style=\"color: red;\">* with $\\frac{\\Delta p_s}{p_s}$ and $p_{a_{ref-alt}}$ find static pressure at reference conditions $p_{s_{ref-alt}}$</span>\n",
    "\n",
    "<span style=\"color: red;\">* find the indicated altitude at ref conditions $H_{ic_{ref-alt}}$</span>\n",
    "\n",
    "Altitude position correction will be $\\Delta H_{pc_{ref-lat}}=H_{c_{ref-alt}}-H_{ic_{ref-alt}}$\n",
    "___"
   ]
  },
  {
   "cell_type": "markdown",
   "id": "3b2dcda1-743b-4bff-803d-9d548cd6bed6",
   "metadata": {},
   "source": [
    "Define first a **reference altitude** to reduce flight test data to.\n",
    "\n",
    "In the FAR 25 case, we will use **sea level** at **ISA** conditions.\n",
    "\n",
    "* $H_{c_{ref-alt}}=0ft$; \n",
    "* $T_{ref-alt}=T_0=288.15K$"
   ]
  },
  {
   "cell_type": "code",
   "execution_count": null,
   "id": "ca986072-2716-4614-9867-d1136cee4697",
   "metadata": {},
   "outputs": [],
   "source": [
    "# reference altitude = 0ft = sea level\n",
    "Hc_ref_alt = 0 # (ft)\n",
    "T_ref_alt = T0 # (K)"
   ]
  },
  {
   "cell_type": "markdown",
   "id": "47f6c184-f698-4e38-a433-1e9b2b471e4b",
   "metadata": {},
   "source": [
    "ambient pressure at reference altitude:\n",
    "\n",
    "$p_{a_{ref-alt}}=p_0*(1+\\frac{L}{T_0}*H_{c_{ref-alt}}^{(\\frac{-g_0}{RL})})$\n",
    "\n",
    "Note that we know this is $p_0$ for zero altitde and ISA, but if the reference altitude was different..."
   ]
  },
  {
   "cell_type": "code",
   "execution_count": null,
   "id": "1b8cf8a7-dc16-4ea2-8023-caa1ec51413b",
   "metadata": {},
   "outputs": [],
   "source": [
    "pa_ref_alt = p0 * (1 + L / T0 * (Hc_ref_alt*ft2m))**(-g_zero / ( R * L)) # (Pa)\n",
    "print(f'ambient pressure at reference altitude: {pa_ref_alt} Pa')"
   ]
  },
  {
   "cell_type": "markdown",
   "id": "6b9fa8c7-152c-4ccb-883a-e5842c0099c7",
   "metadata": {
    "tags": []
   },
   "source": [
    "static pressure at reference altitude:\n",
    "\n",
    "$p_{s_{ref-alt}} = \\frac{p_{a_{ref-alt}}}{1-\\frac{\\Delta p_s}{p_s}}$"
   ]
  },
  {
   "cell_type": "code",
   "execution_count": null,
   "id": "dec856fd-6cb1-4ff8-a9f7-661d5f0093fa",
   "metadata": {},
   "outputs": [],
   "source": [
    "ps_ref_alt = pa_ref_alt /  (1 - delta_ps_over_ps_runs) # (Pa)\n",
    "print(f'static pressure at reference altitude: {ps_ref_alt} Pa')"
   ]
  },
  {
   "cell_type": "markdown",
   "id": "a45e016e-14ca-4a18-aa34-5113e5fc7281",
   "metadata": {},
   "source": [
    "$\\delta_{ic}$ at reference altitude; note subscript *ic* because it includes position error:\n",
    "\n",
    "$\\delta_{ic_{ref-alt}}=\\frac{p_{s_{ref-alt}}}{p_0}$"
   ]
  },
  {
   "cell_type": "code",
   "execution_count": null,
   "id": "c54d4049-5360-46e2-9a46-40d112186db1",
   "metadata": {},
   "outputs": [],
   "source": [
    "deltaISA_ic_ref_alt = ps_ref_alt / p0\n",
    "print(f'deltaISA at reference altitude: {deltaISA_ic_ref_alt}')"
   ]
  },
  {
   "cell_type": "markdown",
   "id": "d33e5abf-8167-45ac-9ffd-a6ab34169e53",
   "metadata": {},
   "source": [
    "Indicated, instrument corrected altitude at reference altitude:\n",
    "\n",
    "$H_{ic_{ref-alt}}=\\frac{T_0}{L}(\\delta_{ic_{ref-alt}}^{-(\\frac{RL}{g_0})}-1)$"
   ]
  },
  {
   "cell_type": "code",
   "execution_count": null,
   "id": "f2ef0102-0338-4d6d-97eb-ad47dc7084cb",
   "metadata": {},
   "outputs": [],
   "source": [
    "Hic_ref_alt = T0 / L * ((deltaISA_ic_ref_alt)**(-(R * L / g_zero)) -1) * m2ft # (ft)\n",
    "print(f'indicated altitude at reference altitude: {Hic_ref_alt} ft')"
   ]
  },
  {
   "cell_type": "markdown",
   "id": "84094e6a-5850-4d1e-813e-4d0efff3fb7a",
   "metadata": {},
   "source": [
    "Altitude position correction:\n",
    "\n",
    "$\\Delta H_{pc_{ref-lat}}=H_{c_{ref-alt}}-H_{ic_{ref-alt}}$"
   ]
  },
  {
   "cell_type": "code",
   "execution_count": null,
   "id": "a4a7c8a6-3485-4c4d-a956-29fd2ff9147c",
   "metadata": {},
   "outputs": [],
   "source": [
    "delta_Hpc_ref_alt = Hc_ref_alt - Hic_ref_alt # (ft)\n",
    "print(f'delta Hc = {delta_Hpc_ref_alt} ft, with reference altitude={Hc_ref_alt} ft')"
   ]
  },
  {
   "cell_type": "markdown",
   "id": "eba82bbf-b0cd-4f19-a2d5-b8216046757b",
   "metadata": {},
   "source": [
    "## Airpeed (*and Mach*) position corrections\n",
    "\n",
    "Because we will need $\\frac{q_{c}}{p_a}$ to calculate the airspeed correction, we find first the Mach position correction:\n",
    "\n",
    "To obtain $\\Delta M_{pc}$ from $V_{ic_{test}}$ and $\\frac{\\Delta p_s}{p_s}$:\n",
    "\n",
    "<span style=\"color: red;\">ship side:</span>\n",
    "\n",
    "<span style=\"color: red;\">* from our test condition $V_{ic_{test}}$, calculate the differential pressure ratio $(\\frac{q_{cic}}{p_0})_{test}$</span>\n",
    "\n",
    "<span style=\"color: red;\">* from our test condition $H_{ic_{test}}$, calculate $\\delta_{ic_{test}}$</span>\n",
    "\n",
    "<span style=\"color: red;\">* from $(\\frac{q_{cic}}{p_0})_{test}$ and $\\delta_{ic_{test}}$ get $\\frac{q_{cic}}{p_s}$ at test condition</span>\n",
    "\n",
    "<span style=\"color: red;\">* calculate instrument corrected indicated Mach for test conditions $M_{ic_{test}}$</span>\n",
    "\n",
    "<span style=\"color: green;\">truth source:</span>\n",
    "\n",
    "<span style=\"color: green;\">* from $\\frac{q_{cic}}{p_s}$ and $\\frac{\\Delta p_s}{p_s}$, get $\\frac{q_{c}}{p_a}$</span>\n",
    "\n",
    "<span style=\"color: green;\">* from $\\frac{q_{c}}{p_a}$ calculate truth Mach</span>\n",
    "\n",
    "Mach position correction will be $\\Delta M_{pc}=M-M_{ic}$\n",
    "____"
   ]
  },
  {
   "cell_type": "markdown",
   "id": "d9a0873d-6722-4e02-9726-13116d946db9",
   "metadata": {},
   "source": [
    "To find $\\Delta V_{pc}$:\n",
    "\n",
    "<span style=\"color: green;\">truth source:</span>\n",
    "\n",
    "<span style=\"color: green;\">* from $\\delta_{ref-alt}$ and $\\frac{q_c}{p_a}$ find $(\\frac{q_c}{p_0})_{ref-alt}$</span>\n",
    "\n",
    "<span style=\"color: green;\">* calculate the instrument corrected (truth) airspeed at reference conditions $V_{c_{ref-alt}}$</span>\n",
    "\n",
    "<span style=\"color: red;\">ship side:</span>\n",
    "\n",
    "<span style=\"color: red;\">* from $(\\frac{q_c}{p_0})_{ref-alt}$ and $\\frac{\\Delta p_s}{p_s}$, get $(\\frac{q_{cic}}{p_0})_{ref-alt}$</span>\n",
    "\n",
    "<span style=\"color: red;\">* calculate the instrument corrected indicated airspeed at reference conditions $V_{ic_{ref-alt}}$</span>\n",
    "\n",
    "Airspeed position correction will be $\\Delta V_{pc_{ref-lat}}=V_{c_{ref-alt}}-V_{ic_{ref-alt}}$\n",
    "___"
   ]
  },
  {
   "cell_type": "markdown",
   "id": "6b7223c7-7483-4958-ba75-359d1162a0b1",
   "metadata": {},
   "source": [
    "Starting from first step:\n",
    "\n",
    "$(\\frac{q_{cic}}{p_0})_{test}=(1+0.2 (\\frac{V_{ic_{test}}}{a_0})^2)^\\frac{7}{2}-1$"
   ]
  },
  {
   "cell_type": "code",
   "execution_count": null,
   "id": "ac012436-c00e-4061-9162-e29e3520b512",
   "metadata": {},
   "outputs": [],
   "source": [
    "qcic_over_p0_runs = (1 + 0.2 * ((Vic_runs * kt2ms) / a0)**2)**(7 / 2) -1\n",
    "print(f'qcic_over_p0 for test runs: {qcic_over_p0_runs}')"
   ]
  },
  {
   "cell_type": "markdown",
   "id": "7dbe9227-cbd0-4e5d-8de0-9d0ea098fca0",
   "metadata": {},
   "source": [
    "$\\delta_{ic_{test}}=(1+\\frac{L}{T_0}(H_{ic_{test}})^{(\\frac{-g_0}{RL})})$"
   ]
  },
  {
   "cell_type": "code",
   "execution_count": null,
   "id": "c0378b2f-010d-4be4-8804-666edc28909f",
   "metadata": {},
   "outputs": [],
   "source": [
    "deltaISA_ic_runs = (1 + L / T0 * (Hic_runs * ft2m))**(-g_zero / (R * L))\n",
    "print(f'deltaISA_ic for test runs: {deltaISA_ic_runs}')"
   ]
  },
  {
   "cell_type": "markdown",
   "id": "9444f3b8-f716-4c95-becd-61d95d1b67bc",
   "metadata": {},
   "source": [
    "$\\frac{q_{cic}}{p_s}=\\frac{q_{cic}}{p_0}*\\frac{p_0}{p_s}=(\\frac{q_{cic}}{p_0})_{test} * \\frac{1}{\\delta_{ic_{test}}}$"
   ]
  },
  {
   "cell_type": "code",
   "execution_count": null,
   "id": "40a296c3-01ed-4280-81e2-9e6ffc080fc1",
   "metadata": {},
   "outputs": [],
   "source": [
    "qcic_over_ps = qcic_over_p0_runs / deltaISA_ic_runs\n",
    "print(f'qcic_over_ps for test runs: {qcic_over_ps}')"
   ]
  },
  {
   "cell_type": "markdown",
   "id": "4816815b-bd1f-49d5-a47c-6c4f2e050778",
   "metadata": {},
   "source": [
    "$M_{ic_{test}}=\\sqrt{5*((\\frac{q_{cic}}{p_s}+1)^{\\frac{2}{7}}-1)}$\n",
    "\n",
    "And because we will use this expression 2 times, let´s create a function!"
   ]
  },
  {
   "cell_type": "code",
   "execution_count": null,
   "id": "82ecaec7-df10-4876-b87e-234b978cadb8",
   "metadata": {},
   "outputs": [],
   "source": [
    "def M_from_q_over_p(q_over_p: float) -> float:\n",
    "    '''\n",
    "    Calcucae Mach from q over ps\n",
    "    '''\n",
    "    return np.sqrt(5 * ((q_over_p + 1)**(2 / 7) -1))\n",
    "\n",
    "Mic_runs = M_from_q_over_p(qcic_over_ps)\n",
    "print(f'indicated Mach for test run: {Mic_runs} ')"
   ]
  },
  {
   "cell_type": "markdown",
   "id": "53158e23-3f9f-4a91-b0b7-55690457a89a",
   "metadata": {},
   "source": [
    "$\\frac{q_{c}}{p_a}=\\frac{\\frac{q_cic}{p_s}+1}{1-\\frac{\\Delta p_s}{p_s}}-1$"
   ]
  },
  {
   "cell_type": "code",
   "execution_count": null,
   "id": "574f832a-a55e-4e69-aa41-7ff790100848",
   "metadata": {},
   "outputs": [],
   "source": [
    "qc_over_pa = (qcic_over_ps + 1) / (1 - delta_ps_over_ps_runs) - 1\n",
    "print(f'qc_over_pa for test runs: {qc_over_pa}')"
   ]
  },
  {
   "cell_type": "markdown",
   "id": "be33cbf3-83a9-491b-bd96-64d755a6b0fb",
   "metadata": {},
   "source": [
    "$M=\\sqrt{5*((\\frac{q_{c}}{p_a}+1)^{\\frac{2}{7}}-1)}$"
   ]
  },
  {
   "cell_type": "code",
   "execution_count": null,
   "id": "41264b34-7085-4872-abb3-befa3192b57a",
   "metadata": {},
   "outputs": [],
   "source": [
    "M = M_from_q_over_p(qc_over_pa)\n",
    "print(f'Truth Mach for test runs: {M}')"
   ]
  },
  {
   "cell_type": "markdown",
   "id": "6a95b03b-44e2-4559-a7b5-ce87d3779a5e",
   "metadata": {},
   "source": [
    "Find the delta M\n",
    "\n",
    "$\\Delta M_{pc}=M-M_{ic}$"
   ]
  },
  {
   "cell_type": "code",
   "execution_count": null,
   "id": "1858f229-db75-4f74-9f5e-6af6e873985e",
   "metadata": {},
   "outputs": [],
   "source": [
    "delta_Mpc = M - Mic_runs\n",
    "print(f'Mach position correctins for test runs: {delta_Mpc}')"
   ]
  },
  {
   "cell_type": "markdown",
   "id": "9d0231c0-7120-49b9-9287-684680cd80a0",
   "metadata": {},
   "source": [
    "$\\delta_{ref-alt}=(1+\\frac{L}{T_0}(H_{c_{ref-alt}})^{(\\frac{-g_0}{RL})})$\n",
    "\n",
    "*note: since we already calculated ambient pressure at reference altitude, we could just do $\\frac{p_{a_{ref-alt}}}{p_0}$ ...*"
   ]
  },
  {
   "cell_type": "code",
   "execution_count": null,
   "id": "1ca704dc-4b6e-420f-90e4-9e3e74b86333",
   "metadata": {},
   "outputs": [],
   "source": [
    "deltaISA_ref_alt = (1 + L / T0 * (Hc_ref_alt * ft2m))**(-g_zero / (R * L))\n",
    "print(f'deltaISA for reference altitude: {deltaISA_ref_alt}')"
   ]
  },
  {
   "cell_type": "markdown",
   "id": "65fc776e-f4bd-4b70-a6aa-6f9def4b06f4",
   "metadata": {},
   "source": [
    "$(\\frac{q_c}{p_0})_{ref-alt}=\\frac{q_c}{p_a}\\delta_{ref-alt}$"
   ]
  },
  {
   "cell_type": "code",
   "execution_count": null,
   "id": "cfb528c6-d621-487a-80e7-aa085073684b",
   "metadata": {},
   "outputs": [],
   "source": [
    "qc_over_p0_ref_alt = qc_over_pa * deltaISA_ref_alt\n",
    "print(f'qc_over_p0 for test runs at reference altitude: {qc_over_p0_ref_alt}')"
   ]
  },
  {
   "cell_type": "markdown",
   "id": "f5f8af05-bed7-4621-9c5e-302c1a2c8c81",
   "metadata": {},
   "source": [
    "$V_{c_{ref-alt}}=a_0*\\sqrt{5[((\\frac{q_c}{p_0})_{ref-alt}+1)^{\\frac{2}{7}}-1]}$\n",
    "\n",
    "Same idea, let´s create a function."
   ]
  },
  {
   "cell_type": "code",
   "execution_count": null,
   "id": "03db9c9a-ccf7-4b52-b85f-f9ee6ee6778e",
   "metadata": {},
   "outputs": [],
   "source": [
    "def V_from_q_over_p(q_over_p:float) -> float:\n",
    "    '''\n",
    "    Calculate airspeed from q_over_ps\n",
    "    returns airspeed in kts\n",
    "    '''\n",
    "    return a0 * np.sqrt(5 * ((q_over_p + 1)**(2 / 7) -1)) * ms2kt # (kts)\n",
    "Vc_ref_alt = V_from_q_over_p(qc_over_p0_ref_alt) # (kts)\n",
    "print(f'Instrument corrected, calibrated airspeed for test runs at reference altitude: {Vc_ref_alt} kts')"
   ]
  },
  {
   "cell_type": "markdown",
   "id": "910605f8-4a71-4edc-a2df-f5c34bdf4bc8",
   "metadata": {},
   "source": [
    "$(\\frac{q_{cic}}{p_0})_{ref-alt}=(\\frac{q_c}{p_0})_{ref-alt}-\\frac{\\Delta p_s}{p_s} \\delta_{ic_{ref-alt}}$"
   ]
  },
  {
   "cell_type": "code",
   "execution_count": null,
   "id": "426f37b1-3d50-4eee-a598-adcc1cf0aa78",
   "metadata": {},
   "outputs": [],
   "source": [
    "qcic_over_p0_ref_alt = qc_over_p0_ref_alt - delta_ps_over_ps_runs * deltaISA_ic_ref_alt\n",
    "print(f'qcic_over_p0 for test runs at reference altitude: {qcic_over_p0_ref_alt}')"
   ]
  },
  {
   "cell_type": "markdown",
   "id": "5ed5b46e-e768-4f4e-8fd3-2553ec5cd9b6",
   "metadata": {},
   "source": [
    "$V_{ic_{ref-alt}}=a_0*\\sqrt{5[((\\frac{q_{cic}}{p_0})_{ref-alt}+1)^{\\frac{2}{7}}-1]}$"
   ]
  },
  {
   "cell_type": "code",
   "execution_count": null,
   "id": "6b16f18b-390c-4db0-93ab-19a14f3207fc",
   "metadata": {},
   "outputs": [],
   "source": [
    "Vic_ref_alt = V_from_q_over_p(qcic_over_p0_ref_alt) # (kts)\n",
    "print(f'Instrument correcte, indicated airspeed for test runs at reference altitud: {Vic_ref_alt} kts')"
   ]
  },
  {
   "cell_type": "markdown",
   "id": "e13b7f18-152a-41e5-8a25-c5c7e8470f2d",
   "metadata": {},
   "source": [
    "$\\Delta V_{pc_{ref-alt}}=V_{c_{ref-alt}}-V_{ic_{ref-alt}}$"
   ]
  },
  {
   "cell_type": "code",
   "execution_count": null,
   "id": "cf0f9331-ab65-485b-938a-81fd18c9f955",
   "metadata": {},
   "outputs": [],
   "source": [
    "delta_Vpc_ref_alt =Vc_ref_alt - Vic_ref_alt # (kts)\n",
    "print(f'Airspeed posititon corrections for test runs at reference altitude: {delta_Vpc_ref_alt} kts')"
   ]
  },
  {
   "cell_type": "markdown",
   "id": "7643e42e-349a-4882-ac79-da0a51c72fbe",
   "metadata": {},
   "source": [
    "# FAR 25.1323 Compliance Check\n",
    "\n",
    "## Altitude - 25.1325\n",
    "(e) Each system must be designed and installed so that the error in indicated pressure altitude, at sea level, with a standard atmosphere, excluding instrument calibration error, does not result in an error of more than ±30 feet per 100 knots speed for the appropriate configuration in the speed range between 1.23 VSR0 with flaps extended and 1.7 VSR1 with flaps retracted. However, the error need not be less than ±30 feet. "
   ]
  },
  {
   "cell_type": "code",
   "execution_count": null,
   "id": "bdbac18d-e105-4fb6-9c39-39ceafdac69f",
   "metadata": {},
   "outputs": [],
   "source": [
    "# FAR 25 limits definitions\n",
    "\n",
    "k_point = 100 # (kts)\n",
    "x_limit1 = np.linspace(0, k_point, 10) # (kts)\n",
    "top_limity1 = np.ones(x_limit1.shape[0]) * 30 # (ft)\n",
    "bot_limity1 = - top_limity1 # (ft)\n",
    "\n",
    "x_limit2 = np.linspace(k_point, Vmo, 10) # (kts)\n",
    "top_limity2 = x_limit2 * 0.3 # (ft)\n",
    "bot_limity2 = - top_limity2 # (ft)"
   ]
  },
  {
   "cell_type": "code",
   "execution_count": null,
   "id": "9706be36-48d5-491c-982b-31e2498fd448",
   "metadata": {},
   "outputs": [],
   "source": [
    "# set graph size\n",
    "plt.rcParams['figure.figsize'] = [12, 7]\n",
    "\n",
    "# plot limits\n",
    "plt.plot(x_limit1, top_limity1, 'r', label='FAR 25 limit')\n",
    "plt.plot(x_limit1, bot_limity1, 'r')\n",
    "plt.plot(x_limit2, top_limity2, 'r')\n",
    "plt.plot(x_limit2, bot_limity2, 'r')\n",
    "\n",
    "# plot data\n",
    "plt.plot(Vic_runs, delta_Hpc_ref_alt, '+b', label='Flight Test', markersize=10)\n",
    "\n",
    "# label, grid, etc\n",
    "plt.xlabel( 'Vic (kts)')\n",
    "plt.ylabel('delta Hpc (ft)')\n",
    "plt.title('Altitude Error Plot')\n",
    "plt.grid(True)\n",
    "plt.legend()\n",
    "plt.show()"
   ]
  },
  {
   "cell_type": "markdown",
   "id": "97810c02-682a-459d-ba0d-4375be3570cb",
   "metadata": {},
   "source": [
    "## Airspeed - 25.1323\n",
    "\n",
    "25.1323 (c) states:\n",
    "The airspeed error of the installation, excluding the airspeed indicator instrument calibration error, may not exceed three percent or five knots, whichever is greater, throughout the speed range, from - \n",
    "\n",
    "(1) VMO  to 1.23 VSR1, with flaps retracted; and \n",
    "\n",
    "(2) 1.23 VSR0 to VFE with flaps in the landing position. "
   ]
  },
  {
   "cell_type": "code",
   "execution_count": null,
   "id": "af637cbd-59f1-432e-bc04-8e49f7f9abdc",
   "metadata": {},
   "outputs": [],
   "source": [
    "# FAR 25 limits definitions\n",
    "k_point = 5 / 0.03 # (kts)\n",
    "x_limit1 = np.linspace(Vsr0, k_point, 10) # (kts)\n",
    "top_limity1 = np.ones(x_limit1.shape[0]) * 5 # (kts)\n",
    "bot_limity1 = - top_limity1 # (kts)\n",
    "\n",
    "x_limit2 = np.linspace(k_point, Vmo, 10) # (kts)\n",
    "top_limity2 = x_limit2 * 0.03 # (kts)\n",
    "bot_limity2 = - top_limity2 # (kts)"
   ]
  },
  {
   "cell_type": "code",
   "execution_count": null,
   "id": "17d9eb6c-73bc-4190-91d0-0d0a2959bb97",
   "metadata": {},
   "outputs": [],
   "source": [
    "# plot limits\n",
    "\n",
    "# plot limits\n",
    "plt.plot(x_limit1, top_limity1, 'r', label='FAR 25 limit')\n",
    "plt.plot(x_limit1, bot_limity1, 'r')\n",
    "plt.plot(x_limit2, top_limity2, 'r')\n",
    "plt.plot(x_limit2, bot_limity2, 'r')\n",
    "\n",
    "# plot data\n",
    "plt.plot(Vic_runs, delta_Vpc_ref_alt, '+b', label='Flight Test', markersize=10)\n",
    "\n",
    "# label, grid, etc\n",
    "plt.xlabel( 'Vic (kts)')\n",
    "plt.ylabel('delta Vpc (kts)')\n",
    "plt.title('Speed Error Plot')\n",
    "plt.grid(True)\n",
    "plt.legend()\n",
    "plt.show()"
   ]
  },
  {
   "cell_type": "code",
   "execution_count": null,
   "id": "5f1eac8f-55c9-49b7-abef-3dcb4471b9c5",
   "metadata": {},
   "outputs": [],
   "source": []
  }
 ],
 "metadata": {
  "kernelspec": {
   "display_name": "Python 3 (ipykernel)",
   "language": "python",
   "name": "python3"
  },
  "language_info": {
   "codemirror_mode": {
    "name": "ipython",
    "version": 3
   },
   "file_extension": ".py",
   "mimetype": "text/x-python",
   "name": "python",
   "nbconvert_exporter": "python",
   "pygments_lexer": "ipython3",
   "version": "3.10.6"
  }
 },
 "nbformat": 4,
 "nbformat_minor": 5
}
