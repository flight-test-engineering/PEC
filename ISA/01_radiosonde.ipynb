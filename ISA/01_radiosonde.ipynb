{
 "cells": [
  {
   "cell_type": "markdown",
   "id": "1445d7f0-702a-42d0-a485-ef8c662fdf4d",
   "metadata": {},
   "source": [
    "# Radiosonde Data Plots\n",
    "\n",
    "includes large dataset plots with holoviews..."
   ]
  },
  {
   "cell_type": "markdown",
   "id": "4b89e329-20bd-4720-a615-1bb7bf99ffec",
   "metadata": {},
   "source": [
    "version control: \n",
    "* v1.0 initial release\n",
    "* v1.1 added comments and matplotlib figure size"
   ]
  },
  {
   "cell_type": "code",
   "execution_count": null,
   "id": "111905bc-af73-4630-ade7-81e22e289142",
   "metadata": {},
   "outputs": [],
   "source": [
    "# imports\n",
    "\n",
    "import pandas as pd\n",
    "import numpy as np\n",
    "import matplotlib.pyplot as plt\n",
    "plt.style.use('dark_background')\n",
    "plt.rcParams['figure.figsize'] = [10, 5]\n",
    "import igra #https://pypi.org/project/igra/"
   ]
  },
  {
   "cell_type": "code",
   "execution_count": null,
   "id": "30e37b01-ce30-4e34-bca6-948612c91f63",
   "metadata": {},
   "outputs": [],
   "source": [
    "# constants and conversion factors\n",
    "\n",
    "m2ft = 3.28084"
   ]
  },
  {
   "cell_type": "code",
   "execution_count": null,
   "id": "5024dc52-7412-484f-ab73-1be0c294b79c",
   "metadata": {},
   "outputs": [],
   "source": [
    "# download Edwards AFB to local drive\n",
    "igra.download.station(\"USM00072381\", \"./\")"
   ]
  },
  {
   "cell_type": "code",
   "execution_count": null,
   "id": "2f2688d3-1a0f-4985-a7b9-6613563331d8",
   "metadata": {},
   "outputs": [],
   "source": [
    "# read back the data from local drive into pandas dataframe\n",
    "\n",
    "data, station = igra.read.ascii_to_dataframe(\"./USM00072381-data.txt.zip\")"
   ]
  },
  {
   "cell_type": "code",
   "execution_count": null,
   "id": "21e794e6-d028-456d-85fe-ef937a0790e5",
   "metadata": {},
   "outputs": [],
   "source": [
    "data.head()"
   ]
  },
  {
   "cell_type": "code",
   "execution_count": null,
   "id": "ad7ea34c-5387-4531-a598-d908813558dd",
   "metadata": {},
   "outputs": [],
   "source": [
    "len(data)"
   ]
  },
  {
   "cell_type": "code",
   "execution_count": null,
   "id": "56a76a5b-64cd-497e-b66b-2bf27ad3ad58",
   "metadata": {},
   "outputs": [],
   "source": [
    "# quick pressure plot\n",
    "\n",
    "plt.scatter(data['pres'], data['gph'])\n",
    "plt.show()"
   ]
  },
  {
   "cell_type": "code",
   "execution_count": null,
   "id": "57e4b40e-06b3-41d0-9a8c-d7de10066fc2",
   "metadata": {},
   "outputs": [],
   "source": [
    "# a little better pressure plot\n",
    "\n",
    "plt.scatter(data['pres'], data['gph'], s=0.05, marker='.', \n",
    "            c=\"#36b5d8\")\n",
    "plt.grid(visible=True, alpha=0.2)\n",
    "plt.show()"
   ]
  },
  {
   "cell_type": "code",
   "execution_count": null,
   "id": "1e20a85a-761e-42b1-bbcd-a91ff6e89b54",
   "metadata": {},
   "outputs": [],
   "source": [
    "# temperature plot\n",
    "\n",
    "plt.scatter(data['temp'], data['gph'], s=0.05, marker='.', \n",
    "            c=\"#36b5d8\")\n",
    "plt.grid(visible=True, alpha=0.2)\n",
    "plt.xlabel('temp [C]')\n",
    "plt.ylabel('gph [m]')\n",
    "plt.show()"
   ]
  },
  {
   "cell_type": "code",
   "execution_count": null,
   "id": "5f67e52c-8204-4d0e-918d-e3f514e3d71d",
   "metadata": {},
   "outputs": [],
   "source": [
    "#pip install holoviews, hvplot, datashader"
   ]
  },
  {
   "cell_type": "code",
   "execution_count": null,
   "id": "69261718-c5d8-4dba-a88c-d2d0776c360e",
   "metadata": {},
   "outputs": [],
   "source": [
    "# import the pro stuff\n",
    "\n",
    "import hvplot.pandas\n",
    "import holoviews as hv, colorcet\n",
    "hv.extension('bokeh')\n",
    "from bokeh.themes import built_in_themes\n",
    "hv.renderer('bokeh').theme = built_in_themes['dark_minimal']"
   ]
  },
  {
   "cell_type": "code",
   "execution_count": null,
   "id": "8f32535a-d1f4-483c-b5d4-e289942b3112",
   "metadata": {},
   "outputs": [],
   "source": [
    "# temperature plot \n",
    "\n",
    "data.hvplot.scatter(x='temp', y='gph', rasterize=True, cnorm='log', colorbar=False, \n",
    "                  xlabel='temp [C]', ylabel='gph [m]', grid=True, cmap=colorcet.kbc,\n",
    "                  ylim=(0,40000))"
   ]
  },
  {
   "cell_type": "markdown",
   "id": "03b8180d-5ff2-4816-b5b3-f708f6eb35c7",
   "metadata": {},
   "source": [
    "Note data structures and clear patter to collect temperature at set heights."
   ]
  },
  {
   "cell_type": "code",
   "execution_count": null,
   "id": "0f37bf66-0f87-49a6-a61b-55add9fd3ae4",
   "metadata": {},
   "outputs": [],
   "source": [
    "# we already have Edwards, but let's keep it complete\n",
    "# the order relates to latitude\n",
    "dataset = {}\n",
    "\n",
    "stations = {'Fairbanks':'USM00070261',\n",
    "            'Edwards':'USM00072381',\n",
    "            'Florianopolis':'BRM00083899'}\n",
    "\n",
    "for station, sta_ID in stations.items():\n",
    "    #igra.download.station(sta_ID, \"./\")\n",
    "    data, _ = igra.read.ascii_to_dataframe(f'{sta_ID}-data.txt.zip')\n",
    "    dataset[station] = data"
   ]
  },
  {
   "cell_type": "code",
   "execution_count": null,
   "id": "3b08453e-57a1-4165-a64e-41ec8f4fcf09",
   "metadata": {},
   "outputs": [],
   "source": [
    "# create composite plot\n",
    "\n",
    "sta_y = '1940-05-01' # start of date interval\n",
    "end_y = '2022-09-01' # end of date interval\n",
    "\n",
    "fig, axs = plt.subplots(2, 3, sharex='row',sharey='row')\n",
    "col_idx = 0\n",
    "\n",
    "for station, data in dataset.items():\n",
    "    # first slice the data to include only data between the start and end dates\n",
    "    filt_data = data[(data.index>sta_y) & (data.index<end_y)].loc[:,['temp', 'pres', 'gph']].dropna()\n",
    "    \n",
    "    # pressure plots\n",
    "    d_label = 'pres'\n",
    "    x_data = filt_data[d_label] / 1000 # [kPa]\n",
    "    y_data = filt_data['gph'] * m2ft / 1000 # [kft]\n",
    "    axs[0, col_idx].scatter(x_data, y_data, s=0.05, marker='.', \n",
    "            c=\"#36b5d8\", alpha=0.9)\n",
    "    axs[0, col_idx].grid(visible=True, alpha=0.2)\n",
    "    axs[0, col_idx].set_title(station)\n",
    "    if col_idx == 0:\n",
    "        axs[0, col_idx].set_xlabel(f'{d_label} [kPa]')\n",
    "        axs[0, col_idx].xaxis.set_label_coords(-0.12, -0.06)\n",
    "        axs[0, col_idx].set_ylabel('gph [kft]')\n",
    "        \n",
    "    # temp plots\n",
    "    d_label = 'temp'\n",
    "    x_data = filt_data[d_label] # [C]\n",
    "    y_data = filt_data['gph'] * m2ft / 1000 # [kft]\n",
    "    axs[1, col_idx].scatter(x_data, y_data, s=0.05, marker='.', \n",
    "            c=\"#36b5d8\", alpha=0.9)\n",
    "    axs[1, col_idx].grid(visible=True, alpha=0.2)\n",
    "    #axs[1, col_idx].set_title(station)\n",
    "    if col_idx == 0:\n",
    "        axs[1, col_idx].set_xlabel(f'{d_label} [C]')\n",
    "        axs[1, col_idx].xaxis.set_label_coords(-0.12, -0.06)\n",
    "        axs[1, col_idx].set_ylabel('gph [kft]')\n",
    "    col_idx += 1\n",
    "\n",
    "plt.show()"
   ]
  },
  {
   "cell_type": "markdown",
   "id": "e3fe8178-c3ce-4e32-85ef-abb26b364771",
   "metadata": {},
   "source": []
  }
 ],
 "metadata": {
  "kernelspec": {
   "display_name": "Python 3 (ipykernel)",
   "language": "python",
   "name": "python3"
  },
  "language_info": {
   "codemirror_mode": {
    "name": "ipython",
    "version": 3
   },
   "file_extension": ".py",
   "mimetype": "text/x-python",
   "name": "python",
   "nbconvert_exporter": "python",
   "pygments_lexer": "ipython3",
   "version": "3.10.6"
  }
 },
 "nbformat": 4,
 "nbformat_minor": 5
}
