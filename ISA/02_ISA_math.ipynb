{
 "cells": [
  {
   "cell_type": "markdown",
   "id": "a2cc45ec-e548-4e20-bb4d-108cf0f65c39",
   "metadata": {},
   "source": [
    "# International Standard Atmosphere\n",
    "U.S. Standard Atmosphere - 1976"
   ]
  },
  {
   "cell_type": "markdown",
   "id": "cb7f187f-da86-444f-90ff-4c2bb1a2ad7b",
   "metadata": {},
   "source": [
    "Version control\n",
    "* v1.0 initial release"
   ]
  },
  {
   "cell_type": "markdown",
   "id": "65a489b7-4e36-445c-af86-b858e600d08c",
   "metadata": {},
   "source": [
    "Starting with the Equation of State for ideal gases:\n",
    "\n",
    "$PV=nRT$\n",
    "\n",
    "$P=\\rho RT$\n",
    "\n",
    "Where R is the specific gas constant, which for air is $R=287.05$ $\\frac{J}{kgK}$ in the SI."
   ]
  },
  {
   "cell_type": "markdown",
   "id": "e3ac6000-08c2-418f-99f1-27994ae7392e",
   "metadata": {},
   "source": [
    "<img src=\"pictures/diff_atmos_element.png\" alt=\"drawing\" width=\"300\"/>"
   ]
  },
  {
   "cell_type": "markdown",
   "id": "7d99338c-ea8a-4c9b-bfec-27af1493dbc9",
   "metadata": {},
   "source": [
    "From the hydrostatic equation:\n",
    "\n",
    "$W=-mg$\n",
    "\n",
    "$W=-(\\rho * V)g$\n",
    "\n",
    "$W=-\\rho * (dA * dh) g$\n",
    "\n",
    "Note that $h$ is the tapeline height."
   ]
  },
  {
   "cell_type": "markdown",
   "id": "c43f24c0-60da-45e6-a73f-d34365c3ed06",
   "metadata": {},
   "source": [
    "Force due to pressure:\n",
    "\n",
    "$\\sum F_p=PdA-(P+dP)dA$\n",
    "\n",
    "$\\sum F_p=-dPdA$\n",
    "\n",
    "All forces:\n",
    "\n",
    "$\\sum F=-\\rho dAdhg-dPdA=0$\n",
    "\n",
    "or:\n",
    "\n",
    "$dP=-\\rho g dh$"
   ]
  },
  {
   "cell_type": "markdown",
   "id": "ac45ecfb-47d8-413f-b531-ca3ba296324d",
   "metadata": {},
   "source": [
    "We could try:\n",
    "\n",
    "$\\int_{0}^{P}{dP}=\\int_{0}^{h}(-\\rho g) dh$\n",
    "\n",
    "But since *g* varies with altitude, and so does density ... we would have to do a numerical integral...\n",
    "\n",
    "So, we have a slight problem. \n",
    "\n",
    "But how does gravity vary with altitude..."
   ]
  },
  {
   "cell_type": "markdown",
   "id": "0e9d98e8-d709-4f16-8bef-b70d8be46e03",
   "metadata": {},
   "source": [
    "$g=g_{SL}(\\frac{R_{eSL}}{R_{eSL}+h})^2$  -> per Newton's theory\n",
    "\n",
    "But, how much is this for the altitudes we usually fly?"
   ]
  },
  {
   "cell_type": "code",
   "execution_count": null,
   "id": "258d414c-9f9d-4dac-8346-27877aecbbc4",
   "metadata": {
    "tags": []
   },
   "outputs": [],
   "source": [
    "ft2m = 1 / 3.28084\n",
    "Radius_Earth = 6378000 # [m]\n",
    "g_SL = 9.8065 # [m/s2]\n",
    "my_altitude = 55000 # [ft]\n",
    "g_my_alt = g_SL*(Radius_Earth/(Radius_Earth + (my_altitude * ft2m)))**2\n",
    "print(f'accel of gravity at {my_altitude} ft is {g_my_alt} m/s2, with a delta of {g_SL - g_my_alt} m/s2')"
   ]
  },
  {
   "cell_type": "markdown",
   "id": "a5de5f5c-ac32-4a38-9a8a-4fc963ac2f3e",
   "metadata": {},
   "source": [
    "\n",
    "Let's define *geopotential altitude (H)* as\n",
    "\n",
    "$gdh=g_{SL}dH$ ...\n",
    "\n",
    "Substitute and integrate:"
   ]
  },
  {
   "cell_type": "markdown",
   "id": "0dc0aadf-7b63-416e-b45b-3919fea73b91",
   "metadata": {},
   "source": [
    "$dH=(\\frac{R_{eSL}}{R_{eSL}+h})^2dh$\n",
    "\n",
    "$\\int_{0}^{H}dH=\\int_{0}^{h}(\\frac{R_{eSL}}{R_{eSL}+h})^2dh$\n",
    "\n",
    "Let’s learn a cool trick to do integrals (and other calculus) in Python: \n",
    "\n",
    "## Sympy"
   ]
  },
  {
   "cell_type": "code",
   "execution_count": null,
   "id": "b5b0d7cc-a4a7-494d-b700-61f87e09db4f",
   "metadata": {},
   "outputs": [],
   "source": [
    "# https://docs.sympy.org/latest/index.html\n",
    "# tut https://www.youtube.com/watch?v=1yBPEPhq54M\n",
    "import sympy as smp"
   ]
  },
  {
   "cell_type": "markdown",
   "id": "b2c39582-cce7-48c4-bc81-2720ec7f7a66",
   "metadata": {},
   "source": [
    "### Basics\n",
    "\n",
    "symbolic variables"
   ]
  },
  {
   "cell_type": "code",
   "execution_count": null,
   "id": "57a71a32-bc44-4ccf-b586-cb2076f206cf",
   "metadata": {},
   "outputs": [],
   "source": [
    "x = smp.symbols('x')\n",
    "x"
   ]
  },
  {
   "cell_type": "markdown",
   "id": "0e3ca2c9-aade-4e2a-869f-b7ede6adb337",
   "metadata": {},
   "source": [
    "multiple variables, latex"
   ]
  },
  {
   "cell_type": "code",
   "execution_count": null,
   "id": "1c256994-e779-4757-b0b7-e4c1d9a38975",
   "metadata": {},
   "outputs": [],
   "source": [
    "k1, z = smp.symbols('k_1 z')"
   ]
  },
  {
   "cell_type": "code",
   "execution_count": null,
   "id": "c91eccfc-89f7-4d64-aaa9-19795738694a",
   "metadata": {},
   "outputs": [],
   "source": [
    "k1"
   ]
  },
  {
   "cell_type": "code",
   "execution_count": null,
   "id": "a49f784e-033b-44d0-b3ab-ce147f3576f7",
   "metadata": {},
   "outputs": [],
   "source": [
    "# simple math operations\n",
    "x**2"
   ]
  },
  {
   "cell_type": "code",
   "execution_count": null,
   "id": "ba7b8c94-43cc-4168-8bdd-c143e1227523",
   "metadata": {},
   "outputs": [],
   "source": [
    "smp.sqrt(x)"
   ]
  },
  {
   "cell_type": "code",
   "execution_count": null,
   "id": "a768b942-d3d9-45d3-8d32-d81d65f22233",
   "metadata": {},
   "outputs": [],
   "source": [
    "# capturing the results in a new variable\n",
    "y = x**2\n",
    "y"
   ]
  },
  {
   "cell_type": "code",
   "execution_count": null,
   "id": "bb134ab6-1e0b-4586-a292-19d6beeaacf8",
   "metadata": {},
   "outputs": [],
   "source": [
    "# polynomials\n",
    "\n",
    "y = x**2 - 8*x + 12\n",
    "y"
   ]
  },
  {
   "cell_type": "code",
   "execution_count": null,
   "id": "fa7da5ef-3767-40c9-b6b9-8e980c18b804",
   "metadata": {},
   "outputs": [],
   "source": [
    "# first argument (y) is equal to zero - trick with equations, just move everything to one side\n",
    "smp.solve(y, x)"
   ]
  },
  {
   "cell_type": "code",
   "execution_count": null,
   "id": "c2664bf3-15ac-4fe1-808c-6c59ef96b67c",
   "metadata": {},
   "outputs": [],
   "source": [
    "y = y**2\n",
    "y"
   ]
  },
  {
   "cell_type": "code",
   "execution_count": null,
   "id": "9e275146-ee37-4824-bf7c-caeb05306170",
   "metadata": {},
   "outputs": [],
   "source": [
    "y.factor()"
   ]
  },
  {
   "cell_type": "code",
   "execution_count": null,
   "id": "946d1442-e946-4547-8387-700a5e8ed35a",
   "metadata": {},
   "outputs": [],
   "source": [
    "y.expand()"
   ]
  },
  {
   "cell_type": "code",
   "execution_count": null,
   "id": "8185da4e-d5a6-4df8-a3eb-54e09fdf4a48",
   "metadata": {},
   "outputs": [],
   "source": [
    "# assumptions\n",
    "x = smp.symbols('x')\n",
    "smp.solve(x**2-1*x+2,x)"
   ]
  },
  {
   "cell_type": "code",
   "execution_count": null,
   "id": "397552e0-9c04-464f-a4d3-cb3cd26fba40",
   "metadata": {},
   "outputs": [],
   "source": [
    "x = smp.symbols('x', real=True)\n",
    "smp.solve(x**2-1*x+2,x)"
   ]
  },
  {
   "cell_type": "code",
   "execution_count": null,
   "id": "6c9a2573-38dd-4d59-a76d-6924cda8c890",
   "metadata": {},
   "outputs": [],
   "source": [
    "# multivariables\n",
    "x, y, z = smp.symbols('x y z')\n",
    "F = x**2 + smp.sin(z) * y\n",
    "F"
   ]
  },
  {
   "cell_type": "code",
   "execution_count": null,
   "id": "9515b8ec-a677-48c7-8ab8-6c2a42eeca6d",
   "metadata": {},
   "outputs": [],
   "source": [
    "smp.solve(F,x)"
   ]
  },
  {
   "cell_type": "code",
   "execution_count": null,
   "id": "0d61a629-93a8-4b3a-a557-ef1b1bc8065a",
   "metadata": {},
   "outputs": [],
   "source": [
    "smp.solve(F,z)"
   ]
  },
  {
   "cell_type": "code",
   "execution_count": null,
   "id": "b18b5aae-8454-4988-a6ba-fcb35e8bd255",
   "metadata": {},
   "outputs": [],
   "source": [
    "expr = smp.solve(F, z)[0]\n",
    "expr"
   ]
  },
  {
   "cell_type": "code",
   "execution_count": null,
   "id": "84de0a6d-af03-4d2c-b76c-e9c93f74d2c1",
   "metadata": {},
   "outputs": [],
   "source": [
    "expr_f = smp.lambdify([x, y], expr)\n",
    "expr_f(1,2)"
   ]
  },
  {
   "cell_type": "code",
   "execution_count": null,
   "id": "9031f9d3-0414-4de6-8eb5-f0a0e88a002b",
   "metadata": {},
   "outputs": [],
   "source": [
    "# derivative\n",
    "\n",
    "smp.diff(F, z)"
   ]
  },
  {
   "cell_type": "code",
   "execution_count": null,
   "id": "140816f0-6710-4ee2-bbd4-289dd8191fb4",
   "metadata": {},
   "outputs": [],
   "source": [
    "# integral\n",
    "\n",
    "smp.integrate(F, z)"
   ]
  },
  {
   "cell_type": "code",
   "execution_count": null,
   "id": "7c129062-081b-40fe-9e3d-20bc645eeb11",
   "metadata": {},
   "outputs": [],
   "source": [
    "# tab\n",
    "smp."
   ]
  },
  {
   "cell_type": "code",
   "execution_count": null,
   "id": "c63589b9-05d3-4821-a6a6-8c58c340dfe2",
   "metadata": {},
   "outputs": [],
   "source": [
    "# shift - tab\n",
    "smp.exp"
   ]
  },
  {
   "cell_type": "code",
   "execution_count": null,
   "id": "5ee796da-0d8a-4eec-a7ca-4a76707cdd5a",
   "metadata": {},
   "outputs": [],
   "source": [
    "R_eSL, h, H = smp.symbols('R_{eSL}, h, H', real=True, positive=True)"
   ]
  },
  {
   "cell_type": "code",
   "execution_count": null,
   "id": "d528345c-e3c7-4dc6-960c-7d4bd21e930d",
   "metadata": {},
   "outputs": [],
   "source": [
    "dH = (R_eSL / (R_eSL + h))**2\n",
    "dH"
   ]
  },
  {
   "cell_type": "code",
   "execution_count": null,
   "id": "68e8ff21-2476-4154-93b0-2331d7471e4e",
   "metadata": {},
   "outputs": [],
   "source": [
    "H = smp.integrate(dH, (h,0,h))\n",
    "H"
   ]
  },
  {
   "cell_type": "code",
   "execution_count": null,
   "id": "77a38781-df8e-405b-9e90-bcc4251034d4",
   "metadata": {},
   "outputs": [],
   "source": [
    "H = smp.integrate(dH, (h,0,h)).simplify()\n",
    "H"
   ]
  },
  {
   "cell_type": "code",
   "execution_count": null,
   "id": "91dbee55-cdab-42db-bd7c-630b8bdb4c28",
   "metadata": {},
   "outputs": [],
   "source": [
    "H_f = smp.lambdify([R_eSL, h], H)"
   ]
  },
  {
   "cell_type": "code",
   "execution_count": null,
   "id": "6b23285c-c7c1-4e46-8ece-71fdc2039dd9",
   "metadata": {},
   "outputs": [],
   "source": [
    "import numpy as np\n",
    "import matplotlib.pyplot as plt\n",
    "plt.style.use('dark_background')\n",
    "%matplotlib widget"
   ]
  },
  {
   "cell_type": "code",
   "execution_count": null,
   "id": "7ae15ae6-384d-44be-9675-0b787bda5626",
   "metadata": {},
   "outputs": [],
   "source": [
    "# conversion factors\n",
    "m2ft = 3.28084\n",
    "ft2m = 1 / m2ft\n",
    "kt2ms = 1852 / 60 / 60 # 1 nm in meters; from hours to seconds\n",
    "ms2kt = 1 / kt2ms\n",
    "C2K = 273.15\n",
    "d2r = np.pi / 180\n",
    "r2d = 1 / d2r"
   ]
  },
  {
   "cell_type": "code",
   "execution_count": null,
   "id": "dff4a594-7f3d-479d-a29e-7387b588e0f8",
   "metadata": {},
   "outputs": [],
   "source": [
    "h = np.arange(0,20000,1000) # [m]"
   ]
  },
  {
   "cell_type": "code",
   "execution_count": null,
   "id": "8f712026-b3b8-442e-b2d1-a726acc44b20",
   "metadata": {},
   "outputs": [],
   "source": [
    "g_SL = 9.80665 # [m/s2]\n",
    "#WGS84 geoid\n",
    "a = 6378137.0 # [m] - semi-major axis\n",
    "b = 6356752.3142 # [m] - semi-major axis\n",
    "latitude = 45 # [deg]\n",
    "R_eSL = np.sqrt(((a**2*np.cos(latitude*d2r))**2+(b**2*np.sin(latitude*d2r))**2)/\n",
    "                ((a*np.cos(latitude))**2+(b*np.sin(latitude))**2)) # [m]\n",
    "#H = R_eSL * h / (R_eSL + h) # [m]\n",
    "H_res = H_f(R_eSL, h) # [m]"
   ]
  },
  {
   "cell_type": "code",
   "execution_count": null,
   "id": "61145145-fd1f-4c21-a614-84d438474f40",
   "metadata": {},
   "outputs": [],
   "source": [
    "fig,ax = plt.subplots(1)\n",
    "\n",
    "ax.plot(H_res*m2ft,(h-H_res)*m2ft) # [ft] vs [ft]\n",
    "ax.format_coord = lambda x, y: f\"H={x:5.0f}, h-H={y:3.1f}\"\n",
    "ax.set_xlabel('H [ft]')\n",
    "ax.set_ylabel('h-H [ft]')\n",
    "\n",
    "ax.grid(visible=True, alpha=0.2)\n",
    "plt.show()"
   ]
  },
  {
   "cell_type": "markdown",
   "id": "280f0093-198d-44c7-96c7-e46d300297ab",
   "metadata": {},
   "source": [
    "As we can see, if we switch from geometric altitude to geopotential altitude, the impact is not significative up to 50,000ft (~120ft).\n",
    "\n"
   ]
  },
  {
   "cell_type": "markdown",
   "id": "39dbee21-25f5-4052-b8fc-15b941de6ffd",
   "metadata": {},
   "source": [
    "________________________________________________"
   ]
  },
  {
   "cell_type": "markdown",
   "id": "ea5d9f9d-32e7-4afc-a33a-c2a61b21146c",
   "metadata": {},
   "source": [
    "So we can rewrite the hydrostatic equation with geopotential height instead of tapeline height:\n",
    "\n",
    "$dP=-\\rho g_{SL} dH$"
   ]
  },
  {
   "cell_type": "markdown",
   "id": "9c6f3465-18df-4522-8f21-76ff74674f97",
   "metadata": {},
   "source": [
    "Coming back to our model of the atmosphere, now we can divide the Hydrostatic Equation by the Equation of State to get:\n",
    "\n",
    "$\\frac{dP}{P}=\\frac{-\\rho g_{SL}dH}{\\rho RT}$\n",
    "\n",
    "$\\frac{dP}{P}=\\frac{- g_{SL}dH}{ RT}$"
   ]
  },
  {
   "cell_type": "markdown",
   "id": "7fb4a40a-3478-41d5-93df-254143f6df70",
   "metadata": {},
   "source": [
    "## Troposphere\n",
    "\n",
    "For the region where temperature varies, we define a **constant lapse rate**:\n",
    "\n",
    "$L=\\frac{dT}{dH}$"
   ]
  },
  {
   "cell_type": "markdown",
   "id": "0e3e1f09-946b-4820-89b2-b67d5d1d4251",
   "metadata": {},
   "source": [
    "We rearrange and integrate:\n",
    "\n",
    "$LdH=dT$\n",
    "\n",
    "$L \\int_{H_{bottom}}^{H}dH=\\int_{T_{bottom}}^{T}dT$\n",
    "\n",
    "$L (H-H_{bottom}) =T-T_{bottom}$\n",
    "\n",
    "Isolate temperature:\n",
    "\n",
    "$T=T_{bottom}+L (H-H_{bottom})$\n",
    "\n",
    "Divide by $T_{bottom}$ to get the ratio:\n",
    "\n",
    "$\\frac{T}{T_{bottom}}=1+\\frac{L}{T_{bottom}} (H-H_{bottom})$"
   ]
  },
  {
   "cell_type": "markdown",
   "id": "224a902c-0bd4-472c-ac91-6b201b9545ce",
   "metadata": {},
   "source": [
    "We had: $\\frac{dP}{P}=\\frac{- g_{SL}dH}{ RT}$\n",
    "\n",
    "$L=\\frac{dT}{dH}$ --> isolate $dH=\\frac{dT}{L}$\n",
    "\n",
    "$\\frac{dP}{P}=\\frac{- g_{SL}}{LR}\\frac{dT}{T}$"
   ]
  },
  {
   "cell_type": "markdown",
   "id": "0234c06e-bb29-4559-9197-63169dcd618c",
   "metadata": {},
   "source": [
    "Let's use Sympy here again:"
   ]
  },
  {
   "cell_type": "code",
   "execution_count": null,
   "id": "852d6929-f5db-46e6-81bf-277d8f42b600",
   "metadata": {},
   "outputs": [],
   "source": [
    "P, P_bottom = smp.symbols('P, P_{bottom}', real=True, positive=True)\n",
    "H, H_bottom = smp.symbols('H, H_{bottom}', real=True, positive=True)\n",
    "T, T_bottom = smp.symbols('T, T_{bottom}', real=True, positive=True)\n",
    "g_SL = smp.symbols('g_{SL}', real=True, positive=True)\n",
    "R, L = smp.symbols('R, L', real=True, positive=True)"
   ]
  },
  {
   "cell_type": "code",
   "execution_count": null,
   "id": "dc3d89c4-7a3a-493c-a70a-12f67aa3be1c",
   "metadata": {},
   "outputs": [],
   "source": [
    "lhs = smp.integrate(1/P, (P,P_bottom,P)).simplify()\n",
    "lhs"
   ]
  },
  {
   "cell_type": "code",
   "execution_count": null,
   "id": "58a3e360-a318-4a8a-b036-05dcef8a09da",
   "metadata": {},
   "outputs": [],
   "source": [
    "rhs = -g_SL/(R*L)*smp.integrate((1)/T, (T,T_bottom,T)).simplify()\n",
    "rhs"
   ]
  },
  {
   "cell_type": "markdown",
   "id": "f13788c6-3567-4563-8cdb-8afe287cf462",
   "metadata": {},
   "source": [
    "we can now raise both sides to $e$:"
   ]
  },
  {
   "cell_type": "code",
   "execution_count": null,
   "id": "41214379-6205-4be1-8e9f-95aaf7b8520b",
   "metadata": {},
   "outputs": [],
   "source": [
    "smp.exp(lhs)"
   ]
  },
  {
   "cell_type": "code",
   "execution_count": null,
   "id": "7668c77a-19fc-414e-ab33-7cf454e990b4",
   "metadata": {},
   "outputs": [],
   "source": [
    "smp.exp(rhs).simplify()"
   ]
  },
  {
   "cell_type": "markdown",
   "id": "47defa6b-5154-4555-abf0-ffd719fa1904",
   "metadata": {},
   "source": [
    "Notice that although Simpy gives us $\\frac{T_{bottom}}{T}$, we can invert this by taking the negative expoent"
   ]
  },
  {
   "cell_type": "markdown",
   "id": "78f9680a-3bc0-4316-b799-f6ec717ae309",
   "metadata": {},
   "source": [
    "$\\frac{P}{P_{bottom}}=\\frac{T}{T_{bottom}}^{\\frac{- g_{SL}}{LR}}$\n",
    "\n",
    "substituting:\n",
    "$\\frac{T}{T_{bottom}}=1+\\frac{L}{T_{bottom}} (H-H_{bottom})$\n",
    "\n",
    "$\\frac{P}{P_{bottom}}=(1+\\frac{L}{T_{bottom}} (H-H_{bottom}))^{\\frac{- g_{SL}}{LR}}$"
   ]
  },
  {
   "cell_type": "markdown",
   "id": "89340f2f-e460-4ac6-94d1-b7a6fd2f0982",
   "metadata": {},
   "source": [
    "___________________"
   ]
  },
  {
   "cell_type": "markdown",
   "id": "6c40d192-eee5-4639-b537-7e377144ddd7",
   "metadata": {},
   "source": [
    "If now we define values for our standard atmosphere, at mean seal level:\n",
    "\n",
    "* $P_{bottom}=P_{SL}$\n",
    "* $H_{bottom}=0$\n",
    "* $T_{bottom}=T_{SL}$"
   ]
  },
  {
   "cell_type": "markdown",
   "id": "743c89bb-5411-4120-a1c3-29f6d2d45554",
   "metadata": {},
   "source": [
    "______________________________"
   ]
  },
  {
   "cell_type": "markdown",
   "id": "86cdded4-13ee-4661-804d-54cac162cf67",
   "metadata": {},
   "source": [
    "and define the pressure ratio \n",
    "\n",
    "$\\delta=\\frac{P}{P_{SL}}$\n",
    "\n",
    "We can write:\n",
    "\n",
    "$\\delta=(1+\\frac{L}{T_{SL}} (H-0))^{\\frac{- g_{SL}}{LR}}$\n",
    "\n",
    "$\\delta=(1+\\frac{L}{T_{SL}} (H))^{\\frac{- g_{SL}}{LR}}$"
   ]
  },
  {
   "cell_type": "markdown",
   "id": "ed9112d6-e9d9-4eb9-8486-1010493bad8f",
   "metadata": {},
   "source": [
    "Finally, we DEFINE \"pressure altitude\" as the altitude obtained from the standard atmosphere equation, for a given pressure. This allows us to replace the geopotential height ($H$) by pressure altitude ($H_c$)\n",
    "\n",
    "$\\delta=(1+\\frac{L}{T_{SL}} (H_c))^{\\frac{- g_{SL}}{LR}}$"
   ]
  },
  {
   "cell_type": "markdown",
   "id": "dc2a038a-36fc-4dcb-bc85-13b6b47b0f9e",
   "metadata": {},
   "source": [
    "We can also obtain the equations for density, by using the equation of state:\n",
    "\n",
    "$\\frac{P}{P_{bottom}}=\\frac{\\rho R T}{\\rho_{bottom}R T_{bottom}}$"
   ]
  },
  {
   "cell_type": "markdown",
   "id": "5a497145-2211-485f-8af7-e9966a1c3d40",
   "metadata": {},
   "source": [
    "$\\frac{\\rho}{\\rho_{bottom}}=\\frac{P}{P_{bottom}}*(\\frac{T}{T_{bottom}})^{-1}$\n",
    "\n",
    "Fetching what we had before:\n",
    "\n",
    "$\\frac{P}{P_{bottom}}=\\frac{T}{T_{bottom}}^{\\frac{- g_{SL}}{LR}}$\n",
    "\n",
    "so now we can substitute:\n",
    "\n",
    "$\\frac{\\rho}{\\rho_{bottom}}=\\frac{T}{T_{bottom}}^{\\frac{- g_{SL}}{LR}}*(\\frac{T}{T_{bottom}})^{-1}$\n",
    "\n",
    "$\\frac{\\rho}{\\rho_{bottom}}=\\frac{T}{T_{bottom}}^{\\frac{- g_{SL}}{LR}-1}$\n",
    "\n",
    "And since we had also\n",
    "\n",
    "$\\frac{T}{T_{bottom}}=1+\\frac{L}{T_{bottom}} (H-H_{bottom})$\n",
    "\n",
    "we can substitute as well to get:\n",
    "\n",
    "$\\frac{\\rho}{\\rho_{bottom}}=(1+\\frac{L}{T_{bottom}} (H-H_{bottom}))^{\\frac{- g_{SL}}{LR}-1}$"
   ]
  },
  {
   "cell_type": "markdown",
   "id": "2d321dc2-6ac3-4e88-9d94-fc39173ba5ab",
   "metadata": {},
   "source": [
    "Define density ratio:\n",
    "\n",
    "$\\sigma=\\frac{\\rho}{\\rho_{SL}}$\n",
    "\n",
    "For standard atmosphere, we can write:\n",
    "\n",
    "\n",
    "$\\sigma=(1+\\frac{L}{T_{SL}} (H_c))^{\\frac{- g_{SL}}{LR}-1}$"
   ]
  },
  {
   "cell_type": "markdown",
   "id": "6d55ba8e-e15c-478f-abff-245b2722cce6",
   "metadata": {},
   "source": [
    "The last ratio that we define is for temperature:\n",
    "\n",
    "$\\theta=\\frac{T}{T_{SL}}$\n",
    "\n",
    "We had:\n",
    "\n",
    "$\\frac{T}{T_{bottom}}=1+\\frac{L}{T_{bottom}} (H-H_{bottom})$\n",
    "\n",
    "Which, for the standard atmosphere, becomes:\n",
    "\n",
    "$\\theta=1+\\frac{L}{T_{SL}} (H_c)$"
   ]
  },
  {
   "cell_type": "markdown",
   "id": "ec94fc2b-ee96-488c-ab98-4e8f25e24d73",
   "metadata": {},
   "source": [
    "________________________________"
   ]
  },
  {
   "cell_type": "markdown",
   "id": "4569f721-5e28-4e0c-93fb-edc72cbc5535",
   "metadata": {},
   "source": [
    "## Stratosphere\n",
    "If temperature is **constant**, we can easily integrate:\n",
    "\n",
    "$\\int_{P_{bottom}}^{P}\\frac{dP}{P}=-\\frac{g_{SL}}{RT_{bottom}}\\int_{H_{bottom}}^{H}dH$\n",
    "\n",
    "$ln(P)-ln(P_{bottom})=-\\frac{g_{SL}}{RT_{bottom}}(H-H_{bottom})$\n",
    "\n",
    "$ln(\\frac{P}{P_{bottom}})=-\\frac{g_{SL}}{RT_{bottom}}(H-H_{bottom})$\n",
    "\n",
    "$\\frac{P}{P_{bottom}}=e^{-\\frac{g_{SL}}{RT_{bottom}}(H-H_{bottom})}$\n",
    "\n",
    "Now, $\\delta=\\frac{P}{P_{SL}}=\\frac{P_{bottom}}{P_{SL}}\\frac{P}{P_{bottom}}=\\delta_{bottom}\\frac{P}{P_{bottom}}$\n",
    "\n",
    "$\\delta=\\delta_{bottom}\\frac{P}{P_{bottom}}$\n",
    "\n",
    "So, in this case, $\\frac{P}{P_{bottom}}=\\frac{\\delta}{\\delta_{bottom}}$\n",
    "\n",
    "and write for the standard atmosphere, with the subscript \"strato-bot\" meaning the value at the bottom of the stratosphere:\n",
    "\n",
    "$\\delta=\\delta_{strato-bot}(e^{-\\frac{g_{SL}}{RT_{strato-bot}}(H_c-H_{strato-bot})})$\n"
   ]
  },
  {
   "cell_type": "markdown",
   "id": "390b6854-bce3-4341-af83-546887e17220",
   "metadata": {},
   "source": [
    "Similarly, for the density equation:\n",
    "\n",
    "$\\frac{P}{P_{bottom}}=\\frac{\\rho R T}{\\rho_{bottom}R T_{bottom}}$\n",
    "\n",
    "Since $T=T_{bottom}$= constant\n",
    "\n",
    "$\\frac{P}{P_{bottom}}=\\frac{\\rho}{\\rho_{bottom}}$\n",
    "\n",
    "$\\frac{\\rho}{\\rho_{bottom}}=e^{-\\frac{g_{SL}}{RT_{bottom}}(H-H_{bottm})}$\n",
    "\n",
    "$\\sigma=\\sigma_{strato-bot}(e^{-\\frac{g_{SL}}{RT_{strato-bot}}(H_c-H_{strato-bot})})$"
   ]
  },
  {
   "cell_type": "markdown",
   "id": "5241b44a-a4aa-4d14-9a67-9bc884f439d1",
   "metadata": {},
   "source": [
    "Last, it is useful to have the inverse relation for pressure altitude: given a pressure, we want to know the pressure altitude. \n",
    "\n",
    "These can be obtained by manipulating the equations we already have and will just be listed below."
   ]
  },
  {
   "cell_type": "markdown",
   "id": "f6e44f4b-e9c3-4d9f-b228-6139ea9468e3",
   "metadata": {},
   "source": [
    "Standard Atmosphere Summary:\n",
    "\n",
    "| Direct Relations                | Troposphere                                             | Stratosphere                                                           |\n",
    "| :--                             | :-:                                                     | :-:                                                                    |\n",
    "| $\\delta=\\frac{P}{P_{SL}}$       | $\\delta=(1+\\frac{L}{T_{SL}}(H_c))^{\\frac{-g_{SL}}{LR}}$ | $\\delta=\\delta_{strato-bot}(e^{-\\frac{g_{SL}}{RT_{strato-bot}}(H_c-H_{strato-bot})})$ |\n",
    "| $\\sigma=\\frac{\\rho}{\\rho_{SL}}$ | $\\sigma=(1+\\frac{L}{T_{SL}}(H_c))^{\\frac{-g_{SL}}{LR}-1}$ | $\\sigma=\\sigma_{strato-bot}(e^{-\\frac{g_{SL}}{RT_{strato-bot}}(H_c-H_{strato-bot})})$ |\n",
    "| $\\theta=\\frac{T}{T_{SL}}$       | $\\theta=1+\\frac{L}{T_{SL}}(H_c)$                        | $\\theta=\\frac{T_{strato-bot}}{T_{SL}}$                                  |\n",
    "| __________________ | ____________________________ | _____________________________________________________________ |\n",
    "| **Inverse Relations**               |                                                         |                                                                             |\n",
    "| given pressure       | $H_c=\\frac{T_{SL}}{L}(\\delta^{-\\frac{LR}{g_{SL}}}-1)$ | $H_c=\\frac{-RT_{strato-bot}}{g_{SL}}log(\\frac{\\delta^{(\\frac{-g_{SL}}{RT_{strato-bot}}{H_{strato-bot}})}}{\\delta_{strato-bot}})$ |\n",
    "| given density | $H_{\\rho}=\\frac{T_{SL}}{L}(\\sigma^{\\frac{1}{\\frac{-g_{SL}}{LR}-1}}-1)$ | $H_{\\rho}=\\frac{-RT_{strato-bot}}{g_{SL}}log(\\frac{\\sigma^{(\\frac{-g_{SL}}{LT_{strato-bot}}{H_{strato-bot}})}}{\\sigma_{strato-bot}})$ |\n",
    "| __________________ | ____________________________ | _____________________________________________________________ |\n",
    "| Altitude  | $H_{tropo-bot} = 0m$  | $H_{strato-bot}=11000m = ft =36089.24$   |\n",
    "| Temperature  | $T_{tropo-bot} = 288.15K$  | $T_{strato-bot}=216.65K$  |\n",
    "| Pressure  | $P_{tropo-bot} = 101325Pa$  | $P_{strato-bot}=22632.06Pa$  |\n",
    "| Density  | $\\rho_{tropo-bot} = 1.225 \\frac{kg}{m^3}$  | $\\rho_{strato-bot}=0.363918 \\frac{kg}{m^3}$  |\n",
    "| __________________ | ____________________________ | _____________________________________________________________ |\n"
   ]
  }
 ],
 "metadata": {
  "kernelspec": {
   "display_name": "Python 3 (ipykernel)",
   "language": "python",
   "name": "python3"
  },
  "language_info": {
   "codemirror_mode": {
    "name": "ipython",
    "version": 3
   },
   "file_extension": ".py",
   "mimetype": "text/x-python",
   "name": "python",
   "nbconvert_exporter": "python",
   "pygments_lexer": "ipython3",
   "version": "3.10.6"
  }
 },
 "nbformat": 4,
 "nbformat_minor": 5
}
