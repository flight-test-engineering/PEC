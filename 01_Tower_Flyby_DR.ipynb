{
 "cells": [
  {
   "cell_type": "markdown",
   "id": "09627a5c-96a3-48d4-8205-7f94875bbbde",
   "metadata": {},
   "source": [
    "Measurements\n",
    "\n",
    "Measure from aircraft:\n",
    "* indicated airspeed\n",
    "* indicated altitude\n",
    "* delta off centerline\n",
    "\n",
    "Measure on ground:\n",
    "* ambient temperature\n",
    "* ambient pressure\n",
    "\n",
    "From photo:\n",
    "* aircraft true height *(using geometry as discussed)*"
   ]
  },
  {
   "cell_type": "markdown",
   "id": "eec6ff59-5707-4362-a137-c5b8b0038596",
   "metadata": {},
   "source": [
    "![037](pictures/tower_geometry_green2.png)"
   ]
  },
  {
   "cell_type": "markdown",
   "id": "e6213fae-c8dc-4fa8-85a0-fdbd32d7a053",
   "metadata": {},
   "source": [
    "\n",
    "- calculate delta height from photos\n",
    "- calculate ISA temperature for tower pressure\n",
    "- from tower pressure, calculate tower pressure altitude\n",
    "- from tower pressure altitude, delta height from photo and actual tower temp, calculate true pressure altitude at aircraft level (HPtrue)\n",
    "- calculate pressure for HPtrue\n",
    "- correct airspeed and alt for instument error\n",
    "- convert indicated altitude to pressure\n",
    "- calculate delta pressure altitude (HPtrue - HPindicated)\n",
    "- calculate delta static pressure\n",
    "- calculate delta dynamic pressure\n",
    "- calculate delta airspeed\n",
    "- compare to FAR limits"
   ]
  },
  {
   "cell_type": "markdown",
   "id": "a72926e0-831f-4c4f-a6e1-0733ec7172ea",
   "metadata": {},
   "source": [
    "version control\n",
    "\n",
    "version 1.0  - initial release\n",
    "        1.01 - corrected text typos"
   ]
  },
  {
   "cell_type": "markdown",
   "id": "30d33f29-6676-4f0c-aca0-e0b731087b15",
   "metadata": {},
   "source": [
    "Preamble:\n",
    "* imports\n",
    "* conversion factors"
   ]
  },
  {
   "cell_type": "code",
   "execution_count": null,
   "id": "63da593e-3597-4caf-9406-41ba44ec7424",
   "metadata": {},
   "outputs": [],
   "source": [
    "# imports\n",
    "import numpy as np\n",
    "import matplotlib.pyplot as plt\n",
    "plt.style.use('dark_background')"
   ]
  },
  {
   "cell_type": "code",
   "execution_count": null,
   "id": "4fbea3ea-b26e-4f3d-9f81-a69529e3163a",
   "metadata": {},
   "outputs": [],
   "source": [
    "# constants and conversion factors\n",
    "m2ft = 3.28084\n",
    "ft2m = 1 / m2ft\n",
    "kt2ms = 0.514444\n",
    "ms2kt = 1 / kt2ms\n",
    "C2K = 273.15"
   ]
  },
  {
   "cell_type": "code",
   "execution_count": null,
   "id": "66c7b893-ea2c-46cd-923e-35babe513495",
   "metadata": {},
   "outputs": [],
   "source": [
    "# International Standard Atmosphere\n",
    "T0 = 15 + C2K # (K)\n",
    "p0 = 101325 # (Pa)\n",
    "L = -6.5 / 1000 # (K/m)\n",
    "a0 = 340.2 # (m/s)\n",
    "\n",
    "rho0 = 1.225 # (kg/m3)\n",
    "R = 287.05287 # (J/kg)/K\n",
    "g_zero = 9.80665 # (m/s2)\n",
    "gamma = 1.4 # adiabatic index for air"
   ]
  },
  {
   "cell_type": "markdown",
   "id": "c59e8352-c615-49c0-9cd5-1bd6cae517d3",
   "metadata": {},
   "source": [
    "Tower Geometry Data"
   ]
  },
  {
   "cell_type": "code",
   "execution_count": null,
   "id": "ebd95d17-eeec-4b97-8bee-ffd03c430960",
   "metadata": {},
   "outputs": [],
   "source": [
    "# tower geometric data\n",
    "cam_rwy = 384 # (m)\n",
    "cam_twr = 520 # (m)\n",
    "twr = 75 # (m)\n",
    "cam_ref_h = 23 # (m)"
   ]
  },
  {
   "cell_type": "markdown",
   "id": "7317b2e5-6d82-4b9d-b652-9c764defe535",
   "metadata": {},
   "source": [
    "Aircraft and Flight Test Data"
   ]
  },
  {
   "cell_type": "code",
   "execution_count": null,
   "id": "6d33a29b-1017-4a82-8de5-8f03f5326311",
   "metadata": {},
   "outputs": [],
   "source": [
    "# data from airplane / instruments calibration\n",
    "#  wingspan\n",
    "b = 28.73 # (m)\n",
    "#  speeds\n",
    "Vmo = 320 # (kts)\n",
    "Vsr0 = 105 # (kts)\n",
    "#  instrument errors\n",
    "delta_Vic = 1 # (kts)\n",
    "delta_Hpic = 2 # (ft)"
   ]
  },
  {
   "cell_type": "code",
   "execution_count": null,
   "id": "24df0754-7e9d-42fd-a766-974d318eec33",
   "metadata": {},
   "outputs": [],
   "source": [
    "# FT data\n",
    "\n",
    "# from airplane\n",
    "Vi = np.array([132, 185, 185, 230, 225]) # (KIAS)\n",
    "Hpi = np.array([2015, 2040, 1970, 2085, 2075]) # (ft)\n",
    "delta_centerline = np.array([0, 1.0, -0.25, 0, -0.5]) # fraction of wingspan\n",
    "\n",
    "# from tower\n",
    "p_amb_cam = np.array([95454.4, 95501.7, 95467.3, 95459.3, 95509.8]) # (Pa)\n",
    "T_amb_cam = np.array([20, 20, 20, 20, 20]) # (C)\n",
    "delta_acft_photo = np.array([87.9, 98.2, 47.9, 126.3, 117.6]) # (m)"
   ]
  },
  {
   "cell_type": "markdown",
   "id": "21d43963-127b-4d18-87e6-0e65ae235f50",
   "metadata": {},
   "source": [
    "# Calculate Aicraft $\\Delta h$ - Aircraft Height Above Runway *(for each TP)*\n",
    "\n",
    "$tan(\\alpha)=\\frac{(acft\\_\\Delta h - cam\\_ref\\_h)}{cam\\_rwy \\pm off\\_centerline}=\\frac{(twr-cam\\_ref\\_h)+\\Delta acft\\_photo}{cam\\_twr}$\n",
    "\n",
    "<p></p>\n",
    "<p></p>\n",
    "<p></p>\n",
    "\n",
    "<font size=\"+2\">    \n",
    "$acft\\_\\Delta h = (cam\\_rwy\\pm off\\_centerline) \\frac{(twr-cam\\_ref\\_h)+\\Delta acft\\_photo}{cam\\_twr} + cam\\_ref\\_h)$\n",
    "</font>"
   ]
  },
  {
   "cell_type": "code",
   "execution_count": null,
   "id": "5efe77ea-a3d0-45f2-98cd-414fba231eba",
   "metadata": {},
   "outputs": [],
   "source": [
    "off_centerline = delta_centerline * b # (m)\n",
    "acft_dh = ((cam_rwy + off_centerline) * ( (twr - cam_ref_h + delta_acft_photo) / cam_twr) + cam_ref_h) * m2ft # (ft)"
   ]
  },
  {
   "cell_type": "code",
   "execution_count": null,
   "id": "4a9c18d3-4160-4a38-802c-4f4c9fc796bb",
   "metadata": {},
   "outputs": [],
   "source": [
    "np.set_printoptions(precision=0)\n",
    "print(f'Aircraft delta_h: {acft_dh} ft')"
   ]
  },
  {
   "cell_type": "markdown",
   "id": "8e1d1a8a-2778-40df-a601-66e327c00c94",
   "metadata": {},
   "source": [
    "# Find the ISA temperature at the camera position, from its ambient pressure \n",
    "\n",
    "from ambient pressure, measured at the camera position:\n",
    "\n",
    "<font size=\"+2\"> \n",
    "    \n",
    "$T_{std}=T_{0}(\\frac{p_{amb_{cam}}}{p_{0}})^{-\\frac{R*L}{g_{0}}}  $\n",
    "</font>"
   ]
  },
  {
   "cell_type": "code",
   "execution_count": null,
   "id": "75f622c5-eee0-4ecb-acc6-af193d0fcb95",
   "metadata": {},
   "outputs": [],
   "source": [
    "T_std_cam = T0 * ((p_amb_cam) / p0)**(- (R * L) / g_zero) # (K)\n",
    "print(f'Standard temperature at camera level: {T_std_cam} K') "
   ]
  },
  {
   "cell_type": "markdown",
   "id": "b1681573-7b58-43ce-a974-4357bf68859d",
   "metadata": {},
   "source": [
    "# Calculate pressure altitude at the camera position \n",
    "\n",
    "also from ambient pressure, measured at the camera position:\n",
    "\n",
    "<font size=\"+2\"> \n",
    "    \n",
    "$H_{Pcam}=\\frac{T_{0}}{L} * ((\\frac{p_{amb_{cam}}}{p_{0}})^{\\frac{-R*L}{g_{0}}}-1)$  *note units: $H_{Pic}$ in meters*\n",
    "</font>"
   ]
  },
  {
   "cell_type": "code",
   "execution_count": null,
   "id": "596e06ca-b33c-46a7-af3c-8ed7bf1e2372",
   "metadata": {},
   "outputs": [],
   "source": [
    "Hp_cam = T0 / L * ((p_amb_cam / p0)**(- (R * L) / g_zero) -1) * m2ft # (ft)\n",
    "print(f'Pressure altitude at camera: {Hp_cam} ft')"
   ]
  },
  {
   "cell_type": "markdown",
   "id": "690a1d50-8c90-4f98-9920-462000b43125",
   "metadata": {},
   "source": [
    "## Pressure Altitude at Aircraft Passing Level\n",
    "\n",
    "From the pressure altitude at the camera position, we need to add the delta altitude to reach the aircraft passing level. We have the aircraft height $\\Delta h$ (tapeline), and to transform that into delta altitude, we need to consider the difference in standard and test day temperatures:\n",
    "\n",
    "<font size=\"+2\"> \n",
    "$H_{Pc}=Hpcam+\\Delta h \\frac{T_{std}}{T_{test}}$"
   ]
  },
  {
   "cell_type": "code",
   "execution_count": null,
   "id": "4b84ed06-41a0-4c50-939b-a8358c465d3f",
   "metadata": {},
   "outputs": [],
   "source": [
    "T_amb_cam_K = T_amb_cam + C2K # (K)\n",
    "Hpc = Hp_cam + acft_dh * (T_std_cam / T_amb_cam_K) # (ft)\n",
    "print(f'Pressure altitude at aircraft passing: {Hpc} ft')"
   ]
  },
  {
   "cell_type": "markdown",
   "id": "3c09800c-4930-444f-8ed5-436691227f2b",
   "metadata": {},
   "source": [
    "## Calculate static pressure for $H_{Pc}$\n",
    "\n",
    "<font size=\"+2\"> \n",
    "$p_{static_{true}} = p_0 * (1+\\frac{L}{T_0}*(H_{Pc})^{\\frac{-g_0}{RL}})$"
   ]
  },
  {
   "cell_type": "code",
   "execution_count": null,
   "id": "237e96a4-5f6a-45f6-8eac-e573f3b6cdb1",
   "metadata": {},
   "outputs": [],
   "source": [
    "p_static_true = p0 * (1 + L / T0 * (Hpc*ft2m))**(-g_zero / ( R * L)) # (Pa)\n",
    "print(f'Static pressure at aircraft passing level: {p_static_true} Pa')"
   ]
  },
  {
   "cell_type": "markdown",
   "id": "813db5e8-79a7-4ca8-9725-5b576613dd17",
   "metadata": {},
   "source": [
    "# Aircraft Side\n",
    "## Correct for Instrument Errors\n",
    "\n",
    "$V_{ic}=V{i}+\\Delta V_{ic}$\n",
    "\n",
    "$H_{Pic}=H_{Pi}+\\Delta H_{Pic}$"
   ]
  },
  {
   "cell_type": "code",
   "execution_count": null,
   "id": "1d7d2587-bb72-4913-a7f6-67851f0c977e",
   "metadata": {},
   "outputs": [],
   "source": [
    "Vic = Vi + delta_Vic # (kts)\n",
    "Hpic = Hpi + delta_Hpic # (ft)"
   ]
  },
  {
   "cell_type": "markdown",
   "id": "2cc6a46f-331a-4c8f-9b21-8d9ad28f2693",
   "metadata": {},
   "source": [
    "# Convert $Hp_{ic}$ to Static Pressure, per International Standard Atmosphere\n",
    "at the aircraft static port:\n",
    "\n",
    "<font size=\"+2\"> \n",
    "$p_{static_{acft}} = p_0 * (1+\\frac{L}{T_0}*(H_{Pic})^{\\frac{-g_0}{RL}})$  *note units: $H_{Pic}$ in meters*"
   ]
  },
  {
   "cell_type": "code",
   "execution_count": null,
   "id": "7052128c-d478-499f-9869-29d1d5ac071b",
   "metadata": {},
   "outputs": [],
   "source": [
    "p_static_acft = p0 * (1 + L /T0 * (Hpic*ft2m))**(-g_zero / (R * L)) # (Pa)\n",
    "print(f'Static pressure from aircraft instruments: {p_static_acft} Pa')"
   ]
  },
  {
   "cell_type": "markdown",
   "id": "bc1fcb0c-05fa-4d8b-9999-f768eec7a4c6",
   "metadata": {},
   "source": [
    "# Error Calculation\n",
    "\n",
    "## Altitude Error\n",
    "\n",
    "<font size=\"+2\"> \n",
    "$\\Delta H_{Pc} = H_{Pc} - H_{Pic}$\n",
    "\n",
    "\n",
    "<font size=\"+0\">   \n",
    " -*Positive $\\Delta H_{Pc}$ translates to aircraft indicated altitude lower than true value.*-"
   ]
  },
  {
   "cell_type": "code",
   "execution_count": null,
   "id": "358129c4-a46e-4225-b869-4311f9b19d62",
   "metadata": {},
   "outputs": [],
   "source": [
    "delta_Hpc = Hpc - Hpic # (ft)\n",
    "np.set_printoptions(precision=1)\n",
    "print(f'Altitude error: {delta_Hpc} ft')"
   ]
  },
  {
   "cell_type": "markdown",
   "id": "77ae4a9b-45ca-47db-832a-e1147d842668",
   "metadata": {},
   "source": [
    "## Calculate the $\\Delta$ in static pressures (true - aircraft)\n",
    "\n",
    "i.e., the static pressure error correction\n",
    "\n",
    "<font size=\"+2\">\n",
    "$\\Delta p_{s} = p_{static_{true}} - p_{static_{acft}} $"
   ]
  },
  {
   "cell_type": "code",
   "execution_count": null,
   "id": "54a65a02-3e9f-49cb-9164-e6e7dbd56f01",
   "metadata": {},
   "outputs": [],
   "source": [
    "delta_ps = p_static_true - p_static_acft # (Pa)\n",
    "print(f'Static pressure error: {delta_ps} Pa')"
   ]
  },
  {
   "cell_type": "markdown",
   "id": "7a25e27d-a1b7-437e-b7b5-569e219d2c9c",
   "metadata": {},
   "source": [
    "## Speed Error\n",
    "\n",
    "Since we assumed all error in on the static port, we can evaluate what will be the indicated airspeed due to the static port error. Remember that the pitot measures total pressure...\n",
    "\n",
    "<font size=\"+2\">\n",
    "$\\Delta p_{d} = -\\Delta p_{s}$"
   ]
  },
  {
   "cell_type": "code",
   "execution_count": null,
   "id": "c996f6f3-0de5-413b-b6cc-640133606a64",
   "metadata": {},
   "outputs": [],
   "source": [
    "delta_pd = - delta_ps"
   ]
  },
  {
   "cell_type": "markdown",
   "id": "5f3b93c0-38eb-497b-9b93-4349e0d9cccb",
   "metadata": {},
   "source": [
    "## Translate $\\Delta p_{d}$ into speed error $\\Delta V_{pc}$\n",
    "\n",
    "<font size=5>$\\Delta V_{pc} = \\frac{a_{0}^{2} \\frac{p_{static_{true}}}{p_0}}{\\gamma*V_{ic}*(1+0.2*(\\frac{V_{ic}}{a_{0}})^2)^{2.5}}*\\frac{\\Delta p_{d}}{p_s}$"
   ]
  },
  {
   "cell_type": "code",
   "execution_count": null,
   "id": "ca1418a3-7eb9-4ec7-9d35-92eeffce7ece",
   "metadata": {},
   "outputs": [],
   "source": [
    "delta_Vpc_SI= a0**2 * (p_static_true / p0) / (gamma * (Vic * kt2ms) * (1 + 0.2 * ((Vic * kt2ms) / a0)**2)**2.5) * delta_pd / p_static_acft # (m/s)\n",
    "delta_Vpc = delta_Vpc_SI * ms2kt # (kts)\n",
    "np.set_printoptions(precision=4)\n",
    "print(f'Airspeed error: {delta_Vpc} kt')"
   ]
  },
  {
   "cell_type": "markdown",
   "id": "ca1f6301-25eb-4d05-9fe5-25c77aa0309b",
   "metadata": {},
   "source": [
    "# FAR 25.1323 Compliance Check\n",
    "\n",
    "## Speed\n",
    "\n",
    "25.1323 (c) states:\n",
    "The airspeed error of the installation, excluding the airspeed indicator instrument calibration error, may not exceed three percent or five knots, whichever is greater, throughout the speed range, from - \n",
    "\n",
    "(1) VMO  to 1.23 VSR1, with flaps retracted; and \n",
    "\n",
    "(2) 1.23 VSR0 to VFE with flaps in the landing position. "
   ]
  },
  {
   "cell_type": "code",
   "execution_count": null,
   "id": "aef6dea4-4cf1-47bf-9007-412d495b334c",
   "metadata": {},
   "outputs": [],
   "source": [
    "k_point = 5 / 0.03 # (kts)\n",
    "x_limit1 = np.linspace(Vsr0, k_point, 10)\n",
    "top_limity1 = np.ones(x_limit1.shape[0]) * 5\n",
    "bot_limity1 = top_limity1 * -1\n",
    "x_limit2 = np.linspace(k_point, Vmo, 10)\n",
    "top_limity2 = x_limit2 * 0.03\n",
    "bot_limity2 = top_limity2 * -1"
   ]
  },
  {
   "cell_type": "code",
   "execution_count": null,
   "id": "473549f9-7af7-4dec-a929-518eea1c5dc0",
   "metadata": {},
   "outputs": [],
   "source": [
    "plt.rcParams['figure.figsize'] = [12, 7]\n",
    "# plot limits\n",
    "plt.plot(x_limit1, top_limity1, 'r', label='FAR 25 limit')\n",
    "plt.plot(x_limit1, bot_limity1, 'r')\n",
    "plt.plot(x_limit2, top_limity2, 'r')\n",
    "plt.plot(x_limit2, bot_limity2, 'r')\n",
    "# plot data\n",
    "plt.plot(Vic, delta_Vpc, '+b', label='Flight Test', markersize=10)\n",
    "\n",
    "plt.xlabel('Vic (kts)')\n",
    "plt.ylabel('delta Vpc (kts)')\n",
    "plt.title('Speed Error Plot')\n",
    "plt.ylim(-10, 10)\n",
    "plt.grid(True)\n",
    "plt.legend()\n",
    "plt.show()"
   ]
  },
  {
   "cell_type": "markdown",
   "id": "139f796f-2b5c-4541-af55-cf58b65a616d",
   "metadata": {},
   "source": [
    "## Altitude - 25.1325\n",
    "(e) Each system must be designed and installed so that the error in indicated pressure altitude, at sea level, with a standard atmosphere, excluding instrument calibration error, does not result in an error of more than ±30 feet per 100 knots speed for the appropriate configuration in the speed range between 1.23 VSR0 with flaps extended and 1.7 VSR1 with flaps retracted. However, the error need not be less than ±30 feet. "
   ]
  },
  {
   "cell_type": "code",
   "execution_count": null,
   "id": "1dcf0a94-6c04-4635-aa12-eb5d0694b634",
   "metadata": {},
   "outputs": [],
   "source": [
    "k_point = 100 # (kts)\n",
    "x_limit1 = np.linspace(0, k_point, 10)\n",
    "top_limity1 = np.ones(x_limit1.shape[0]) * 30\n",
    "bot_limity1 = top_limity1 * -1\n",
    "x_limit2 = np.linspace(k_point, Vmo, 10)\n",
    "top_limity2 = x_limit2 * 0.3\n",
    "bot_limity2 = top_limity2 * -1"
   ]
  },
  {
   "cell_type": "code",
   "execution_count": null,
   "id": "7f415220-554a-4245-9b69-f61ea6cd74fd",
   "metadata": {},
   "outputs": [],
   "source": [
    "\n",
    "# plot limits\n",
    "plt.plot(x_limit1, top_limity1, 'r', label='FAR 25 limit')\n",
    "plt.plot(x_limit1, bot_limity1, 'r')\n",
    "plt.plot(x_limit2, top_limity2, 'r')\n",
    "plt.plot(x_limit2, bot_limity2, 'r')\n",
    "# plot data\n",
    "plt.plot(Vic, delta_Hpc, '+b', label='Flight Test', markersize=10)\n",
    "\n",
    "plt.xlabel('Vic (kts)')\n",
    "plt.ylabel('delta Hpc (ft)')\n",
    "plt.title('Altitude Error Plot')\n",
    "#plt.ylim(-10, 10)\n",
    "plt.grid(True)\n",
    "plt.legend()\n",
    "plt.show()"
   ]
  },
  {
   "cell_type": "code",
   "execution_count": null,
   "id": "a38b8192-4b9a-40bb-aeee-ac067a16150e",
   "metadata": {},
   "outputs": [],
   "source": []
  }
 ],
 "metadata": {
  "kernelspec": {
   "display_name": "Python 3 (ipykernel)",
   "language": "python",
   "name": "python3"
  },
  "language_info": {
   "codemirror_mode": {
    "name": "ipython",
    "version": 3
   },
   "file_extension": ".py",
   "mimetype": "text/x-python",
   "name": "python",
   "nbconvert_exporter": "python",
   "pygments_lexer": "ipython3",
   "version": "3.10.6"
  }
 },
 "nbformat": 4,
 "nbformat_minor": 5
}
